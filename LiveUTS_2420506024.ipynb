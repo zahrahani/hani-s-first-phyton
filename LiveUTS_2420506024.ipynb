{
  "nbformat": 4,
  "nbformat_minor": 0,
  "metadata": {
    "colab": {
      "provenance": [],
      "authorship_tag": "ABX9TyN8UR+Irz4/yQ2/vFjje7vP",
      "include_colab_link": true
    },
    "kernelspec": {
      "name": "python3",
      "display_name": "Python 3"
    },
    "language_info": {
      "name": "python"
    }
  },
  "cells": [
    {
      "cell_type": "markdown",
      "metadata": {
        "id": "view-in-github",
        "colab_type": "text"
      },
      "source": [
        "<a href=\"https://colab.research.google.com/github/zahrahani/hani-s-first-python/blob/main/LiveUTS_2420506024.ipynb\" target=\"_parent\"><img src=\"https://colab.research.google.com/assets/colab-badge.svg\" alt=\"Open In Colab\"/></a>"
      ]
    },
    {
      "cell_type": "markdown",
      "source": [
        "# UTS"
      ],
      "metadata": {
        "id": "E80IBxnGcz-S"
      }
    },
    {
      "cell_type": "markdown",
      "source": [
        "## No. 1"
      ],
      "metadata": {
        "id": "6bHuQh-7cykM"
      }
    },
    {
      "cell_type": "code",
      "execution_count": null,
      "metadata": {
        "id": "9D1XA01JXPtL"
      },
      "outputs": [],
      "source": [
        "# program untuk mendeteksi jumlah bilangan ganjil\n",
        "# dan bilangan genap pada NPM yang diinputkan\n",
        "\n",
        "NPM = int(input(\"Masukkan NPM = \"))\n",
        "list_NPM = [2]\n",
        "jumlah_genap = 0\n",
        "jumlah_ganjil = 0\n",
        "\n",
        "for i in range(NPM):\n",
        "    list_NPM.append(NPM)\n",
        "    for j in list_NPM:\n",
        "        if NPM % 2 == 0:\n",
        "           jumlah_genap += 1\n",
        "        else:\n",
        "           jumlah_ganjil += 1\n",
        "\n",
        "print(\"Jumlah angka genap = \", jumlah_genap)\n",
        "print(\"Jumlah angka ganjil = \", jumlah_ganjil)"
      ]
    },
    {
      "cell_type": "code",
      "source": [
        "# program untuk mendeteksi jumlah bilangan ganjil\n",
        "# dan bilangan genap pada NPM yang diinputkan\n",
        "\n",
        "NPM = int(input(\"Masukkan NPM = \"))\n",
        "NPM = str(NPM)\n",
        "\n",
        "jumlah_genap = 0\n",
        "jumlah_ganjil = 0\n",
        "\n",
        "for digit in NPM:\n",
        "    digit = int(digit)\n",
        "    if digit % 2 == 0:\n",
        "       jumlah_genap += 1\n",
        "    else:\n",
        "       jumlah_ganjil += 1\n",
        "\n",
        "print(\"Jumlah angka genap = \", jumlah_genap)\n",
        "print(\"Jumlah angka ganjil = \", jumlah_ganjil)"
      ],
      "metadata": {
        "colab": {
          "base_uri": "https://localhost:8080/"
        },
        "id": "ngDNRT3nxmI6",
        "outputId": "a4b596f7-9c95-4847-febe-b2a07b292f1d"
      },
      "execution_count": null,
      "outputs": [
        {
          "output_type": "stream",
          "name": "stdout",
          "text": [
            "Masukkan NPM = 2420506024\n",
            "Jumlah angka genap =  9\n",
            "Jumlah angka ganjil =  1\n"
          ]
        }
      ]
    },
    {
      "cell_type": "markdown",
      "source": [
        "## No. 2"
      ],
      "metadata": {
        "id": "H0WpUQiddGZz"
      }
    },
    {
      "cell_type": "code",
      "source": [
        "# program untuk membuat segitiga angka\n",
        "\n",
        "tinggi = 10\n",
        "i = 1\n",
        "\n",
        "for i in range(i, tinggi + 1):\n",
        "    for j in range(1, i + 1):\n",
        "        print(i * j, end=\" \")\n",
        "    print(\"\")"
      ],
      "metadata": {
        "colab": {
          "base_uri": "https://localhost:8080/"
        },
        "id": "i_-o7psMtQSh",
        "outputId": "1bbf0dc0-ff37-47bf-aaaf-d0c0e98f6ab4"
      },
      "execution_count": null,
      "outputs": [
        {
          "output_type": "stream",
          "name": "stdout",
          "text": [
            "1 \n",
            "2 4 \n",
            "3 6 9 \n",
            "4 8 12 16 \n",
            "5 10 15 20 25 \n",
            "6 12 18 24 30 36 \n",
            "7 14 21 28 35 42 49 \n",
            "8 16 24 32 40 48 56 64 \n",
            "9 18 27 36 45 54 63 72 81 \n",
            "10 20 30 40 50 60 70 80 90 100 \n"
          ]
        }
      ]
    },
    {
      "cell_type": "code",
      "source": [
        "# program untuk membuat segitiga angka dengan input\n",
        "\n",
        "tinggi = int(input(\"Masukkan tinggi segitiga = \"))\n",
        "i = 1\n",
        "\n",
        "for i in range(i, tinggi + 1):\n",
        "    for j in range(1, i + 1):\n",
        "        print(i * j, end=\" \")\n",
        "    print(\"\")"
      ],
      "metadata": {
        "colab": {
          "base_uri": "https://localhost:8080/"
        },
        "id": "fDHkC0nRmujx",
        "outputId": "0f0dd382-0c0f-42eb-ae03-8c52f7c2f236"
      },
      "execution_count": null,
      "outputs": [
        {
          "output_type": "stream",
          "name": "stdout",
          "text": [
            "Masukkan tinggi segitiga = 5\n",
            "1 \n",
            "2 4 \n",
            "3 6 9 \n",
            "4 8 12 16 \n",
            "5 10 15 20 25 \n"
          ]
        }
      ]
    },
    {
      "cell_type": "code",
      "source": [
        "tinggi = int(input(\"Masukkan tinggi segitiga = \"))\n",
        "\n",
        "for i in range(tinggi):\n",
        "    for j in range(tinggi - i - 1):\n",
        "        print(end=\"\")\n",
        "    C = 1\n",
        "    for k in range(i + 1):\n",
        "        C = C * (i + 1)\n",
        "        print(C, end=\" \")\n",
        "    print(\"\")"
      ],
      "metadata": {
        "colab": {
          "base_uri": "https://localhost:8080/"
        },
        "id": "Zn2uEmxTZF3Z",
        "outputId": "d87acbdf-0959-4b93-99f2-1ff948cd7de6"
      },
      "execution_count": null,
      "outputs": [
        {
          "output_type": "stream",
          "name": "stdout",
          "text": [
            "Masukkan tinggi segitiga = 4\n",
            "1 \n",
            "2 4 \n",
            "3 9 27 \n",
            "4 16 64 256 \n"
          ]
        }
      ]
    }
  ]
}