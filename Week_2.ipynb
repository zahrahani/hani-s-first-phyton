{
  "cells": [
    {
      "cell_type": "markdown",
      "metadata": {
        "id": "view-in-github",
        "colab_type": "text"
      },
      "source": [
        "<a href=\"https://colab.research.google.com/github/zahrahani/hani-s-first-python/blob/main/Week_2.ipynb\" target=\"_parent\"><img src=\"https://colab.research.google.com/assets/colab-badge.svg\" alt=\"Open In Colab\"/></a>"
      ]
    },
    {
      "cell_type": "code",
      "source": [
        "#input bilangan integer\n",
        "\n",
        "30"
      ],
      "metadata": {
        "colab": {
          "base_uri": "https://localhost:8080/"
        },
        "id": "bkbEo0IDekVi",
        "outputId": "051a39c0-3c66-4f9d-e4f0-e50f92eebdb9"
      },
      "execution_count": null,
      "outputs": [
        {
          "output_type": "execute_result",
          "data": {
            "text/plain": [
              "30"
            ]
          },
          "metadata": {},
          "execution_count": 44
        }
      ]
    },
    {
      "cell_type": "code",
      "source": [
        "#input bilangan float\n",
        "\n",
        "12.3"
      ],
      "metadata": {
        "colab": {
          "base_uri": "https://localhost:8080/"
        },
        "id": "F9J_jVMpekR7",
        "outputId": "52312b95-385e-47ae-e5ec-998d5916b4fa"
      },
      "execution_count": null,
      "outputs": [
        {
          "output_type": "execute_result",
          "data": {
            "text/plain": [
              "12.3"
            ]
          },
          "metadata": {},
          "execution_count": 1
        }
      ]
    },
    {
      "cell_type": "code",
      "source": [
        "#input dan print string\n",
        "\n",
        "print('program Phyton ke-2 Hani')"
      ],
      "metadata": {
        "colab": {
          "base_uri": "https://localhost:8080/"
        },
        "id": "QI0vyS4HekNt",
        "outputId": "631432c6-8423-45df-9d63-eaf16a8af009"
      },
      "execution_count": null,
      "outputs": [
        {
          "output_type": "stream",
          "name": "stdout",
          "text": [
            "program Phyton kedua Hani\n"
          ]
        }
      ]
    },
    {
      "cell_type": "code",
      "source": [
        "#input dan print string\n",
        "\n",
        "print(\"jangan ya dek ya')"
      ],
      "metadata": {
        "colab": {
          "base_uri": "https://localhost:8080/",
          "height": 111
        },
        "id": "qCZ_01LBHviZ",
        "outputId": "2f9b7f87-3716-411a-c944-0306bfdfc157"
      },
      "execution_count": null,
      "outputs": [
        {
          "output_type": "error",
          "ename": "SyntaxError",
          "evalue": "unterminated string literal (detected at line 3) (<ipython-input-1-1b5e0620a5e7>, line 3)",
          "traceback": [
            "\u001b[0;36m  File \u001b[0;32m\"<ipython-input-1-1b5e0620a5e7>\"\u001b[0;36m, line \u001b[0;32m3\u001b[0m\n\u001b[0;31m    print(\"jangan ya dek ya')\u001b[0m\n\u001b[0m          ^\u001b[0m\n\u001b[0;31mSyntaxError\u001b[0m\u001b[0;31m:\u001b[0m unterminated string literal (detected at line 3)\n"
          ]
        }
      ]
    },
    {
      "cell_type": "code",
      "source": [
        "#menanyakan tipe bilangan dengan input bilangan bulat\n",
        "\n",
        "type(30)"
      ],
      "metadata": {
        "colab": {
          "base_uri": "https://localhost:8080/"
        },
        "id": "2nfOj00aekLK",
        "outputId": "9eda380c-a8a6-48c9-d8b0-7078148b2a75"
      },
      "execution_count": null,
      "outputs": [
        {
          "output_type": "execute_result",
          "data": {
            "text/plain": [
              "int"
            ]
          },
          "metadata": {},
          "execution_count": 47
        }
      ]
    },
    {
      "cell_type": "code",
      "source": [
        "#menanyakan tipe bilangan dengan input bilangan desimal\n",
        "\n",
        "type(12.3)"
      ],
      "metadata": {
        "colab": {
          "base_uri": "https://localhost:8080/"
        },
        "id": "1yPO1-zKekIt",
        "outputId": "b5eb21b7-6454-45e0-b075-a41eac977aa6"
      },
      "execution_count": null,
      "outputs": [
        {
          "output_type": "execute_result",
          "data": {
            "text/plain": [
              "float"
            ]
          },
          "metadata": {},
          "execution_count": 48
        }
      ]
    },
    {
      "cell_type": "code",
      "source": [
        "#tipe dari kalimat 'program Phyton ke-2 Hani'\n",
        "\n",
        "type('program Phyton ke-2 Hani')"
      ],
      "metadata": {
        "id": "PjEBtxrPekF2",
        "colab": {
          "base_uri": "https://localhost:8080/"
        },
        "outputId": "86fbf858-ee50-48bf-d0ea-cd65c05d869c"
      },
      "execution_count": null,
      "outputs": [
        {
          "output_type": "execute_result",
          "data": {
            "text/plain": [
              "str"
            ]
          },
          "metadata": {},
          "execution_count": 2
        }
      ]
    },
    {
      "cell_type": "code",
      "source": [
        "#tipe dari angka -5\n",
        "\n",
        "type(-5)"
      ],
      "metadata": {
        "id": "CTntboNiej3n",
        "colab": {
          "base_uri": "https://localhost:8080/"
        },
        "outputId": "433d8ea5-3f19-4eef-d9f4-4743d97566c6"
      },
      "execution_count": null,
      "outputs": [
        {
          "output_type": "execute_result",
          "data": {
            "text/plain": [
              "int"
            ]
          },
          "metadata": {},
          "execution_count": 3
        }
      ]
    },
    {
      "cell_type": "code",
      "source": [
        "#tipe dari angka 0\n",
        "\n",
        "type(0)"
      ],
      "metadata": {
        "colab": {
          "base_uri": "https://localhost:8080/"
        },
        "id": "E1Tlh9_joAdK",
        "outputId": "d7df882d-6093-437d-e526-c39a9c8d5cab"
      },
      "execution_count": null,
      "outputs": [
        {
          "output_type": "execute_result",
          "data": {
            "text/plain": [
              "int"
            ]
          },
          "metadata": {},
          "execution_count": 5
        }
      ]
    },
    {
      "cell_type": "code",
      "source": [
        "#Tipe dari Angka 100\n",
        "\n",
        "type(100)"
      ],
      "metadata": {
        "colab": {
          "base_uri": "https://localhost:8080/"
        },
        "id": "z2_I6VwPn2Ry",
        "outputId": "259c068b-e2d4-4b96-cc73-f3040ebf9fc2"
      },
      "execution_count": null,
      "outputs": [
        {
          "output_type": "execute_result",
          "data": {
            "text/plain": [
              "int"
            ]
          },
          "metadata": {},
          "execution_count": 4
        }
      ]
    },
    {
      "cell_type": "code",
      "source": [
        "#tipe dari angka 1.5\n",
        "\n",
        "type(1.5)"
      ],
      "metadata": {
        "colab": {
          "base_uri": "https://localhost:8080/"
        },
        "id": "1yBTEScEn2IV",
        "outputId": "82a70651-0dc4-4ae8-ec90-38d16f2d4df0"
      },
      "execution_count": null,
      "outputs": [
        {
          "output_type": "execute_result",
          "data": {
            "text/plain": [
              "float"
            ]
          },
          "metadata": {},
          "execution_count": 1
        }
      ]
    },
    {
      "cell_type": "code",
      "source": [
        "#tipe dari angka 0.123\n",
        "\n",
        "type(0.123)"
      ],
      "metadata": {
        "colab": {
          "base_uri": "https://localhost:8080/"
        },
        "id": "cImhQTAnn1lx",
        "outputId": "b00175dc-19dc-4893-dc5d-3309c15634e5"
      },
      "execution_count": null,
      "outputs": [
        {
          "output_type": "execute_result",
          "data": {
            "text/plain": [
              "float"
            ]
          },
          "metadata": {},
          "execution_count": 7
        }
      ]
    },
    {
      "cell_type": "code",
      "source": [
        "#tipe dari 12/5\n",
        "\n",
        "type(12/5)"
      ],
      "metadata": {
        "colab": {
          "base_uri": "https://localhost:8080/"
        },
        "id": "b6meeoUNPwOI",
        "outputId": "9f5689a7-caf7-4099-9464-cf9555281a65"
      },
      "execution_count": null,
      "outputs": [
        {
          "output_type": "execute_result",
          "data": {
            "text/plain": [
              "float"
            ]
          },
          "metadata": {},
          "execution_count": 2
        }
      ]
    },
    {
      "cell_type": "code",
      "source": [
        "#melihat informasi integer\n",
        "#impor file sys dan cetaklah\n",
        "\n",
        "import sys\n",
        "print(sys.int_info)"
      ],
      "metadata": {
        "colab": {
          "base_uri": "https://localhost:8080/"
        },
        "id": "DvK-12BGUhHl",
        "outputId": "c1b384f5-2e60-408f-97bd-47d3ebaf6683"
      },
      "execution_count": null,
      "outputs": [
        {
          "output_type": "stream",
          "name": "stdout",
          "text": [
            "sys.int_info(bits_per_digit=30, sizeof_digit=4, default_max_str_digits=4300, str_digits_check_threshold=640)\n"
          ]
        }
      ]
    },
    {
      "cell_type": "code",
      "source": [
        "#melihat informasi tentang float\n",
        "#impor sys dan cetak informasi tentang float\n",
        "\n",
        "import sys\n",
        "print(sys.float_info)"
      ],
      "metadata": {
        "colab": {
          "base_uri": "https://localhost:8080/"
        },
        "id": "KwD-3JpfpIiC",
        "outputId": "c2ddbf3f-1700-4cb9-e212-2c8e86f81c4a"
      },
      "execution_count": null,
      "outputs": [
        {
          "output_type": "stream",
          "name": "stdout",
          "text": [
            "sys.float_info(max=1.7976931348623157e+308, max_exp=1024, max_10_exp=308, min=2.2250738585072014e-308, min_exp=-1021, min_10_exp=-307, dig=15, mant_dig=53, epsilon=2.220446049250313e-16, radix=2, rounds=1)\n"
          ]
        }
      ]
    },
    {
      "cell_type": "markdown",
      "source": [
        "**Konversi Tipe**"
      ],
      "metadata": {
        "id": "ci2lQqv2tV-j"
      }
    },
    {
      "cell_type": "code",
      "source": [
        "#mengonversi integer menjadi float\n",
        "\n",
        "#memastikan bahwa 12 tipe integer\n",
        "type(12) #akan menampilkan tipe dari angka 12, yaitu integer\n",
        "\n",
        "#mengonversi 12 integer menjadi 12 float\n",
        "float(12) #akan menampilkan angka 12 dengan tipe float, yaitu 12.0"
      ],
      "metadata": {
        "colab": {
          "base_uri": "https://localhost:8080/"
        },
        "id": "CLTvjo86qiar",
        "outputId": "762f921e-d513-4fbe-8ccc-3bcaf6d69de1"
      },
      "execution_count": null,
      "outputs": [
        {
          "output_type": "execute_result",
          "data": {
            "text/plain": [
              "12.0"
            ]
          },
          "metadata": {},
          "execution_count": 9
        }
      ]
    },
    {
      "cell_type": "code",
      "source": [
        "#mengonversi float menjadi int\n",
        "\n",
        "int(2.1) #akan menampilkan pembulatan dari bilangan 2.1"
      ],
      "metadata": {
        "colab": {
          "base_uri": "https://localhost:8080/"
        },
        "id": "Td5Z42kvrg1K",
        "outputId": "0290c9f0-3f8c-4952-9993-a9c97c7e4aa9"
      },
      "execution_count": null,
      "outputs": [
        {
          "output_type": "execute_result",
          "data": {
            "text/plain": [
              "2"
            ]
          },
          "metadata": {},
          "execution_count": 15
        }
      ]
    },
    {
      "cell_type": "code",
      "source": [
        "#mengonversi float menjadi int\n",
        "\n",
        "int(5.5) #akan menampilkan pembulatan dari bilangan 5.5"
      ],
      "metadata": {
        "colab": {
          "base_uri": "https://localhost:8080/"
        },
        "id": "UbSNjXXWrMVg",
        "outputId": "cae67048-089a-4435-dff0-cddb9bc9f480"
      },
      "execution_count": null,
      "outputs": [
        {
          "output_type": "execute_result",
          "data": {
            "text/plain": [
              "5"
            ]
          },
          "metadata": {},
          "execution_count": 16
        }
      ]
    },
    {
      "cell_type": "code",
      "source": [
        "#mengonversi float menjadi int\n",
        "\n",
        "int(9.99) #menampilkan bilangan integernya dan menghilangkan angka dibelakang koma"
      ],
      "metadata": {
        "colab": {
          "base_uri": "https://localhost:8080/"
        },
        "id": "PZFAXUAcsfPc",
        "outputId": "30aeff6a-1073-47a3-e413-75d967c9d96b"
      },
      "execution_count": null,
      "outputs": [
        {
          "output_type": "execute_result",
          "data": {
            "text/plain": [
              "9"
            ]
          },
          "metadata": {},
          "execution_count": 19
        }
      ]
    },
    {
      "cell_type": "code",
      "source": [
        "#memastikan 9.99 bertipe float\n",
        "\n",
        "type(9.99)"
      ],
      "metadata": {
        "colab": {
          "base_uri": "https://localhost:8080/"
        },
        "id": "PMyX_DKUe9PD",
        "outputId": "fb27d3bb-be6a-4e94-f7e0-76e67893e6ac"
      },
      "execution_count": null,
      "outputs": [
        {
          "output_type": "execute_result",
          "data": {
            "text/plain": [
              "float"
            ]
          },
          "metadata": {},
          "execution_count": 15
        }
      ]
    },
    {
      "cell_type": "code",
      "source": [
        "#konversi 9.99 ke int\n",
        "\n",
        "int(9.99)"
      ],
      "metadata": {
        "colab": {
          "base_uri": "https://localhost:8080/"
        },
        "id": "Y1lyDcyqfUvF",
        "outputId": "5015d358-c38e-404f-98cf-7916eab73186"
      },
      "execution_count": null,
      "outputs": [
        {
          "output_type": "execute_result",
          "data": {
            "text/plain": [
              "9"
            ]
          },
          "metadata": {},
          "execution_count": 16
        }
      ]
    },
    {
      "cell_type": "code",
      "source": [
        "#konversi str ke int\n",
        "\n",
        "int('12')"
      ],
      "metadata": {
        "colab": {
          "base_uri": "https://localhost:8080/"
        },
        "id": "i5eWUhnCHU1X",
        "outputId": "a5816a6d-a9f2-4369-d1f5-74049efca659"
      },
      "execution_count": null,
      "outputs": [
        {
          "output_type": "execute_result",
          "data": {
            "text/plain": [
              "12"
            ]
          },
          "metadata": {},
          "execution_count": 4
        }
      ]
    },
    {
      "cell_type": "code",
      "source": [
        "#konversi str ke int\n",
        "\n",
        "int('twelve')"
      ],
      "metadata": {
        "colab": {
          "base_uri": "https://localhost:8080/",
          "height": 148
        },
        "id": "7ac5u9FIuJrE",
        "outputId": "efea9af0-9846-4abb-9030-f00729c36e3e"
      },
      "execution_count": null,
      "outputs": [
        {
          "output_type": "error",
          "ename": "ValueError",
          "evalue": "invalid literal for int() with base 10: 'twelve'",
          "traceback": [
            "\u001b[0;31m---------------------------------------------------------------------------\u001b[0m",
            "\u001b[0;31mValueError\u001b[0m                                Traceback (most recent call last)",
            "\u001b[0;32m<ipython-input-25-bcdccb17a8a6>\u001b[0m in \u001b[0;36m<cell line: 1>\u001b[0;34m()\u001b[0m\n\u001b[0;32m----> 1\u001b[0;31m \u001b[0mint\u001b[0m\u001b[0;34m(\u001b[0m\u001b[0;34m'twelve'\u001b[0m\u001b[0;34m)\u001b[0m\u001b[0;34m\u001b[0m\u001b[0;34m\u001b[0m\u001b[0m\n\u001b[0m",
            "\u001b[0;31mValueError\u001b[0m: invalid literal for int() with base 10: 'twelve'"
          ]
        }
      ]
    },
    {
      "cell_type": "code",
      "source": [
        "#konversi str ke float\n",
        "\n",
        "float('9.3')"
      ],
      "metadata": {
        "colab": {
          "base_uri": "https://localhost:8080/"
        },
        "id": "G_bVQtwhu-e6",
        "outputId": "2eb84415-a22a-4468-c0d6-8faf1ce33391"
      },
      "execution_count": null,
      "outputs": [
        {
          "output_type": "execute_result",
          "data": {
            "text/plain": [
              "9.3"
            ]
          },
          "metadata": {},
          "execution_count": 8
        }
      ]
    },
    {
      "cell_type": "code",
      "source": [
        "float(9.3)"
      ],
      "metadata": {
        "colab": {
          "base_uri": "https://localhost:8080/"
        },
        "id": "ouAYKurMvIrT",
        "outputId": "83553497-8cf4-48b8-b65d-bc410a8d4f64"
      },
      "execution_count": null,
      "outputs": [
        {
          "output_type": "execute_result",
          "data": {
            "text/plain": [
              "9.3"
            ]
          },
          "metadata": {},
          "execution_count": 32
        }
      ]
    },
    {
      "cell_type": "code",
      "source": [
        "str(\"9.5')"
      ],
      "metadata": {
        "colab": {
          "base_uri": "https://localhost:8080/",
          "height": 111
        },
        "id": "vVswqR7MvPj7",
        "outputId": "19f25990-bcdd-41d1-999d-0a2df689d3f9"
      },
      "execution_count": null,
      "outputs": [
        {
          "output_type": "error",
          "ename": "SyntaxError",
          "evalue": "unterminated string literal (detected at line 1) (<ipython-input-33-56568b048aa2>, line 1)",
          "traceback": [
            "\u001b[0;36m  File \u001b[0;32m\"<ipython-input-33-56568b048aa2>\"\u001b[0;36m, line \u001b[0;32m1\u001b[0m\n\u001b[0;31m    str(\"9.5')\u001b[0m\n\u001b[0m        ^\u001b[0m\n\u001b[0;31mSyntaxError\u001b[0m\u001b[0;31m:\u001b[0m unterminated string literal (detected at line 1)\n"
          ]
        }
      ]
    },
    {
      "cell_type": "code",
      "source": [
        "#konversi int ke str\n",
        "\n",
        "str(114)"
      ],
      "metadata": {
        "colab": {
          "base_uri": "https://localhost:8080/",
          "height": 36
        },
        "id": "CQi5yqdPvVgq",
        "outputId": "e1e77e97-eb82-4e34-e97c-deb6ac1db5e1"
      },
      "execution_count": null,
      "outputs": [
        {
          "output_type": "execute_result",
          "data": {
            "text/plain": [
              "'114'"
            ],
            "application/vnd.google.colaboratory.intrinsic+json": {
              "type": "string"
            }
          },
          "metadata": {},
          "execution_count": 34
        }
      ]
    },
    {
      "cell_type": "code",
      "source": [
        "#konversi float ke str\n",
        "\n",
        "str(12.4)"
      ],
      "metadata": {
        "colab": {
          "base_uri": "https://localhost:8080/",
          "height": 36
        },
        "id": "iWNx4-EZvvgU",
        "outputId": "78f92c52-31ac-421c-9655-f084f7ded232"
      },
      "execution_count": null,
      "outputs": [
        {
          "output_type": "execute_result",
          "data": {
            "text/plain": [
              "'12.4'"
            ],
            "application/vnd.google.colaboratory.intrinsic+json": {
              "type": "string"
            }
          },
          "metadata": {},
          "execution_count": 35
        }
      ]
    },
    {
      "cell_type": "markdown",
      "source": [
        "**Boolean**"
      ],
      "metadata": {
        "id": "q7Zn35_Mv6YF"
      }
    },
    {
      "cell_type": "code",
      "source": [
        "#Mengenal boolean"
      ],
      "metadata": {
        "id": "XHzPQTuywWTH"
      },
      "execution_count": null,
      "outputs": []
    },
    {
      "cell_type": "code",
      "source": [
        "#tipe True\n",
        "\n",
        "type(True)"
      ],
      "metadata": {
        "colab": {
          "base_uri": "https://localhost:8080/"
        },
        "id": "rxXipdcPQAy0",
        "outputId": "8ea5b83d-0507-4995-eb7f-081a54c4f299"
      },
      "execution_count": null,
      "outputs": [
        {
          "output_type": "execute_result",
          "data": {
            "text/plain": [
              "bool"
            ]
          },
          "metadata": {},
          "execution_count": 9
        }
      ]
    },
    {
      "cell_type": "code",
      "source": [
        "#tipe False\n",
        "\n",
        "type(False)"
      ],
      "metadata": {
        "colab": {
          "base_uri": "https://localhost:8080/"
        },
        "id": "qVIHMX-4wj74",
        "outputId": "318b94d5-5233-4385-aada-083323dce704"
      },
      "execution_count": null,
      "outputs": [
        {
          "output_type": "execute_result",
          "data": {
            "text/plain": [
              "bool"
            ]
          },
          "metadata": {},
          "execution_count": 41
        }
      ]
    },
    {
      "cell_type": "code",
      "source": [
        "type(true)"
      ],
      "metadata": {
        "id": "uYNyYZ5tVde9",
        "outputId": "8d801254-a22d-492b-f980-c05b2624c8dd",
        "colab": {
          "base_uri": "https://localhost:8080/",
          "height": 148
        }
      },
      "execution_count": null,
      "outputs": [
        {
          "output_type": "error",
          "ename": "NameError",
          "evalue": "name 'true' is not defined",
          "traceback": [
            "\u001b[0;31m---------------------------------------------------------------------------\u001b[0m",
            "\u001b[0;31mNameError\u001b[0m                                 Traceback (most recent call last)",
            "\u001b[0;32m<ipython-input-11-6f4d8242c3d0>\u001b[0m in \u001b[0;36m<cell line: 1>\u001b[0;34m()\u001b[0m\n\u001b[0;32m----> 1\u001b[0;31m \u001b[0mtype\u001b[0m\u001b[0;34m(\u001b[0m\u001b[0mtrue\u001b[0m\u001b[0;34m)\u001b[0m\u001b[0;34m\u001b[0m\u001b[0;34m\u001b[0m\u001b[0m\n\u001b[0m",
            "\u001b[0;31mNameError\u001b[0m: name 'true' is not defined"
          ]
        }
      ]
    },
    {
      "cell_type": "code",
      "source": [
        "int(True)"
      ],
      "metadata": {
        "colab": {
          "base_uri": "https://localhost:8080/"
        },
        "id": "8NwMrbLxwmUs",
        "outputId": "97e4248b-0ec7-4e41-e601-065a20a9d1f4"
      },
      "execution_count": null,
      "outputs": [
        {
          "output_type": "execute_result",
          "data": {
            "text/plain": [
              "1"
            ]
          },
          "metadata": {},
          "execution_count": 42
        }
      ]
    },
    {
      "cell_type": "code",
      "source": [
        "float(True)"
      ],
      "metadata": {
        "colab": {
          "base_uri": "https://localhost:8080/"
        },
        "id": "Odp1gqHlw9tw",
        "outputId": "8c4c3d92-e141-4fcc-c1ed-105f20d0a41f"
      },
      "execution_count": null,
      "outputs": [
        {
          "output_type": "execute_result",
          "data": {
            "text/plain": [
              "1.0"
            ]
          },
          "metadata": {},
          "execution_count": 46
        }
      ]
    },
    {
      "cell_type": "code",
      "source": [
        "int(False)"
      ],
      "metadata": {
        "colab": {
          "base_uri": "https://localhost:8080/"
        },
        "id": "0By3FwatwyuU",
        "outputId": "827c2cae-d10f-4dc3-bbb9-85d37e5d6f9b"
      },
      "execution_count": null,
      "outputs": [
        {
          "output_type": "execute_result",
          "data": {
            "text/plain": [
              "0"
            ]
          },
          "metadata": {},
          "execution_count": 43
        }
      ]
    },
    {
      "cell_type": "code",
      "source": [
        "str(True)"
      ],
      "metadata": {
        "colab": {
          "base_uri": "https://localhost:8080/",
          "height": 36
        },
        "id": "BNt8PDrVw__N",
        "outputId": "27caba2c-c804-4f12-fa11-9963ab24e5e9"
      },
      "execution_count": null,
      "outputs": [
        {
          "output_type": "execute_result",
          "data": {
            "text/plain": [
              "'True'"
            ],
            "application/vnd.google.colaboratory.intrinsic+json": {
              "type": "string"
            }
          },
          "metadata": {},
          "execution_count": 48
        }
      ]
    },
    {
      "cell_type": "code",
      "source": [
        "float(False)"
      ],
      "metadata": {
        "colab": {
          "base_uri": "https://localhost:8080/"
        },
        "id": "d3U91U2aTcYr",
        "outputId": "adb96074-3b81-490f-c5d1-d41ba545c121"
      },
      "execution_count": null,
      "outputs": [
        {
          "output_type": "execute_result",
          "data": {
            "text/plain": [
              "0.0"
            ]
          },
          "metadata": {},
          "execution_count": 10
        }
      ]
    },
    {
      "cell_type": "code",
      "source": [
        "bool(1)"
      ],
      "metadata": {
        "colab": {
          "base_uri": "https://localhost:8080/"
        },
        "id": "R7p3VMw3w2k4",
        "outputId": "a48ac1a4-189e-470b-c482-8dca68b8c47e"
      },
      "execution_count": null,
      "outputs": [
        {
          "output_type": "execute_result",
          "data": {
            "text/plain": [
              "True"
            ]
          },
          "metadata": {},
          "execution_count": 44
        }
      ]
    },
    {
      "cell_type": "code",
      "source": [
        "bool(0)"
      ],
      "metadata": {
        "colab": {
          "base_uri": "https://localhost:8080/"
        },
        "id": "kbyQbatzw02x",
        "outputId": "d094f5a7-3459-4e60-b0ab-d5e2de0360b6"
      },
      "execution_count": null,
      "outputs": [
        {
          "output_type": "execute_result",
          "data": {
            "text/plain": [
              "False"
            ]
          },
          "metadata": {},
          "execution_count": 45
        }
      ]
    },
    {
      "cell_type": "markdown",
      "source": [
        "**Exercise: Tipe**"
      ],
      "metadata": {
        "id": "SVvgQ0eCxIjJ"
      }
    },
    {
      "cell_type": "code",
      "source": [
        "type(12/4)"
      ],
      "metadata": {
        "colab": {
          "base_uri": "https://localhost:8080/"
        },
        "id": "BT1q5wEHxIFu",
        "outputId": "e34d0832-75fd-44e6-9246-4d92a5d8dd5e"
      },
      "execution_count": null,
      "outputs": [
        {
          "output_type": "execute_result",
          "data": {
            "text/plain": [
              "float"
            ]
          },
          "metadata": {},
          "execution_count": 49
        }
      ]
    },
    {
      "cell_type": "code",
      "source": [
        "type(12//4)"
      ],
      "metadata": {
        "colab": {
          "base_uri": "https://localhost:8080/"
        },
        "id": "hTtlyxPTxeIg",
        "outputId": "61f5de64-a30d-466c-aed2-f2bdedd1de4a"
      },
      "execution_count": null,
      "outputs": [
        {
          "output_type": "execute_result",
          "data": {
            "text/plain": [
              "int"
            ]
          },
          "metadata": {},
          "execution_count": 50
        }
      ]
    },
    {
      "cell_type": "markdown",
      "source": [
        "**Ekspresi dan Variabel**"
      ],
      "metadata": {
        "id": "xia7Uh3axmet"
      }
    },
    {
      "cell_type": "markdown",
      "source": [
        "Ekspresi"
      ],
      "metadata": {
        "id": "--kU2Ah-0UtX"
      }
    },
    {
      "cell_type": "code",
      "source": [
        "#Penjumlahan\n",
        "\n",
        "14 + 30"
      ],
      "metadata": {
        "colab": {
          "base_uri": "https://localhost:8080/"
        },
        "id": "5xZzJiJJxjRH",
        "outputId": "44079ca4-7162-4aa8-d0a4-f273948e41d9"
      },
      "execution_count": null,
      "outputs": [
        {
          "output_type": "execute_result",
          "data": {
            "text/plain": [
              "44"
            ]
          },
          "metadata": {},
          "execution_count": 16
        }
      ]
    },
    {
      "cell_type": "code",
      "source": [
        "#Pengurangan\n",
        "\n",
        "112 - 1230"
      ],
      "metadata": {
        "colab": {
          "base_uri": "https://localhost:8080/"
        },
        "id": "S1g0ZG68x_ZV",
        "outputId": "340ef14e-32b1-430b-e214-ff266959d611"
      },
      "execution_count": null,
      "outputs": [
        {
          "output_type": "execute_result",
          "data": {
            "text/plain": [
              "-1118"
            ]
          },
          "metadata": {},
          "execution_count": 27
        }
      ]
    },
    {
      "cell_type": "code",
      "source": [
        "#Perkalian\n",
        "\n",
        "3.5 * 10"
      ],
      "metadata": {
        "colab": {
          "base_uri": "https://localhost:8080/"
        },
        "id": "f5MqjiZay3eU",
        "outputId": "b40ec17d-f39b-4078-ded3-b3f59690bbfc"
      },
      "execution_count": null,
      "outputs": [
        {
          "output_type": "execute_result",
          "data": {
            "text/plain": [
              "35.0"
            ]
          },
          "metadata": {},
          "execution_count": 19
        }
      ]
    },
    {
      "cell_type": "code",
      "source": [
        "#Pembagian\n",
        "\n",
        "46 / 6"
      ],
      "metadata": {
        "colab": {
          "base_uri": "https://localhost:8080/"
        },
        "id": "v9hkFKbazF2t",
        "outputId": "99837954-38f0-42e9-a72e-7f5f319af29c"
      },
      "execution_count": null,
      "outputs": [
        {
          "output_type": "execute_result",
          "data": {
            "text/plain": [
              "7.666666666666667"
            ]
          },
          "metadata": {},
          "execution_count": 25
        }
      ]
    },
    {
      "cell_type": "code",
      "source": [
        "#Pembagian\n",
        "\n",
        "46 // 6"
      ],
      "metadata": {
        "colab": {
          "base_uri": "https://localhost:8080/"
        },
        "id": "7ZdQM-XLxDli",
        "outputId": "a4166e85-3820-4992-890e-15fb4c78257f"
      },
      "execution_count": null,
      "outputs": [
        {
          "output_type": "execute_result",
          "data": {
            "text/plain": [
              "7"
            ]
          },
          "metadata": {},
          "execution_count": 26
        }
      ]
    },
    {
      "cell_type": "code",
      "source": [
        "#Ekspresi Matematika\n",
        "\n",
        "4 * (9 + 12) // 3 - 20"
      ],
      "metadata": {
        "colab": {
          "base_uri": "https://localhost:8080/"
        },
        "id": "Ha4m_8iNzjnA",
        "outputId": "5458cd3a-02d2-4de7-995d-742d946ab710"
      },
      "execution_count": null,
      "outputs": [
        {
          "output_type": "execute_result",
          "data": {
            "text/plain": [
              "8"
            ]
          },
          "metadata": {},
          "execution_count": 28
        }
      ]
    },
    {
      "cell_type": "code",
      "source": [
        "(12+30)//7"
      ],
      "metadata": {
        "colab": {
          "base_uri": "https://localhost:8080/"
        },
        "id": "-9_0mlI-0Ky1",
        "outputId": "c97ccb3e-5dc8-40a3-c569-1e2964e255da"
      },
      "execution_count": null,
      "outputs": [
        {
          "output_type": "execute_result",
          "data": {
            "text/plain": [
              "6"
            ]
          },
          "metadata": {},
          "execution_count": 80
        }
      ]
    },
    {
      "cell_type": "markdown",
      "source": [
        "Variabel"
      ],
      "metadata": {
        "id": "iBiWBhre0ZRn"
      }
    },
    {
      "cell_type": "code",
      "source": [
        "x = 1+2+3+4+5\n",
        "x"
      ],
      "metadata": {
        "colab": {
          "base_uri": "https://localhost:8080/"
        },
        "id": "_WYKqnZe0sJB",
        "outputId": "a15a07d5-e5e3-478b-f1dd-fc4139c3d21d"
      },
      "execution_count": null,
      "outputs": [
        {
          "output_type": "execute_result",
          "data": {
            "text/plain": [
              "15"
            ]
          },
          "metadata": {},
          "execution_count": 83
        }
      ]
    },
    {
      "cell_type": "code",
      "source": [
        "y = x/2 #tanda bagi/pembagian = /\n",
        "y"
      ],
      "metadata": {
        "colab": {
          "base_uri": "https://localhost:8080/"
        },
        "id": "lJduLKjC0-GT",
        "outputId": "bdcd607f-7e2f-45af-d16a-f42fc0cb1dc9"
      },
      "execution_count": null,
      "outputs": [
        {
          "output_type": "execute_result",
          "data": {
            "text/plain": [
              "7.5"
            ]
          },
          "metadata": {},
          "execution_count": 87
        }
      ]
    },
    {
      "cell_type": "code",
      "source": [
        "y = x/2\n",
        "print(y)"
      ],
      "metadata": {
        "colab": {
          "base_uri": "https://localhost:8080/"
        },
        "id": "XCdZUv4q1jt3",
        "outputId": "e6270ae9-7970-4bcd-88d1-ac9e30f3faa0"
      },
      "execution_count": null,
      "outputs": [
        {
          "output_type": "stream",
          "name": "stdout",
          "text": [
            "7.5\n"
          ]
        }
      ]
    },
    {
      "cell_type": "code",
      "source": [
        "#Penggunaan nama variabel yang bermakna agar mudah dipahami\n",
        "#Menghitung durasi playlist musik dalam satuan menit.\n",
        "\n",
        "total_menit = 4+3+5+7+3+6+2\n",
        "total_menit"
      ],
      "metadata": {
        "colab": {
          "base_uri": "https://localhost:8080/"
        },
        "id": "f8EaU2ng12v5",
        "outputId": "5989ec06-47c7-4724-f142-56be42338bb1"
      },
      "execution_count": null,
      "outputs": [
        {
          "output_type": "execute_result",
          "data": {
            "text/plain": [
              "30"
            ]
          },
          "metadata": {},
          "execution_count": 105
        }
      ]
    },
    {
      "cell_type": "code",
      "source": [
        "#menghitung durasi pertandingan sepak bola\n",
        "\n",
        "durasi_sb_menit = 2 * 45 + 15\n",
        "durasi_sb_menit"
      ],
      "metadata": {
        "colab": {
          "base_uri": "https://localhost:8080/"
        },
        "id": "o1R0RLITly9Z",
        "outputId": "d3427b12-e837-4a2a-a805-bee6b239a01b"
      },
      "execution_count": null,
      "outputs": [
        {
          "output_type": "execute_result",
          "data": {
            "text/plain": [
              "105"
            ]
          },
          "metadata": {},
          "execution_count": 13
        }
      ]
    },
    {
      "cell_type": "code",
      "source": [
        "#menghitung durasi pertandingan sepak bola dalam jam\n",
        "\n",
        "durasi_sb_jam = durasi_sb_menit / 60\n",
        "durasi_sb_jam"
      ],
      "metadata": {
        "colab": {
          "base_uri": "https://localhost:8080/"
        },
        "id": "Y2m4S891qpTD",
        "outputId": "b58e4178-4b02-4cd9-81c1-7ef20db3811f"
      },
      "execution_count": null,
      "outputs": [
        {
          "output_type": "execute_result",
          "data": {
            "text/plain": [
              "1.75"
            ]
          },
          "metadata": {},
          "execution_count": 15
        }
      ]
    },
    {
      "cell_type": "code",
      "source": [
        "float(total_menit)"
      ],
      "metadata": {
        "colab": {
          "base_uri": "https://localhost:8080/"
        },
        "id": "NM4676xk2kNu",
        "outputId": "69cf43dd-8bcd-4455-ffbb-452357291a0a"
      },
      "execution_count": null,
      "outputs": [
        {
          "output_type": "execute_result",
          "data": {
            "text/plain": [
              "30.0"
            ]
          },
          "metadata": {},
          "execution_count": 106
        }
      ]
    },
    {
      "cell_type": "code",
      "source": [
        "str(total_menit)"
      ],
      "metadata": {
        "colab": {
          "base_uri": "https://localhost:8080/",
          "height": 36
        },
        "id": "wSxegmN62oyX",
        "outputId": "a556556d-3a54-407f-e76a-591571373b5e"
      },
      "execution_count": null,
      "outputs": [
        {
          "output_type": "execute_result",
          "data": {
            "text/plain": [
              "'30'"
            ],
            "application/vnd.google.colaboratory.intrinsic+json": {
              "type": "string"
            }
          },
          "metadata": {},
          "execution_count": 107
        }
      ]
    },
    {
      "cell_type": "code",
      "source": [
        "j = 70\n",
        "j"
      ],
      "metadata": {
        "colab": {
          "base_uri": "https://localhost:8080/"
        },
        "id": "DdQlqric2vib",
        "outputId": "ebc67ac9-1de7-43ef-fbb2-e75500a4cb38"
      },
      "execution_count": null,
      "outputs": [
        {
          "output_type": "execute_result",
          "data": {
            "text/plain": [
              "70"
            ]
          },
          "metadata": {},
          "execution_count": 98
        }
      ]
    },
    {
      "cell_type": "code",
      "source": [
        "print(float(j))"
      ],
      "metadata": {
        "colab": {
          "base_uri": "https://localhost:8080/"
        },
        "id": "-RwsqP2M3CA_",
        "outputId": "be557d14-a028-42d0-9261-3bfcdd2015fe"
      },
      "execution_count": null,
      "outputs": [
        {
          "output_type": "stream",
          "name": "stdout",
          "text": [
            "70.0\n"
          ]
        }
      ]
    },
    {
      "cell_type": "code",
      "source": [
        "print(str(j))"
      ],
      "metadata": {
        "colab": {
          "base_uri": "https://localhost:8080/"
        },
        "id": "0ZkCX_db3Fa8",
        "outputId": "a9248e55-6c64-4f38-d0af-5ba195c897a9"
      },
      "execution_count": null,
      "outputs": [
        {
          "output_type": "stream",
          "name": "stdout",
          "text": [
            "70\n"
          ]
        }
      ]
    },
    {
      "cell_type": "code",
      "source": [
        "total_jam = (4+3+5+7+3+6+2)/60\n",
        "total_jam"
      ],
      "metadata": {
        "colab": {
          "base_uri": "https://localhost:8080/"
        },
        "id": "ziv7HHYO3lV1",
        "outputId": "f78068ff-b8e4-4996-b1d8-cb8a78181fb5"
      },
      "execution_count": null,
      "outputs": [
        {
          "output_type": "execute_result",
          "data": {
            "text/plain": [
              "0.5"
            ]
          },
          "metadata": {},
          "execution_count": 108
        }
      ]
    },
    {
      "cell_type": "markdown",
      "source": [
        "**Exercise: Ekspresi dan Variabel**"
      ],
      "metadata": {
        "id": "TGYpfAYz36vp"
      }
    },
    {
      "cell_type": "code",
      "source": [
        "x = 30+4*9\n",
        "x"
      ],
      "metadata": {
        "colab": {
          "base_uri": "https://localhost:8080/"
        },
        "id": "k3odadkd342S",
        "outputId": "5b38228a-0e61-4ddf-d331-5e43e48fb3f8"
      },
      "execution_count": null,
      "outputs": [
        {
          "output_type": "execute_result",
          "data": {
            "text/plain": [
              "66"
            ]
          },
          "metadata": {},
          "execution_count": 111
        }
      ]
    },
    {
      "cell_type": "code",
      "source": [
        "y = (14+6)//4\n",
        "y"
      ],
      "metadata": {
        "colab": {
          "base_uri": "https://localhost:8080/"
        },
        "id": "2ubVcK7R4QK1",
        "outputId": "1aeabf40-f4ab-49d2-c7ec-adee9fe2bbd6"
      },
      "execution_count": null,
      "outputs": [
        {
          "output_type": "execute_result",
          "data": {
            "text/plain": [
              "5"
            ]
          },
          "metadata": {},
          "execution_count": 112
        }
      ]
    },
    {
      "cell_type": "code",
      "source": [
        "#yang sesuai modul\n",
        "\n",
        "x = 3+2*2\n",
        "x"
      ],
      "metadata": {
        "colab": {
          "base_uri": "https://localhost:8080/"
        },
        "id": "bbqfCBlp4pjR",
        "outputId": "85d91b31-1784-4849-a7d3-b56c08abd68a"
      },
      "execution_count": null,
      "outputs": [
        {
          "output_type": "execute_result",
          "data": {
            "text/plain": [
              "7"
            ]
          },
          "metadata": {},
          "execution_count": 113
        }
      ]
    },
    {
      "cell_type": "code",
      "source": [
        "y = (3+2)*2\n",
        "y"
      ],
      "metadata": {
        "colab": {
          "base_uri": "https://localhost:8080/"
        },
        "id": "94afM6dR4y8X",
        "outputId": "071127ce-877d-4fb8-f167-dd62cc50ee9f"
      },
      "execution_count": null,
      "outputs": [
        {
          "output_type": "execute_result",
          "data": {
            "text/plain": [
              "10"
            ]
          },
          "metadata": {},
          "execution_count": 116
        }
      ]
    },
    {
      "cell_type": "code",
      "source": [
        "z = x+y\n",
        "z"
      ],
      "metadata": {
        "colab": {
          "base_uri": "https://localhost:8080/"
        },
        "id": "IBQTn0xF46TE",
        "outputId": "f40ea1e6-6927-4081-819a-867f25572834"
      },
      "execution_count": null,
      "outputs": [
        {
          "output_type": "execute_result",
          "data": {
            "text/plain": [
              "17"
            ]
          },
          "metadata": {},
          "execution_count": 118
        }
      ]
    },
    {
      "cell_type": "markdown",
      "source": [
        "**Weekly Exercise**"
      ],
      "metadata": {
        "id": "YFhPJB405EG2"
      }
    },
    {
      "cell_type": "code",
      "source": [
        "#program ini digunakan untuk menghitung keliling persegi panjang,\n",
        "#luas persegi panjang, dan volume balok.\n",
        "\n",
        "#DEKLARASI: input variabel dan nilainya\n",
        "p = 20.5\n",
        "l = 25\n",
        "t = 10\n",
        "\n",
        "#PROSES: masukan rumus K, L, dan V\n",
        "K = 2*(p+l)\n",
        "L = p*l\n",
        "V = p*l*t\n",
        "\n",
        "#PRINT: mencetak variabel beserta keliling persegi panjang,\n",
        "#       luas persegi panjang, dan volume balok\n",
        "print(\"panjang = \", p)\n",
        "print(\"luas    = \", l)\n",
        "print(\"tinggi  = \", t)\n",
        "print(\" \")\n",
        "print(\"Keliling persegi panjang adalah\", K)\n",
        "print(\"Luas persegi panjang adalah\", L)\n",
        "print(\"Volume balok adalah\", V)"
      ],
      "metadata": {
        "colab": {
          "base_uri": "https://localhost:8080/"
        },
        "id": "AsOMj1vb5Dsk",
        "outputId": "d8b377bf-dcff-4977-9524-31eacc74589b"
      },
      "execution_count": null,
      "outputs": [
        {
          "output_type": "stream",
          "name": "stdout",
          "text": [
            "panjang =  20.5\n",
            "luas    =  25\n",
            "tinggi  =  10\n",
            " \n",
            "Keliling persegi panjang adalah 91.0\n",
            "Luas persegi panjang adalah 512.5\n",
            "Volume balok adalah 5125.0\n"
          ]
        }
      ]
    },
    {
      "cell_type": "code",
      "source": [
        "#program untuk menampilkan data nilai mahasiswa\n",
        "#dan untuk menghitung rata-rata nya\n",
        "\n",
        "#DEKLARASI\n",
        "Shafira_Kalkulus1 = 85\n",
        "Shafira_Statistika = 75\n",
        "\n",
        "Amanda_Kalkulus1 = 80\n",
        "Amanda_Statistika = 90\n",
        "\n",
        "Aditya_Kalkulus1 = 75\n",
        "Aditya_Statistika = 80\n",
        "\n",
        "Nedia_Kalkulus1 = 95\n",
        "Nedia_Statistika = 80\n",
        "\n",
        "Widya_Kalkulus1 = 85\n",
        "Widya_Statistika = 85\n",
        "\n",
        "Hanif_Kalkulus1 = 75\n",
        "Hanif_Statistika = 90\n",
        "\n",
        "Andi_Kalkulus1 = 70\n",
        "Andi_Statistika = 75\n",
        "\n",
        "Dhanar_Kalkulus1 = 85\n",
        "Dhanar_Statistika = 85\n",
        "\n",
        "Hikma_Kalkulus1 = 80\n",
        "Hikma_Statistika = 75\n",
        "\n",
        "#PROSES\n",
        "Ratarata_nilai_Shafira = (Shafira_Kalkulus1 + Shafira_Statistika)//2\n",
        "Jumlah_nilai_HanifAndi = Hanif_Kalkulus1 + Hanif_Statistika + Andi_Kalkulus1 + Andi_Statistika\n",
        "Ratarata_nilai_WDHiN_Kalkulus1 = (Widya_Kalkulus1 + Dhanar_Kalkulus1 + Hikma_Kalkulus1 + Nedia_Kalkulus1)/4\n",
        "Ratarata_nilai_WDHiN_Statistika = (Widya_Statistika + Dhanar_Statistika + Hikma_Statistika + Nedia_Statistika)/4\n",
        "Ratarata_Kalkulus1_mahasiswa = (Shafira_Kalkulus1 + Amanda_Kalkulus1 + Aditya_Kalkulus1 + Nedia_Kalkulus1 + Widya_Kalkulus1 + Hanif_Kalkulus1 + Andi_Kalkulus1 + Dhanar_Kalkulus1 + Hikma_Kalkulus1)/9\n",
        "Ratarata_Statistika_mahasiswa = (Shafira_Statistika + Amanda_Statistika + Aditya_Statistika + Nedia_Statistika + Widya_Statistika + Hanif_Statistika + Andi_Statistika + Dhanar_Statistika + Hikma_Statistika)/9\n",
        "\n",
        "#PRINT\n",
        "print(\"1. Rata-rata nilai Shafira pada kedua mata kuliah yaitu     =\", Ratarata_nilai_Shafira)\n",
        "print(\"2. Jumlah nilai Hanif dan Andi pada kedua mata kuliah yaitu =\", Jumlah_nilai_HanifAndi)\n",
        "print(\"3. Rata-rata nilai Widya, Dhanar, Hikma, dan Nedia pada masing-masing \\n   mata kuliah, adalah:\")\n",
        "print(\"   a. Rata-rata nilai Kalkulus 1        =\", Ratarata_nilai_WDHiN_Kalkulus1)\n",
        "print(\"   b. Rata-rata nilai Metode Statistika =\", Ratarata_nilai_WDHiN_Statistika)\n",
        "print(\"4. Rata-rata nilai mata kuliah Kalkulus 1 semua mahasiswa        =\", Ratarata_Kalkulus1_mahasiswa)\n",
        "print(\"5. Rata-rata nilai mata kuliah Metode Statistika semua mahasiswa =\", Ratarata_Statistika_mahasiswa)"
      ],
      "metadata": {
        "colab": {
          "base_uri": "https://localhost:8080/"
        },
        "id": "ImbMNUzL7DXZ",
        "outputId": "b3d492db-ddb5-4ea1-cfba-b67aaf6bde0d"
      },
      "execution_count": null,
      "outputs": [
        {
          "output_type": "stream",
          "name": "stdout",
          "text": [
            "1. Rata-rata nilai Shafira pada kedua mata kuliah yaitu     = 80\n",
            "2. Jumlah nilai Hanif dan Andi pada kedua mata kuliah yaitu = 310\n",
            "3. Rata-rata nilai Widya, Dhanar, Hikma, dan Nedia pada masing-masing \n",
            "   mata kuliah, adalah:\n",
            "   a. Rata-rata nilai Kalkulus 1        = 86.25\n",
            "   b. Rata-rata nilai Metode Statistika = 81.25\n",
            "4. Rata-rata nilai mata kuliah Kalkulus 1 semua mahasiswa        = 81.11111111111111\n",
            "5. Rata-rata nilai mata kuliah Metode Statistika semua mahasiswa = 81.66666666666667\n"
          ]
        }
      ]
    },
    {
      "cell_type": "code",
      "source": [
        "#1. Gaji bulan Agustus jika Dwi tidak masuk kerja selama 3 hari\n",
        "a = 8             #Durasi kerja per hari\n",
        "b = 30000         #Honor per jam\n",
        "gaji_perbulan = (hari * a) * b\n",
        "tunjangan     = gaji_perbulan * 10/100\n",
        "\n",
        "#Diketahui\n",
        "#Bulan Agustus Dwi tidak masuk selama 3 hari\n",
        "c = (31-3) #jumlah hari dwi masuk kerja = jumlah hari bulan agustus - jumlah hari tidak masuk kerja di bulan agustus\n",
        "\n",
        "gaji_agustus = c * b\n",
        "\n",
        "\n",
        "print(\"Gaji yang diterima Dwi pada bulan Agustus yaitu \", gaji_agustus)\n",
        "\n",
        "#2. Diketahui:\n",
        "#   terdapat tunjangan bagi karyawan yg bekerja >5tahun sebesar 10% dari total gaji\n",
        "tunjangan_gaji = gaji_perbulan * 10/100\n",
        "\n",
        "tunjangan_gaji_dwi_agustus = gaji_agustus * 10/100\n",
        "\n",
        "print(\"Jumlah tunjangan yang diterima oleh Dwi pada bulan Agustus \", tunjangan_gaji_dwi_agustus)\n"
      ],
      "metadata": {
        "colab": {
          "base_uri": "https://localhost:8080/",
          "height": 222
        },
        "id": "Rhu8kA9Mqw5D",
        "outputId": "886c6227-af89-4828-bb8d-cc8a94223821"
      },
      "execution_count": null,
      "outputs": [
        {
          "output_type": "error",
          "ename": "NameError",
          "evalue": "name 'hari' is not defined",
          "traceback": [
            "\u001b[0;31m---------------------------------------------------------------------------\u001b[0m",
            "\u001b[0;31mNameError\u001b[0m                                 Traceback (most recent call last)",
            "\u001b[0;32m<ipython-input-16-b4370f446eb8>\u001b[0m in \u001b[0;36m<cell line: 6>\u001b[0;34m()\u001b[0m\n\u001b[1;32m      4\u001b[0m \u001b[0ma\u001b[0m \u001b[0;34m=\u001b[0m \u001b[0;36m8\u001b[0m             \u001b[0;31m#Durasi kerja per hari\u001b[0m\u001b[0;34m\u001b[0m\u001b[0;34m\u001b[0m\u001b[0m\n\u001b[1;32m      5\u001b[0m \u001b[0mb\u001b[0m \u001b[0;34m=\u001b[0m \u001b[0;36m30000\u001b[0m         \u001b[0;31m#Honor per jam\u001b[0m\u001b[0;34m\u001b[0m\u001b[0;34m\u001b[0m\u001b[0m\n\u001b[0;32m----> 6\u001b[0;31m \u001b[0mgaji_perbulan\u001b[0m \u001b[0;34m=\u001b[0m \u001b[0;34m(\u001b[0m\u001b[0mhari\u001b[0m \u001b[0;34m*\u001b[0m \u001b[0ma\u001b[0m\u001b[0;34m)\u001b[0m \u001b[0;34m*\u001b[0m \u001b[0mb\u001b[0m\u001b[0;34m\u001b[0m\u001b[0;34m\u001b[0m\u001b[0m\n\u001b[0m\u001b[1;32m      7\u001b[0m \u001b[0mtunjangan\u001b[0m     \u001b[0;34m=\u001b[0m \u001b[0mgaji_perbulan\u001b[0m \u001b[0;34m*\u001b[0m \u001b[0;36m10\u001b[0m\u001b[0;34m/\u001b[0m\u001b[0;36m100\u001b[0m\u001b[0;34m\u001b[0m\u001b[0;34m\u001b[0m\u001b[0m\n\u001b[1;32m      8\u001b[0m \u001b[0;34m\u001b[0m\u001b[0m\n",
            "\u001b[0;31mNameError\u001b[0m: name 'hari' is not defined"
          ]
        }
      ]
    },
    {
      "cell_type": "code",
      "source": [
        "#Diketahui:\n",
        "#Dwi karyawan pabrik 10 tahun\n",
        "#Dwi bekerja selama 8jam/hari\n",
        "#Honor = jumlah jam masuk * 30000\n",
        "\n",
        "#DEKLARASI#\n",
        "jam = 8\n",
        "gaji = 30000\n",
        "hari_dwi8 = 28 #Jumlah hari Dwi masuk kerja di bulan Agustus\n",
        "\n",
        "#PROSES#\n",
        "gaji_dwi_bulan8 = hari_dwi8 * jam * gaji\n",
        "\n",
        "#PRINT#\n",
        "print(\"1. gaji dwi bulan agustus = \", gaji_dwi_bulan8)\n",
        "\n",
        "#tunjangan = total gaji * 10/100\n",
        "\n",
        "tunjangan = 10/100\n",
        "\n",
        "tunjangan_bulan8 = gaji_dwi_bulan8 * 10//100\n",
        "\n",
        "print(\"2. jumlah tunjangan yang diterima oleh dwi pada bulan agustus = \", tunjangan_bulan8)\n",
        "\n",
        "#upah lembur 10000/jam\n",
        "\n",
        "dwi_lembur = 5 * 10000\n",
        "\n",
        "total_gaji_dwi = gaji_dwi_bulan8 + tunjangan_bulan8 + dwi_lembur\n",
        "\n",
        "print(\"3. total gaji yang diterima oleh dwi pada bulan agustus = \", total_gaji_dwi)"
      ],
      "metadata": {
        "colab": {
          "base_uri": "https://localhost:8080/"
        },
        "id": "F6t5Bk--30HB",
        "outputId": "2fa282a1-cb0f-47a5-99cf-71fba66c8357"
      },
      "execution_count": null,
      "outputs": [
        {
          "output_type": "stream",
          "name": "stdout",
          "text": [
            "1. gaji dwi bulan agustus =  6720000\n",
            "2. jumlah tunjangan yang diterima oleh dwi pada bulan agustus =  672000\n",
            "3. total gaji yang diterima oleh dwi pada bulan agustus =  7442000\n"
          ]
        }
      ]
    },
    {
      "cell_type": "code",
      "source": [
        "#program ini untuk menghitung gaji dwi bulan agustus sebagai karyawan\n",
        "\n",
        "#DEKLARASI\n",
        "jam = 8\n",
        "gaji = 30000\n",
        "dwi_msk_8 = 28\n",
        "tunjangan = 10/100\n",
        "jam_lembur = 5\n",
        "upah_lembur = 10000\n",
        "\n",
        "\n",
        "#PROSES\n",
        "gaji_dwi_bulan8 = dwi_msk_8 * jam * gaji\n",
        "tunjangan_dwi = int(tunjangan * gaji_dwi_bulan8)\n",
        "upah_lembur_dwi = jam_lembur * upah_lembur\n",
        "total_gaji_bulan8 = gaji_dwi_bulan8 + tunjangan_dwi + upah_lembur_dwi\n",
        "\n",
        "#PRINT\n",
        "print('1. Gaji Dwi bulan Agustus adalah ', gaji_dwi_bulan8)\n",
        "print('2. Jumlah tunjangan yang diterima oleh Dwi pada bulan Agustus adalah ', tunjangan_dwi)\n",
        "print('3. Total gaji yang diterima oleh Dwi pada bulan Agustus adalah ', total_gaji_bulan8)"
      ],
      "metadata": {
        "colab": {
          "base_uri": "https://localhost:8080/"
        },
        "id": "kKQUPFd76Kq2",
        "outputId": "9e5bd9a0-5d95-4593-9680-d44020584da9"
      },
      "execution_count": 18,
      "outputs": [
        {
          "output_type": "stream",
          "name": "stdout",
          "text": [
            "1. Gaji Dwi bulan Agustus adalah  6720000\n",
            "2. Jumlah tunjangan yang diterima oleh Dwi pada bulan Agustus adalah  672000\n",
            "3. Total gaji yang diterima oleh Dwi pada bulan Agustus adalah  7442000\n"
          ]
        }
      ]
    }
  ],
  "metadata": {
    "colab": {
      "provenance": [],
      "authorship_tag": "ABX9TyOo21/VgmN6XS1MVFK44GCM",
      "include_colab_link": true
    },
    "kernelspec": {
      "display_name": "Python 3",
      "name": "python3"
    },
    "language_info": {
      "name": "python"
    }
  },
  "nbformat": 4,
  "nbformat_minor": 0
}