{
  "nbformat": 4,
  "nbformat_minor": 0,
  "metadata": {
    "colab": {
      "provenance": [],
      "authorship_tag": "ABX9TyMmNpkL1SEh40l/gJGW0FG4",
      "include_colab_link": true
    },
    "kernelspec": {
      "name": "python3",
      "display_name": "Python 3"
    },
    "language_info": {
      "name": "python"
    }
  },
  "cells": [
    {
      "cell_type": "markdown",
      "metadata": {
        "id": "view-in-github",
        "colab_type": "text"
      },
      "source": [
        "<a href=\"https://colab.research.google.com/github/zahrahani/hani-s-first-python/blob/main/Week_4.ipynb\" target=\"_parent\"><img src=\"https://colab.research.google.com/assets/colab-badge.svg\" alt=\"Open In Colab\"/></a>"
      ]
    },
    {
      "cell_type": "markdown",
      "source": [
        "**PERCABANGAN**"
      ],
      "metadata": {
        "id": "t9uhTJnBRKQS"
      }
    },
    {
      "cell_type": "code",
      "source": [
        "#equal          : ==\n",
        "#not equal      : !=\n",
        "#greater than   : >\n",
        "#less than      : <\n",
        "#greater than or equal to : >=\n",
        "#less than or equal to    : <="
      ],
      "metadata": {
        "id": "Dj2hyVMxWUjU"
      },
      "execution_count": null,
      "outputs": []
    },
    {
      "cell_type": "code",
      "execution_count": 1,
      "metadata": {
        "colab": {
          "base_uri": "https://localhost:8080/"
        },
        "id": "o5Qfq5WnQzBc",
        "outputId": "ac8adcd8-5912-4c67-fbdd-b356e4eb59e1"
      },
      "outputs": [
        {
          "output_type": "execute_result",
          "data": {
            "text/plain": [
              "False"
            ]
          },
          "metadata": {},
          "execution_count": 1
        }
      ],
      "source": [
        "a = 5\n",
        "a == 6"
      ]
    },
    {
      "cell_type": "code",
      "source": [
        "a = 5\n",
        "a == 5"
      ],
      "metadata": {
        "colab": {
          "base_uri": "https://localhost:8080/"
        },
        "id": "8Cu3WlqzRRHC",
        "outputId": "9ab87b9a-f525-4183-b733-4e0c6385f545"
      },
      "execution_count": 3,
      "outputs": [
        {
          "output_type": "execute_result",
          "data": {
            "text/plain": [
              "True"
            ]
          },
          "metadata": {},
          "execution_count": 3
        }
      ]
    },
    {
      "cell_type": "code",
      "source": [
        "i = 6\n",
        "i > 5"
      ],
      "metadata": {
        "colab": {
          "base_uri": "https://localhost:8080/"
        },
        "id": "bFeLL0CmQ_yD",
        "outputId": "7e3ea0b9-a11c-4711-e620-9adfc8a7e1ac"
      },
      "execution_count": 4,
      "outputs": [
        {
          "output_type": "execute_result",
          "data": {
            "text/plain": [
              "True"
            ]
          },
          "metadata": {},
          "execution_count": 4
        }
      ]
    },
    {
      "cell_type": "code",
      "source": [
        "i = 2\n",
        "i > 5"
      ],
      "metadata": {
        "colab": {
          "base_uri": "https://localhost:8080/"
        },
        "id": "YZV3BU5qRg__",
        "outputId": "d99f9ac5-e4cf-49d8-ee1a-fe3417b7f6a4"
      },
      "execution_count": 5,
      "outputs": [
        {
          "output_type": "execute_result",
          "data": {
            "text/plain": [
              "False"
            ]
          },
          "metadata": {},
          "execution_count": 5
        }
      ]
    },
    {
      "cell_type": "code",
      "source": [
        "i = 2\n",
        "i != 6"
      ],
      "metadata": {
        "colab": {
          "base_uri": "https://localhost:8080/"
        },
        "id": "stkzvLwtRHfK",
        "outputId": "259bd74e-b827-400e-e47b-3c0e80f02752"
      },
      "execution_count": 7,
      "outputs": [
        {
          "output_type": "execute_result",
          "data": {
            "text/plain": [
              "True"
            ]
          },
          "metadata": {},
          "execution_count": 7
        }
      ]
    },
    {
      "cell_type": "code",
      "source": [
        "i = 6\n",
        "i != 6"
      ],
      "metadata": {
        "colab": {
          "base_uri": "https://localhost:8080/"
        },
        "id": "hP5YKrWLRxFi",
        "outputId": "af8bb11f-ae94-4aec-a9fd-3a424e1045a1"
      },
      "execution_count": 8,
      "outputs": [
        {
          "output_type": "execute_result",
          "data": {
            "text/plain": [
              "False"
            ]
          },
          "metadata": {},
          "execution_count": 8
        }
      ]
    },
    {
      "cell_type": "code",
      "source": [
        "'ACDC' == 'Michael Jackson'"
      ],
      "metadata": {
        "colab": {
          "base_uri": "https://localhost:8080/"
        },
        "id": "2JSxp5DhR3U2",
        "outputId": "e210c678-b1aa-47c9-b404-04645465016d"
      },
      "execution_count": 9,
      "outputs": [
        {
          "output_type": "execute_result",
          "data": {
            "text/plain": [
              "False"
            ]
          },
          "metadata": {},
          "execution_count": 9
        }
      ]
    },
    {
      "cell_type": "code",
      "source": [
        "'ACDC' != 'Michael Jackson'"
      ],
      "metadata": {
        "colab": {
          "base_uri": "https://localhost:8080/"
        },
        "id": "Ytxv6bewR_fe",
        "outputId": "6f000cc8-ea9b-4973-9bae-d846afda7b66"
      },
      "execution_count": 10,
      "outputs": [
        {
          "output_type": "execute_result",
          "data": {
            "text/plain": [
              "True"
            ]
          },
          "metadata": {},
          "execution_count": 10
        }
      ]
    },
    {
      "cell_type": "code",
      "source": [
        "'B' > 'A'"
      ],
      "metadata": {
        "colab": {
          "base_uri": "https://localhost:8080/"
        },
        "id": "NZx5yHCtSELi",
        "outputId": "2fa5f603-f337-40a6-cf1d-f10192ae798b"
      },
      "execution_count": 12,
      "outputs": [
        {
          "output_type": "execute_result",
          "data": {
            "text/plain": [
              "True"
            ]
          },
          "metadata": {},
          "execution_count": 12
        }
      ]
    },
    {
      "cell_type": "code",
      "source": [
        "'BA' > 'AB'"
      ],
      "metadata": {
        "colab": {
          "base_uri": "https://localhost:8080/"
        },
        "id": "2uPn2DeYSILS",
        "outputId": "2575a9a2-3f4c-4a4f-e7be-376aa0e5c806"
      },
      "execution_count": 13,
      "outputs": [
        {
          "output_type": "execute_result",
          "data": {
            "text/plain": [
              "True"
            ]
          },
          "metadata": {},
          "execution_count": 13
        }
      ]
    },
    {
      "cell_type": "code",
      "source": [
        "'ba' >= 'ba'"
      ],
      "metadata": {
        "colab": {
          "base_uri": "https://localhost:8080/"
        },
        "id": "S0HnLQ1vSNMa",
        "outputId": "0b2a22f1-89b9-44b4-bf16-d7675c94f484"
      },
      "execution_count": 14,
      "outputs": [
        {
          "output_type": "execute_result",
          "data": {
            "text/plain": [
              "True"
            ]
          },
          "metadata": {},
          "execution_count": 14
        }
      ]
    },
    {
      "cell_type": "markdown",
      "source": [
        "branching"
      ],
      "metadata": {
        "id": "oAqBQkQ7STZy"
      }
    },
    {
      "cell_type": "code",
      "source": [
        "#age 19\n",
        "age = 18\n",
        "\n",
        "if age > 18:\n",
        "    print('You can Enter')\n",
        "\n",
        "print('Move on')"
      ],
      "metadata": {
        "colab": {
          "base_uri": "https://localhost:8080/"
        },
        "id": "t4xj1DbbSP7K",
        "outputId": "91116fdc-07f0-4818-875b-511aade94bad"
      },
      "execution_count": 15,
      "outputs": [
        {
          "output_type": "stream",
          "name": "stdout",
          "text": [
            "Move on\n"
          ]
        }
      ]
    },
    {
      "cell_type": "code",
      "source": [
        "#age 17\n",
        "age = 19\n",
        "\n",
        "if age > 18:\n",
        "    print('You can Enter')\n",
        "else:\n",
        "    print('Go see Meet Loaf')\n",
        "\n",
        "print('Move on')"
      ],
      "metadata": {
        "colab": {
          "base_uri": "https://localhost:8080/"
        },
        "id": "ivDlHRUhSmbA",
        "outputId": "0ff197f0-34c2-4542-bafc-c3958892d483"
      },
      "execution_count": 18,
      "outputs": [
        {
          "output_type": "stream",
          "name": "stdout",
          "text": [
            "You can Enter\n",
            "Move on\n"
          ]
        }
      ]
    },
    {
      "cell_type": "code",
      "source": [
        "age = 18\n",
        "\n",
        "if age > 18:\n",
        "    print('You can Enter')\n",
        "elif age == 18:\n",
        "    print('Go see Pink Floyd')\n",
        "else:\n",
        "    print('Go see Meet Loaf')\n",
        "\n",
        "print('Move on')"
      ],
      "metadata": {
        "colab": {
          "base_uri": "https://localhost:8080/"
        },
        "id": "YJ5IZ9kBS_O3",
        "outputId": "d1c5854d-a34d-4f6e-968b-6262ddf0ccd5"
      },
      "execution_count": 22,
      "outputs": [
        {
          "output_type": "stream",
          "name": "stdout",
          "text": [
            "Go see Pink Floyd\n",
            "Move on\n"
          ]
        }
      ]
    },
    {
      "cell_type": "code",
      "source": [
        "album_year = 1983\n",
        "#album_year = 1970\n",
        "\n",
        "if album_year > 1980:\n",
        "    print('Album year is greather than 1980')\n",
        "\n",
        "print('Do something...')"
      ],
      "metadata": {
        "colab": {
          "base_uri": "https://localhost:8080/"
        },
        "id": "cDfotwdwThbI",
        "outputId": "8297b9e5-dc4a-4815-b58f-8a1fc6ad1965"
      },
      "execution_count": 23,
      "outputs": [
        {
          "output_type": "stream",
          "name": "stdout",
          "text": [
            "Album year is greather than 1980\n",
            "Do something...\n"
          ]
        }
      ]
    },
    {
      "cell_type": "code",
      "source": [
        "#album_year = 1983\n",
        "album_year = 1970\n",
        "\n",
        "if album_year > 1980:\n",
        "    print('Album year is greather yhan 1980')\n",
        "else:\n",
        "    print('Less than 1980')\n",
        "\n",
        "print ('Do something...')"
      ],
      "metadata": {
        "colab": {
          "base_uri": "https://localhost:8080/"
        },
        "id": "53MpebAlUD3K",
        "outputId": "d1ed9d82-3ad9-4fdd-99e3-103d3303fed0"
      },
      "execution_count": 24,
      "outputs": [
        {
          "output_type": "stream",
          "name": "stdout",
          "text": [
            "Less than 1980\n",
            "Do something...\n"
          ]
        }
      ]
    },
    {
      "cell_type": "markdown",
      "source": [
        "operator logika"
      ],
      "metadata": {
        "id": "KMIGsWI3UoO6"
      }
    },
    {
      "cell_type": "code",
      "source": [
        "album_year = 1980\n",
        "\n",
        "if(album_year > 1979) and (album_year < 1998):\n",
        "    print('Album year was in between 1980 and 1989')\n",
        "\n",
        "print('')\n",
        "print('Do Stuff..')"
      ],
      "metadata": {
        "colab": {
          "base_uri": "https://localhost:8080/"
        },
        "id": "2YG_dLwgUmTp",
        "outputId": "7d6f01d1-d17d-408a-d4ad-385d6dc9a49b"
      },
      "execution_count": 26,
      "outputs": [
        {
          "output_type": "stream",
          "name": "stdout",
          "text": [
            "Album year was in between 1980 and 1989\n",
            "\n",
            "Do Stuff..\n"
          ]
        }
      ]
    },
    {
      "cell_type": "code",
      "source": [
        "album_year = 1978\n",
        "\n",
        "if (album_year < 1980) or (album_year > 1989):\n",
        "    print(\"Album wasn't mad in the 1980's\")\n",
        "else:\n",
        "    print(\"The Album was made in the 1980's\")"
      ],
      "metadata": {
        "colab": {
          "base_uri": "https://localhost:8080/"
        },
        "id": "wo7icl8sVAbH",
        "outputId": "ed48122e-8d42-4055-c977-85f2ad58c204"
      },
      "execution_count": 28,
      "outputs": [
        {
          "output_type": "stream",
          "name": "stdout",
          "text": [
            "Album wasn't mad in the 1980's\n"
          ]
        }
      ]
    },
    {
      "cell_type": "code",
      "source": [
        "album_year = 1984\n",
        "\n",
        "if not (album_year == '1984'):\n",
        "    print(\"Album year isn't 1984\")"
      ],
      "metadata": {
        "colab": {
          "base_uri": "https://localhost:8080/"
        },
        "id": "0NdOztE5VcoR",
        "outputId": "76e7c637-d9e4-4f9e-adb2-9b7aa9e6faaf"
      },
      "execution_count": 29,
      "outputs": [
        {
          "output_type": "stream",
          "name": "stdout",
          "text": [
            "Album year isn't 1984\n"
          ]
        }
      ]
    },
    {
      "cell_type": "markdown",
      "source": [
        "Quiz"
      ],
      "metadata": {
        "id": "dGiywI5wWPeU"
      }
    },
    {
      "cell_type": "markdown",
      "source": [
        "Write an if statement to determine if an album had a rating greater than 8. Test it using the rating for the album “Back in Black” that had a rating of 8.5. If the statement is true print \"This album is Amazing!\""
      ],
      "metadata": {
        "id": "mFgUobCCXAwI"
      }
    },
    {
      "cell_type": "code",
      "source": [
        "rate_BiB = 8.5\n",
        "\n",
        "if rate_BiB > 8:\n",
        "    print('This album is Amazing!')"
      ],
      "metadata": {
        "colab": {
          "base_uri": "https://localhost:8080/"
        },
        "id": "FEe9qtPLV6LB",
        "outputId": "33f8e0af-cda2-4cd7-e5bd-942abb2e4292"
      },
      "execution_count": 30,
      "outputs": [
        {
          "output_type": "stream",
          "name": "stdout",
          "text": [
            "This album is Amazing!\n"
          ]
        }
      ]
    },
    {
      "cell_type": "markdown",
      "source": [
        "Write an if-else statement that performs the following. If the rating is larger then eight print “this album is amazing”. If the rating is less than or equal to 8 print “this album is ok”."
      ],
      "metadata": {
        "id": "Ilnnjv-MYFGg"
      }
    },
    {
      "cell_type": "code",
      "source": [
        "rate_BiB = 8.5\n",
        "\n",
        "if rate_BiB > 8:\n",
        "    print('this album is amazing!')\n",
        "else:\n",
        "    print('this album is ok')"
      ],
      "metadata": {
        "colab": {
          "base_uri": "https://localhost:8080/"
        },
        "id": "pz2QCJhJYEr5",
        "outputId": "edb94124-cf59-4f17-c5d6-50b87acbff35"
      },
      "execution_count": 35,
      "outputs": [
        {
          "output_type": "stream",
          "name": "stdout",
          "text": [
            "this album is amazing!\n"
          ]
        }
      ]
    },
    {
      "cell_type": "markdown",
      "source": [
        "Write an if statement to determine if an album came out before 1980 or in the years: 1991 or 1993. If the condition is true print out the year the album came out."
      ],
      "metadata": {
        "id": "8W772hp8ZCwg"
      }
    },
    {
      "cell_type": "code",
      "source": [
        "BiB_release = 1979\n",
        "\n",
        "if BiB_release  < 1980 or BiB_release  == 1993 or BiB_release  == 1995:\n",
        "    print (\"this album came out already\")"
      ],
      "metadata": {
        "colab": {
          "base_uri": "https://localhost:8080/"
        },
        "id": "wsrTp8c3jJHv",
        "outputId": "37254695-1484-4cfc-9bcc-c5d4092df263"
      },
      "execution_count": 71,
      "outputs": [
        {
          "output_type": "stream",
          "name": "stdout",
          "text": [
            "this album came out already\n"
          ]
        }
      ]
    },
    {
      "cell_type": "markdown",
      "source": [
        "# Exercise"
      ],
      "metadata": {
        "id": "8y5dObUKWzcR"
      }
    },
    {
      "cell_type": "markdown",
      "source": [
        "# 1"
      ],
      "metadata": {
        "id": "xY-xYxEZgxFn"
      }
    },
    {
      "cell_type": "code",
      "source": [
        "umur = int(input('Masukkan umur mu = '))\n",
        "\n",
        "if umur >= 17:\n",
        "    print('kamu boleh membuat SIM')\n",
        "else:\n",
        "    print('kamu tidak boleh membuat SIM')"
      ],
      "metadata": {
        "colab": {
          "base_uri": "https://localhost:8080/"
        },
        "id": "FKmtYhMnf-PI",
        "outputId": "5cbb3130-a0e2-4378-8962-cb09b1dd247b"
      },
      "execution_count": 53,
      "outputs": [
        {
          "output_type": "stream",
          "name": "stdout",
          "text": [
            "Masukkan umur mu = 17\n",
            "kamu boleh membuat SIM\n"
          ]
        }
      ]
    },
    {
      "cell_type": "markdown",
      "source": [
        "# 2"
      ],
      "metadata": {
        "id": "VKdgoKEzg1CI"
      }
    },
    {
      "cell_type": "code",
      "source": [
        "nilai = int(input('Masukkan nilai mu = '))\n",
        "\n",
        "if nilai >= 90:\n",
        "    print('Grade A')\n",
        "elif nilai >= 80:\n",
        "    print('Grade B+')\n",
        "elif nilai >= 70:\n",
        "    print('Grade B')\n",
        "elif nilai >= 60:\n",
        "    print('Grade C+')\n",
        "elif nilai >= 50:\n",
        "    print('Grade C')\n",
        "elif nilai >= 40:\n",
        "    print('Grade D')\n",
        "else:\n",
        "    print('Grade E')"
      ],
      "metadata": {
        "colab": {
          "base_uri": "https://localhost:8080/"
        },
        "id": "Ou3XRMUdfOow",
        "outputId": "1cc706a5-1d7b-47cf-d2f5-233a748ae387"
      },
      "execution_count": 56,
      "outputs": [
        {
          "output_type": "stream",
          "name": "stdout",
          "text": [
            "Masukkan nilai mu = 10\n",
            "Grade E\n"
          ]
        }
      ]
    },
    {
      "cell_type": "markdown",
      "source": [
        "# 3\n"
      ],
      "metadata": {
        "id": "36-qdWgVk53m"
      }
    },
    {
      "cell_type": "code",
      "source": [
        "nilai = float(input('Masukkan nilai mu = '))\n",
        "\n",
        "if (nilai >= 80.00) and (nilai <= 100.00):\n",
        "    print('Grade A')\n",
        "elif (nilai >= 77.50) and (nilai <= 79.99):\n",
        "    print('Grade A-')\n",
        "elif (nilai >= 75.00) and (nilai <= 77.49):\n",
        "    print('Grade A/B')\n",
        "elif (nilai >= 72.50) and (nilai <= 74.99):\n",
        "    print('Grade B+')\n",
        "elif (nilai >= 70.00) and (nilai <= 72.49):\n",
        "    print('Grade B')\n",
        "elif (nilai >= 67.50) and (nilai <= 69.99):\n",
        "    print('Grade B-')\n",
        "elif (nilai >= 65.00) and (nilai <= 67.49):\n",
        "    print('Grade B/C')\n",
        "elif (nilai >= 62.50) and (nilai <= 64.99):\n",
        "    print('Grade C+')\n",
        "elif (nilai >= 60.00) and (nilai <= 62.49):\n",
        "    print('Grade C')\n",
        "elif (nilai >= 55.00) and (nilai <= 59.99):\n",
        "    print('Grade C-')\n",
        "elif (nilai >= 50.00) and (nilai <= 54.99):\n",
        "    print('Grade C/D')\n",
        "elif (nilai >= 45.00) and (nilai <= 49.99):\n",
        "    print('Grade D+')\n",
        "elif (nilai >= 40.00) and (nilai <= 44.99):\n",
        "    print('Grade D')\n",
        "else:\n",
        "    print('Grade E')"
      ],
      "metadata": {
        "colab": {
          "base_uri": "https://localhost:8080/"
        },
        "id": "wjB_7s6uk5nf",
        "outputId": "bfd25fa4-fa2f-4e7c-b0ea-1e5debb18f0c"
      },
      "execution_count": 82,
      "outputs": [
        {
          "output_type": "stream",
          "name": "stdout",
          "text": [
            "Masukkan nilai mu = 40\n",
            "Grade D\n"
          ]
        }
      ]
    }
  ]
}