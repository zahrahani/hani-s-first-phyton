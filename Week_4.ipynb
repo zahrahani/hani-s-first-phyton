{
  "nbformat": 4,
  "nbformat_minor": 0,
  "metadata": {
    "colab": {
      "provenance": [],
      "authorship_tag": "ABX9TyMMVR3eTfTu7+mYFDG6yTuA",
      "include_colab_link": true
    },
    "kernelspec": {
      "name": "python3",
      "display_name": "Python 3"
    },
    "language_info": {
      "name": "python"
    }
  },
  "cells": [
    {
      "cell_type": "markdown",
      "metadata": {
        "id": "view-in-github",
        "colab_type": "text"
      },
      "source": [
        "<a href=\"https://colab.research.google.com/github/zahrahani/hani-s-first-python/blob/main/Week_4.ipynb\" target=\"_parent\"><img src=\"https://colab.research.google.com/assets/colab-badge.svg\" alt=\"Open In Colab\"/></a>"
      ]
    },
    {
      "cell_type": "markdown",
      "source": [
        "# **PERCABANGAN**"
      ],
      "metadata": {
        "id": "t9uhTJnBRKQS"
      }
    },
    {
      "cell_type": "code",
      "source": [
        "#equal          : ==\n",
        "#not equal      : !=\n",
        "#greater than   : >\n",
        "#less than      : <\n",
        "#greater than or equal to : >=\n",
        "#less than or equal to    : <="
      ],
      "metadata": {
        "id": "Dj2hyVMxWUjU"
      },
      "execution_count": null,
      "outputs": []
    },
    {
      "cell_type": "code",
      "source": [
        "#Equal True\n",
        "\n",
        "a = 12\n",
        "a == 12"
      ],
      "metadata": {
        "colab": {
          "base_uri": "https://localhost:8080/"
        },
        "id": "8Cu3WlqzRRHC",
        "outputId": "9ab87b9a-f525-4183-b733-4e0c6385f545"
      },
      "execution_count": null,
      "outputs": [
        {
          "output_type": "execute_result",
          "data": {
            "text/plain": [
              "True"
            ]
          },
          "metadata": {},
          "execution_count": 3
        }
      ]
    },
    {
      "cell_type": "code",
      "execution_count": null,
      "metadata": {
        "colab": {
          "base_uri": "https://localhost:8080/"
        },
        "id": "o5Qfq5WnQzBc",
        "outputId": "ac8adcd8-5912-4c67-fbdd-b356e4eb59e1"
      },
      "outputs": [
        {
          "output_type": "execute_result",
          "data": {
            "text/plain": [
              "False"
            ]
          },
          "metadata": {},
          "execution_count": 1
        }
      ],
      "source": [
        "#Equal False\n",
        "\n",
        "a = 4\n",
        "a == 3"
      ]
    },
    {
      "cell_type": "code",
      "source": [
        "#Not Equal True\n",
        "\n",
        "i = 11\n",
        "i != 12"
      ],
      "metadata": {
        "colab": {
          "base_uri": "https://localhost:8080/"
        },
        "id": "stkzvLwtRHfK",
        "outputId": "4b5711ce-d3c1-4a23-c5dd-7cc9bc844db7"
      },
      "execution_count": null,
      "outputs": [
        {
          "output_type": "execute_result",
          "data": {
            "text/plain": [
              "True"
            ]
          },
          "metadata": {},
          "execution_count": 1
        }
      ]
    },
    {
      "cell_type": "code",
      "source": [
        "#Not Equal False\n",
        "\n",
        "i = 9\n",
        "i != 9"
      ],
      "metadata": {
        "colab": {
          "base_uri": "https://localhost:8080/"
        },
        "id": "hP5YKrWLRxFi",
        "outputId": "cad30feb-062e-4e92-fccc-462d13065f58"
      },
      "execution_count": null,
      "outputs": [
        {
          "output_type": "execute_result",
          "data": {
            "text/plain": [
              "False"
            ]
          },
          "metadata": {},
          "execution_count": 2
        }
      ]
    },
    {
      "cell_type": "code",
      "source": [
        "#Greater than / lebih dari\n",
        "\n",
        "i = 6\n",
        "i > 5"
      ],
      "metadata": {
        "colab": {
          "base_uri": "https://localhost:8080/"
        },
        "id": "bFeLL0CmQ_yD",
        "outputId": "7e3ea0b9-a11c-4711-e620-9adfc8a7e1ac"
      },
      "execution_count": null,
      "outputs": [
        {
          "output_type": "execute_result",
          "data": {
            "text/plain": [
              "True"
            ]
          },
          "metadata": {},
          "execution_count": 4
        }
      ]
    },
    {
      "cell_type": "code",
      "source": [
        "#Greater than / lebih dari\n",
        "\n",
        "i = 2\n",
        "i > 5"
      ],
      "metadata": {
        "colab": {
          "base_uri": "https://localhost:8080/"
        },
        "id": "YZV3BU5qRg__",
        "outputId": "d99f9ac5-e4cf-49d8-ee1a-fe3417b7f6a4"
      },
      "execution_count": null,
      "outputs": [
        {
          "output_type": "execute_result",
          "data": {
            "text/plain": [
              "False"
            ]
          },
          "metadata": {},
          "execution_count": 5
        }
      ]
    },
    {
      "cell_type": "code",
      "source": [
        "#Less than / kurang dari\n",
        "\n",
        "x = 2\n",
        "x < 4"
      ],
      "metadata": {
        "colab": {
          "base_uri": "https://localhost:8080/"
        },
        "id": "BC6lIzM4xGyt",
        "outputId": "bf1947cc-02fe-48a0-e983-11e04bef3364"
      },
      "execution_count": null,
      "outputs": [
        {
          "output_type": "execute_result",
          "data": {
            "text/plain": [
              "True"
            ]
          },
          "metadata": {},
          "execution_count": 3
        }
      ]
    },
    {
      "cell_type": "code",
      "source": [
        "#Less than / kurang dari\n",
        "\n",
        "x = 2\n",
        "x < 1"
      ],
      "metadata": {
        "colab": {
          "base_uri": "https://localhost:8080/"
        },
        "id": "EtoAvGxGxPuI",
        "outputId": "66973aeb-3ee9-41ee-95f3-7d4322779df5"
      },
      "execution_count": null,
      "outputs": [
        {
          "output_type": "execute_result",
          "data": {
            "text/plain": [
              "False"
            ]
          },
          "metadata": {},
          "execution_count": 4
        }
      ]
    },
    {
      "cell_type": "code",
      "source": [
        "#Greater than or equal to / lebih besar atau sama dengan\n",
        "\n",
        "x = 9\n",
        "x >= 9"
      ],
      "metadata": {
        "colab": {
          "base_uri": "https://localhost:8080/"
        },
        "id": "1URZKb31ySKU",
        "outputId": "48ebd20e-91b9-4bae-9633-3b6a5e4ba70e"
      },
      "execution_count": null,
      "outputs": [
        {
          "output_type": "execute_result",
          "data": {
            "text/plain": [
              "True"
            ]
          },
          "metadata": {},
          "execution_count": 6
        }
      ]
    },
    {
      "cell_type": "code",
      "source": [
        "#Greater than or equal to / lebih besar atau sama dengan\n",
        "\n",
        "x = 9\n",
        "x >= 1"
      ],
      "metadata": {
        "colab": {
          "base_uri": "https://localhost:8080/"
        },
        "id": "up-sZdSRyR5J",
        "outputId": "24f65e94-b879-4111-b7ff-7a311b9cc730"
      },
      "execution_count": null,
      "outputs": [
        {
          "output_type": "execute_result",
          "data": {
            "text/plain": [
              "True"
            ]
          },
          "metadata": {},
          "execution_count": 8
        }
      ]
    },
    {
      "cell_type": "code",
      "source": [
        "#Greater than or equal to / lebih besar atau sama dengan\n",
        "\n",
        "x = 9\n",
        "x >= 10"
      ],
      "metadata": {
        "colab": {
          "base_uri": "https://localhost:8080/"
        },
        "id": "yUvVQ2cM0iGR",
        "outputId": "92508997-e42d-4174-c290-f3996b959846"
      },
      "execution_count": null,
      "outputs": [
        {
          "output_type": "execute_result",
          "data": {
            "text/plain": [
              "False"
            ]
          },
          "metadata": {},
          "execution_count": 9
        }
      ]
    },
    {
      "cell_type": "code",
      "source": [
        "#Less than or equal to / lebih kecil atau sama dengan\n",
        "\n",
        "y = 5\n",
        "y <= 5"
      ],
      "metadata": {
        "colab": {
          "base_uri": "https://localhost:8080/"
        },
        "id": "Ml3-XNuMyRuM",
        "outputId": "dfd5f22d-712a-45d4-d0b9-6b47521080d1"
      },
      "execution_count": null,
      "outputs": [
        {
          "output_type": "execute_result",
          "data": {
            "text/plain": [
              "True"
            ]
          },
          "metadata": {},
          "execution_count": 10
        }
      ]
    },
    {
      "cell_type": "code",
      "source": [
        "#Less than or equal to / lebih kecil atau sama dengan\n",
        "\n",
        "y = 5\n",
        "y <= 10"
      ],
      "metadata": {
        "colab": {
          "base_uri": "https://localhost:8080/"
        },
        "id": "oAxvF2bYyRhb",
        "outputId": "cecfc03b-1c52-4170-c4d7-876b1804b1a4"
      },
      "execution_count": null,
      "outputs": [
        {
          "output_type": "execute_result",
          "data": {
            "text/plain": [
              "True"
            ]
          },
          "metadata": {},
          "execution_count": 12
        }
      ]
    },
    {
      "cell_type": "code",
      "source": [
        "#Less than or equal to / lebih kecil atau sama dengan\n",
        "\n",
        "y = 5\n",
        "y <= 0"
      ],
      "metadata": {
        "colab": {
          "base_uri": "https://localhost:8080/"
        },
        "id": "FkJdcHQG1tWv",
        "outputId": "93b0e53c-35da-4bdc-b943-76e0060f8741"
      },
      "execution_count": null,
      "outputs": [
        {
          "output_type": "execute_result",
          "data": {
            "text/plain": [
              "False"
            ]
          },
          "metadata": {},
          "execution_count": 13
        }
      ]
    },
    {
      "cell_type": "code",
      "source": [
        "#Equal str\n",
        "\n",
        "'bumi' == 'bumi'"
      ],
      "metadata": {
        "colab": {
          "base_uri": "https://localhost:8080/"
        },
        "id": "F1OppLAf3cyx",
        "outputId": "143d1a75-9b06-4894-ffb0-ec23ed9d4b28"
      },
      "execution_count": null,
      "outputs": [
        {
          "output_type": "execute_result",
          "data": {
            "text/plain": [
              "True"
            ]
          },
          "metadata": {},
          "execution_count": 14
        }
      ]
    },
    {
      "cell_type": "code",
      "source": [
        "#Equal str\n",
        "\n",
        "'Bumi' == 'bumi'"
      ],
      "metadata": {
        "colab": {
          "base_uri": "https://localhost:8080/"
        },
        "id": "p4nAzifu34Gg",
        "outputId": "1fd78564-0acc-46a2-a05a-acb341969e27"
      },
      "execution_count": null,
      "outputs": [
        {
          "output_type": "execute_result",
          "data": {
            "text/plain": [
              "False"
            ]
          },
          "metadata": {},
          "execution_count": 15
        }
      ]
    },
    {
      "cell_type": "code",
      "source": [
        "'ACDC' == 'Michael Jackson'"
      ],
      "metadata": {
        "colab": {
          "base_uri": "https://localhost:8080/"
        },
        "id": "2JSxp5DhR3U2",
        "outputId": "e210c678-b1aa-47c9-b404-04645465016d"
      },
      "execution_count": null,
      "outputs": [
        {
          "output_type": "execute_result",
          "data": {
            "text/plain": [
              "False"
            ]
          },
          "metadata": {},
          "execution_count": 9
        }
      ]
    },
    {
      "cell_type": "code",
      "source": [
        "#Not equal str\n",
        "\n",
        "'ACDC' != 'Michael Jackson'"
      ],
      "metadata": {
        "colab": {
          "base_uri": "https://localhost:8080/"
        },
        "id": "Ytxv6bewR_fe",
        "outputId": "6f000cc8-ea9b-4973-9bae-d846afda7b66"
      },
      "execution_count": null,
      "outputs": [
        {
          "output_type": "execute_result",
          "data": {
            "text/plain": [
              "True"
            ]
          },
          "metadata": {},
          "execution_count": 10
        }
      ]
    },
    {
      "cell_type": "code",
      "source": [
        "#Not equal str\n",
        "\n",
        "'ACDC' != 'ACDC'"
      ],
      "metadata": {
        "colab": {
          "base_uri": "https://localhost:8080/"
        },
        "id": "GmqY7QbM4kKp",
        "outputId": "3900e3d7-9904-4d1e-d294-217bd6d26590"
      },
      "execution_count": null,
      "outputs": [
        {
          "output_type": "execute_result",
          "data": {
            "text/plain": [
              "False"
            ]
          },
          "metadata": {},
          "execution_count": 16
        }
      ]
    },
    {
      "cell_type": "code",
      "source": [
        "#Greater than\n",
        "#kode ASCII ! = 33\n",
        "#kode ASCII + = 43\n",
        "\n",
        "'+' > '!'"
      ],
      "metadata": {
        "colab": {
          "base_uri": "https://localhost:8080/"
        },
        "id": "EIsGEJ055loV",
        "outputId": "da28afc7-d8b2-4981-d64e-0588933fe442"
      },
      "execution_count": null,
      "outputs": [
        {
          "output_type": "execute_result",
          "data": {
            "text/plain": [
              "True"
            ]
          },
          "metadata": {},
          "execution_count": 1
        }
      ]
    },
    {
      "cell_type": "code",
      "source": [
        "#Greater than\n",
        "#kode ASCII ! = 33\n",
        "#kode ASCII + = 43\n",
        "\n",
        "'!' > '+'"
      ],
      "metadata": {
        "colab": {
          "base_uri": "https://localhost:8080/"
        },
        "id": "hjrM5rjdke0v",
        "outputId": "3aa2cb0b-6541-4fd5-d2f3-ad4f844c0c2a"
      },
      "execution_count": null,
      "outputs": [
        {
          "output_type": "execute_result",
          "data": {
            "text/plain": [
              "False"
            ]
          },
          "metadata": {},
          "execution_count": 3
        }
      ]
    },
    {
      "cell_type": "code",
      "source": [
        "'B' > 'A'"
      ],
      "metadata": {
        "colab": {
          "base_uri": "https://localhost:8080/"
        },
        "id": "NZx5yHCtSELi",
        "outputId": "2fa5f603-f337-40a6-cf1d-f10192ae798b"
      },
      "execution_count": null,
      "outputs": [
        {
          "output_type": "execute_result",
          "data": {
            "text/plain": [
              "True"
            ]
          },
          "metadata": {},
          "execution_count": 12
        }
      ]
    },
    {
      "cell_type": "code",
      "source": [
        "'BA' > 'AB'"
      ],
      "metadata": {
        "colab": {
          "base_uri": "https://localhost:8080/"
        },
        "id": "2uPn2DeYSILS",
        "outputId": "2575a9a2-3f4c-4a4f-e7be-376aa0e5c806"
      },
      "execution_count": null,
      "outputs": [
        {
          "output_type": "execute_result",
          "data": {
            "text/plain": [
              "True"
            ]
          },
          "metadata": {},
          "execution_count": 13
        }
      ]
    },
    {
      "cell_type": "code",
      "source": [
        "#Less than\n",
        "#kode ASCII A = 101\n",
        "#kode ASCII B = 102\n",
        "\n",
        "'A' < 'B'"
      ],
      "metadata": {
        "colab": {
          "base_uri": "https://localhost:8080/"
        },
        "id": "9R7J3vJ5jyPo",
        "outputId": "30c35e7f-63cb-4b1e-93a4-9ae107feaca4"
      },
      "execution_count": null,
      "outputs": [
        {
          "output_type": "execute_result",
          "data": {
            "text/plain": [
              "True"
            ]
          },
          "metadata": {},
          "execution_count": 2
        }
      ]
    },
    {
      "cell_type": "code",
      "source": [
        "#Less than\n",
        "#kode ASCII A = 101\n",
        "#kode ASCII B = 102\n",
        "\n",
        "'B' < 'A'"
      ],
      "metadata": {
        "colab": {
          "base_uri": "https://localhost:8080/"
        },
        "id": "p26Pa701lAJG",
        "outputId": "9f4ce166-c036-4258-91db-4aef8fe921c6"
      },
      "execution_count": null,
      "outputs": [
        {
          "output_type": "execute_result",
          "data": {
            "text/plain": [
              "False"
            ]
          },
          "metadata": {},
          "execution_count": 8
        }
      ]
    },
    {
      "cell_type": "code",
      "source": [
        "'ba' >= 'ba'"
      ],
      "metadata": {
        "colab": {
          "base_uri": "https://localhost:8080/"
        },
        "id": "S0HnLQ1vSNMa",
        "outputId": "0b2a22f1-89b9-44b4-bf16-d7675c94f484"
      },
      "execution_count": null,
      "outputs": [
        {
          "output_type": "execute_result",
          "data": {
            "text/plain": [
              "True"
            ]
          },
          "metadata": {},
          "execution_count": 14
        }
      ]
    },
    {
      "cell_type": "markdown",
      "source": [
        "**branching**"
      ],
      "metadata": {
        "id": "oAqBQkQ7STZy"
      }
    },
    {
      "cell_type": "code",
      "source": [
        "#if statement\n",
        "\n",
        "#misal, isikan nilai variabel umur = 19\n",
        "umur = 19\n",
        "\n",
        "if umur > 18:\n",
        "    print('silahkan masuk')"
      ],
      "metadata": {
        "colab": {
          "base_uri": "https://localhost:8080/"
        },
        "id": "O4Z3-9JJ-xq2",
        "outputId": "6a06b2d4-2487-4e46-f053-139eabca70a4"
      },
      "execution_count": null,
      "outputs": [
        {
          "output_type": "stream",
          "name": "stdout",
          "text": [
            "silahkan masuk\n"
          ]
        }
      ]
    },
    {
      "cell_type": "code",
      "source": [
        "#if statement\n",
        "\n",
        "#misal, isikan nilai variabel umur = 18\n",
        "umur = 18\n",
        "\n",
        "if umur > 18:\n",
        "    print('silahkan masuk dan selamat menonton')\n",
        "\n",
        "print('mohon tinggalkan tempat ini')"
      ],
      "metadata": {
        "colab": {
          "base_uri": "https://localhost:8080/"
        },
        "id": "t4xj1DbbSP7K",
        "outputId": "092a890a-ff85-49d0-f5fd-55cec29d4648"
      },
      "execution_count": null,
      "outputs": [
        {
          "output_type": "stream",
          "name": "stdout",
          "text": [
            "mohon tinggalkan tempat ini\n"
          ]
        }
      ]
    },
    {
      "cell_type": "code",
      "source": [
        "#else statement\n",
        "\n",
        "#misal, nilai variabel umur = 17\n",
        "umur = 17\n",
        "\n",
        "if umur > 18:\n",
        "    print('silahkan masuk')\n",
        "else:\n",
        "    print('menonton konser Meat Loaf')\n",
        "\n",
        "print('selamat menonton')"
      ],
      "metadata": {
        "colab": {
          "base_uri": "https://localhost:8080/"
        },
        "id": "OClDNH0YH6CA",
        "outputId": "0589adbe-e98f-4959-cee4-882085016dd9"
      },
      "execution_count": null,
      "outputs": [
        {
          "output_type": "stream",
          "name": "stdout",
          "text": [
            "menonton konser Meat Loaf\n",
            "selamat menonton\n"
          ]
        }
      ]
    },
    {
      "cell_type": "code",
      "source": [
        "#else statement\n",
        "\n",
        "#misal, nilai variabel umur = 19\n",
        "umur = 19\n",
        "\n",
        "if umur > 18:\n",
        "    print('silahkan masuk')\n",
        "else:\n",
        "    print('menonton konser Meat Loaf')\n",
        "\n",
        "print('selamat menonton')"
      ],
      "metadata": {
        "colab": {
          "base_uri": "https://localhost:8080/"
        },
        "id": "nbCqOqu5OPj8",
        "outputId": "fe6a0da1-0c71-4982-a098-2a716091a2b5"
      },
      "execution_count": null,
      "outputs": [
        {
          "output_type": "stream",
          "name": "stdout",
          "text": [
            "silahkan masuk\n",
            "selamat menonton\n"
          ]
        }
      ]
    },
    {
      "cell_type": "code",
      "source": [
        "#elif statement\n",
        "\n",
        "#masukkan nilai variabel umur = 18\n",
        "umur = 18\n",
        "\n",
        "if umur > 18:\n",
        "    print('silahkan masuk ke konser ACDC')\n",
        "elif umur == 18:\n",
        "    print('menonton konser Pink Floyd')\n",
        "else:\n",
        "    print('menonton konser Meat Loaf')\n",
        "\n",
        "print('selamat menonton')"
      ],
      "metadata": {
        "colab": {
          "base_uri": "https://localhost:8080/"
        },
        "id": "VnxYZoiWKPp-",
        "outputId": "c1c7d358-7d7a-4b25-fe2b-f6934daf1b58"
      },
      "execution_count": null,
      "outputs": [
        {
          "output_type": "stream",
          "name": "stdout",
          "text": [
            "menonton konser Pink Floyd\n",
            "selamat menonton\n"
          ]
        }
      ]
    },
    {
      "cell_type": "markdown",
      "source": [
        "# operator logika"
      ],
      "metadata": {
        "id": "KMIGsWI3UoO6"
      }
    },
    {
      "cell_type": "code",
      "source": [
        "album_year = 1983\n",
        "\n",
        "if album_year > 1980:\n",
        "    print('Album year is greather than 1980')\n",
        "\n",
        "print('Do something...')"
      ],
      "metadata": {
        "colab": {
          "base_uri": "https://localhost:8080/"
        },
        "id": "cDfotwdwThbI",
        "outputId": "8297b9e5-dc4a-4815-b58f-8a1fc6ad1965"
      },
      "execution_count": null,
      "outputs": [
        {
          "output_type": "stream",
          "name": "stdout",
          "text": [
            "Album year is greather than 1980\n",
            "Do something...\n"
          ]
        }
      ]
    },
    {
      "cell_type": "code",
      "source": [
        "album_year = 1970\n",
        "\n",
        "if album_year > 1980:\n",
        "    print('Album year is greather than 1980')\n",
        "else:\n",
        "    print('Less than 1980')\n",
        "\n",
        "print ('Do something...')"
      ],
      "metadata": {
        "colab": {
          "base_uri": "https://localhost:8080/"
        },
        "id": "53MpebAlUD3K",
        "outputId": "556a8ad4-99ed-4739-ab60-dc7c7b1846df"
      },
      "execution_count": 1,
      "outputs": [
        {
          "output_type": "stream",
          "name": "stdout",
          "text": [
            "Less than 1980\n",
            "Do something...\n"
          ]
        }
      ]
    },
    {
      "cell_type": "code",
      "source": [
        "#program untuk menentukan tahun rilis album 80-an\n",
        "#dengan menggunakan operator and\n",
        "\n",
        "album_rilis = 1980\n",
        "\n",
        "if(album_rilis > 1979) and (album_rilis < 1998):\n",
        "    print('Album rilis di antara tahun 1980 dan 1989')\n",
        "\n",
        "print('')\n",
        "print('Lakukan sesuatu')"
      ],
      "metadata": {
        "colab": {
          "base_uri": "https://localhost:8080/"
        },
        "id": "2YG_dLwgUmTp",
        "outputId": "de05279d-9452-4fbb-8ca3-64fca79d306c"
      },
      "execution_count": 2,
      "outputs": [
        {
          "output_type": "stream",
          "name": "stdout",
          "text": [
            "Album rilis di antara tahun 1980 dan 1989\n",
            "\n",
            "Lakukan sesuatu\n"
          ]
        }
      ]
    },
    {
      "cell_type": "code",
      "source": [
        "#program untuk menentukan suatu album bukan album tahun 80-an\n",
        "#dengan menggunakan operator or\n",
        "\n",
        "album_rilis = 1978\n",
        "\n",
        "if (album_rilis < 1980) or (album_rilis > 1989):\n",
        "    print(\"Album ini bukan album tahun 1980-an\")\n",
        "else:\n",
        "    print(\"Album ini album tahun 1980-an\")"
      ],
      "metadata": {
        "colab": {
          "base_uri": "https://localhost:8080/"
        },
        "id": "wo7icl8sVAbH",
        "outputId": "a9cb06fd-6ce7-48ea-e8c3-44e05b60ce8e"
      },
      "execution_count": 3,
      "outputs": [
        {
          "output_type": "stream",
          "name": "stdout",
          "text": [
            "Album ini bukan album tahun 1980-an\n"
          ]
        }
      ]
    },
    {
      "cell_type": "code",
      "source": [
        "#program untuk menentukan suatu album bukan album tahun 80-an\n",
        "#dengan menggunakan operator or\n",
        "\n",
        "album_rilis = 1985\n",
        "\n",
        "if (album_rilis < 1980) or (album_rilis > 1989):\n",
        "    print(\"Album ini bukan album tahun 1980-an\")\n",
        "else:\n",
        "    print(\"Album ini album tahun 1980-an\")"
      ],
      "metadata": {
        "colab": {
          "base_uri": "https://localhost:8080/"
        },
        "id": "9xxwkHWH1wtT",
        "outputId": "21f1e2a3-3d53-4a1a-a3fc-d0b99439a9b0"
      },
      "execution_count": 4,
      "outputs": [
        {
          "output_type": "stream",
          "name": "stdout",
          "text": [
            "Album ini album tahun 1980-an\n"
          ]
        }
      ]
    },
    {
      "cell_type": "code",
      "source": [
        "#operator not\n",
        "#program untuk mengubah kondisi True menjadi False\n",
        "\n",
        "album_rilis = 1984\n",
        "\n",
        "if not (album_rilis == '1984'):\n",
        "    print(\"Album ini tidak rilis pada tahun 1984\")"
      ],
      "metadata": {
        "colab": {
          "base_uri": "https://localhost:8080/"
        },
        "id": "0NdOztE5VcoR",
        "outputId": "b91a7496-5e86-4489-ce19-3ed973b21823"
      },
      "execution_count": 7,
      "outputs": [
        {
          "output_type": "stream",
          "name": "stdout",
          "text": [
            "Album ini tidak rilis pada tahun 1984\n"
          ]
        }
      ]
    },
    {
      "cell_type": "markdown",
      "source": [
        "Quiz"
      ],
      "metadata": {
        "id": "dGiywI5wWPeU"
      }
    },
    {
      "cell_type": "markdown",
      "source": [
        "Write an if statement to determine if an album had a rating greater than 8. Test it using the rating for the album “Back in Black” that had a rating of 8.5. If the statement is true print \"This album is Amazing!\""
      ],
      "metadata": {
        "id": "mFgUobCCXAwI"
      }
    },
    {
      "cell_type": "code",
      "source": [
        "#quiz if statement\n",
        "\n",
        "rate_BiB = 8.5\n",
        "\n",
        "if rate_BiB > 8:\n",
        "    print('This album is amazing!')"
      ],
      "metadata": {
        "colab": {
          "base_uri": "https://localhost:8080/"
        },
        "id": "FEe9qtPLV6LB",
        "outputId": "d02ec379-1de4-4558-823f-3f57734457cd"
      },
      "execution_count": 8,
      "outputs": [
        {
          "output_type": "stream",
          "name": "stdout",
          "text": [
            "This album is amazing!\n"
          ]
        }
      ]
    },
    {
      "cell_type": "markdown",
      "source": [
        "Write an if-else statement that performs the following. If the rating is larger then eight print “this album is amazing”. If the rating is less than or equal to 8 print “this album is ok”."
      ],
      "metadata": {
        "id": "Ilnnjv-MYFGg"
      }
    },
    {
      "cell_type": "code",
      "source": [
        "#quiz if-else statement\n",
        "\n",
        "rate_BiB = 8.5\n",
        "\n",
        "if rate_BiB > 8:\n",
        "    print('This album is amazing!')\n",
        "else:\n",
        "    print('This album is ok')"
      ],
      "metadata": {
        "colab": {
          "base_uri": "https://localhost:8080/"
        },
        "id": "pz2QCJhJYEr5",
        "outputId": "e854efa3-1240-4c85-e6bf-5b62b2d1f3ff"
      },
      "execution_count": 10,
      "outputs": [
        {
          "output_type": "stream",
          "name": "stdout",
          "text": [
            "This album is amazing!\n"
          ]
        }
      ]
    },
    {
      "cell_type": "markdown",
      "source": [
        "Write an if statement to determine if an album came out before 1980 or in the years: 1991 or 1993. If the condition is true print out the year the album came out."
      ],
      "metadata": {
        "id": "8W772hp8ZCwg"
      }
    },
    {
      "cell_type": "code",
      "source": [
        "#quiz if statement dengan operator logika or\n",
        "\n",
        "BiB_release = 1979\n",
        "\n",
        "if BiB_release  < 1980 or BiB_release  == 1993 or BiB_release  == 1995:\n",
        "    print (\"This album came out already in {}\".format(BiB_release))"
      ],
      "metadata": {
        "colab": {
          "base_uri": "https://localhost:8080/"
        },
        "id": "wsrTp8c3jJHv",
        "outputId": "2811753d-bf69-459b-b593-dabef9723e08"
      },
      "execution_count": 15,
      "outputs": [
        {
          "output_type": "stream",
          "name": "stdout",
          "text": [
            "This album came out already in 1979\n"
          ]
        }
      ]
    },
    {
      "cell_type": "markdown",
      "source": [
        "# Exercise"
      ],
      "metadata": {
        "id": "8y5dObUKWzcR"
      }
    },
    {
      "cell_type": "markdown",
      "source": [
        "# 1"
      ],
      "metadata": {
        "id": "xY-xYxEZgxFn"
      }
    },
    {
      "cell_type": "code",
      "source": [
        "#program untuk mengecek boleh tidaknya membuat SIM\n",
        "#sesuai dengan umur yang disyaratkan.\n",
        "\n",
        "umur = int(input('Tolong masukan umur-mu = '))\n",
        "\n",
        "if umur >= 17:\n",
        "    print('kamu boleh membuat SIM')\n",
        "else:\n",
        "    print('kamu tidak boleh membuat SIM')"
      ],
      "metadata": {
        "colab": {
          "base_uri": "https://localhost:8080/"
        },
        "id": "FKmtYhMnf-PI",
        "outputId": "daee6a7c-dbb3-4b63-d8be-c361fae47602"
      },
      "execution_count": 23,
      "outputs": [
        {
          "output_type": "stream",
          "name": "stdout",
          "text": [
            "Tolong masukan umur-mu = 15\n",
            "kamu tidak boleh membuat SIM\n"
          ]
        }
      ]
    },
    {
      "cell_type": "markdown",
      "source": [
        "# 2"
      ],
      "metadata": {
        "id": "VKdgoKEzg1CI"
      }
    },
    {
      "cell_type": "code",
      "source": [
        "#program untuk menentukan grade nilai yang dimasukkan\n",
        "\n",
        "nilai = int(input('Masukkan nilai mu = '))\n",
        "\n",
        "if nilai >= 90:\n",
        "    print('Grade A')\n",
        "elif nilai >= 80:\n",
        "    print('Grade B+')\n",
        "elif nilai >= 70:\n",
        "    print('Grade B')\n",
        "elif nilai >= 60:\n",
        "    print('Grade C+')\n",
        "elif nilai >= 50:\n",
        "    print('Grade C')\n",
        "elif nilai >= 40:\n",
        "    print('Grade D')\n",
        "else:\n",
        "    print('Grade E')"
      ],
      "metadata": {
        "colab": {
          "base_uri": "https://localhost:8080/"
        },
        "id": "Ou3XRMUdfOow",
        "outputId": "7dce4360-cf02-4fc7-e864-e4b826603f2d"
      },
      "execution_count": 27,
      "outputs": [
        {
          "output_type": "stream",
          "name": "stdout",
          "text": [
            "Masukkan nilai mu = 99\n",
            "Grade A\n"
          ]
        }
      ]
    },
    {
      "cell_type": "markdown",
      "source": [
        "# 3\n"
      ],
      "metadata": {
        "id": "36-qdWgVk53m"
      }
    },
    {
      "cell_type": "code",
      "source": [
        "#program untuk menentukan grade nilai yang dimasukkan\n",
        "\n",
        "nilai = float(input('Masukkan nilai mu = '))\n",
        "\n",
        "if (nilai >= 80.00) and (nilai <= 100.00):\n",
        "    print('Grade A')\n",
        "elif (nilai >= 77.50) and (nilai <= 79.99):\n",
        "    print('Grade A-')\n",
        "elif (nilai >= 75.00) and (nilai <= 77.49):\n",
        "    print('Grade A/B')\n",
        "elif (nilai >= 72.50) and (nilai <= 74.99):\n",
        "    print('Grade B+')\n",
        "elif (nilai >= 70.00) and (nilai <= 72.49):\n",
        "    print('Grade B')\n",
        "elif (nilai >= 67.50) and (nilai <= 69.99):\n",
        "    print('Grade B-')\n",
        "elif (nilai >= 65.00) and (nilai <= 67.49):\n",
        "    print('Grade B/C')\n",
        "elif (nilai >= 62.50) and (nilai <= 64.99):\n",
        "    print('Grade C+')\n",
        "elif (nilai >= 60.00) and (nilai <= 62.49):\n",
        "    print('Grade C')\n",
        "elif (nilai >= 55.00) and (nilai <= 59.99):\n",
        "    print('Grade C-')\n",
        "elif (nilai >= 50.00) and (nilai <= 54.99):\n",
        "    print('Grade C/D')\n",
        "elif (nilai >= 45.00) and (nilai <= 49.99):\n",
        "    print('Grade D+')\n",
        "elif (nilai >= 40.00) and (nilai <= 44.99):\n",
        "    print('Grade D')\n",
        "else:\n",
        "    print('Grade E')"
      ],
      "metadata": {
        "colab": {
          "base_uri": "https://localhost:8080/"
        },
        "id": "wjB_7s6uk5nf",
        "outputId": "b5ef60fa-3084-49dd-a8a5-3edee93d06ec"
      },
      "execution_count": 22,
      "outputs": [
        {
          "output_type": "stream",
          "name": "stdout",
          "text": [
            "Masukkan nilai mu = 92\n",
            "Grade A\n"
          ]
        }
      ]
    }
  ]
}