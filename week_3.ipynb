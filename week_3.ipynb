{
  "nbformat": 4,
  "nbformat_minor": 0,
  "metadata": {
    "colab": {
      "provenance": [],
      "authorship_tag": "ABX9TyNNASOAAiqrA6NxFTjCCFSr",
      "include_colab_link": true
    },
    "kernelspec": {
      "name": "python3",
      "display_name": "Python 3"
    },
    "language_info": {
      "name": "python"
    }
  },
  "cells": [
    {
      "cell_type": "markdown",
      "metadata": {
        "id": "view-in-github",
        "colab_type": "text"
      },
      "source": [
        "<a href=\"https://colab.research.google.com/github/zahrahani/hani-s-first-python/blob/main/week_3.ipynb\" target=\"_parent\"><img src=\"https://colab.research.google.com/assets/colab-badge.svg\" alt=\"Open In Colab\"/></a>"
      ]
    },
    {
      "cell_type": "code",
      "execution_count": null,
      "metadata": {
        "colab": {
          "base_uri": "https://localhost:8080/"
        },
        "id": "r7ukiENtktQk",
        "outputId": "8f626b5b-31f8-4acf-8eaa-b0e1d252265e"
      },
      "outputs": [
        {
          "output_type": "stream",
          "name": "stdout",
          "text": [
            "hani belajar Python\n"
          ]
        }
      ],
      "source": [
        " #syntax print()\n",
        "\n",
        "print('hani belajar Python')"
      ]
    },
    {
      "cell_type": "code",
      "source": [
        "#print string yang diapit tanda petik tunggal\n",
        "#menghasilkan output string 2 baris\n",
        "\n",
        "print('halo!')\n",
        "print('hari ini aku belajar Python')"
      ],
      "metadata": {
        "colab": {
          "base_uri": "https://localhost:8080/"
        },
        "id": "G2zOIzKjluJk",
        "outputId": "4827366b-6e0a-4bc9-b301-086d8d44aced"
      },
      "execution_count": null,
      "outputs": [
        {
          "output_type": "stream",
          "name": "stdout",
          "text": [
            "halo!\n",
            "hari ini aku belajar Phyton\n"
          ]
        }
      ]
    },
    {
      "cell_type": "code",
      "source": [
        "#menambahkan fungsi end= ' '\n",
        "#agar output yang dihasilkan menjadi 1 baris\n",
        "\n",
        "print('halo!', end= ' ')\n",
        "print('hari ini aku belajar Python')"
      ],
      "metadata": {
        "colab": {
          "base_uri": "https://localhost:8080/"
        },
        "id": "8yKlWxpymd-l",
        "outputId": "e16e9dc5-e482-44b6-9c44-32b6a76de83d"
      },
      "execution_count": null,
      "outputs": [
        {
          "output_type": "stream",
          "name": "stdout",
          "text": [
            "halo! hari ini aku belajar Python\n"
          ]
        }
      ]
    },
    {
      "cell_type": "code",
      "source": [
        "#output string dalam 1 baris dengan menambahkan fungsi sep= '. '\n",
        "#output menghasilkan antar string dipisah dengan tanda .\n",
        "#tanda pemisah string yang akan ditampilkan output tertulis di fungsi sep= ' ' yang diapit tanda petik tunggal pada fungsi itu\n",
        "\n",
        "print('zahra nibras hanilatifa', 'S1 teknologi informasi', 2024, sep= '. ')"
      ],
      "metadata": {
        "colab": {
          "base_uri": "https://localhost:8080/"
        },
        "id": "4NMtnKZqmsqR",
        "outputId": "82d2b716-6469-483b-dd81-9524f4fc9300"
      },
      "execution_count": null,
      "outputs": [
        {
          "output_type": "stream",
          "name": "stdout",
          "text": [
            "zahra nibras hanilatifa. S1 teknologi informasi. 2024\n"
          ]
        }
      ]
    },
    {
      "cell_type": "code",
      "source": [
        "print(2021, 'sampai', 2024, 'hani sekolah di SMKN 1 Magelang', sep= ' ')"
      ],
      "metadata": {
        "colab": {
          "base_uri": "https://localhost:8080/"
        },
        "id": "a7RQdISxpn2e",
        "outputId": "31d7ba05-0aa9-4933-a5c0-92b0dbf9d2b5"
      },
      "execution_count": null,
      "outputs": [
        {
          "output_type": "stream",
          "name": "stdout",
          "text": [
            "2021 sampai 2024 hani sekolah di SMKN 1 Magelang\n"
          ]
        }
      ]
    },
    {
      "cell_type": "code",
      "source": [
        "#print isi nilai variabel dengan memanggil variabelnya\n",
        "\n",
        "presence = 24\n",
        "number = 2420506024\n",
        "name   = \"Zahra Nibras Hanilatifa\"\n",
        "\n",
        "print(24)\n",
        "print(number)\n",
        "print(name)"
      ],
      "metadata": {
        "colab": {
          "base_uri": "https://localhost:8080/"
        },
        "id": "eNloW2szqFJv",
        "outputId": "b37965d0-6f7f-41fc-dc1b-cc3b689c8d97"
      },
      "execution_count": null,
      "outputs": [
        {
          "output_type": "stream",
          "name": "stdout",
          "text": [
            "24\n",
            "2420506024\n",
            "Zahra Nibras Hanilatifa\n"
          ]
        }
      ]
    },
    {
      "cell_type": "code",
      "source": [
        "#menggabungkan 2 string untuk dicetak sekaligus dalam 1 fungsi kode\n",
        "\n",
        "print('S1 Teknologi Informasi angkatan ke-2 ' + 'Universitas Tidar')"
      ],
      "metadata": {
        "colab": {
          "base_uri": "https://localhost:8080/"
        },
        "id": "U5NK3tZfrnRH",
        "outputId": "4bfe40c8-53ca-460a-e90a-96cb8347b18d"
      },
      "execution_count": null,
      "outputs": [
        {
          "output_type": "stream",
          "name": "stdout",
          "text": [
            "S1 Teknologi Informasi angkatan ke-2 Universitas Tidar\n"
          ]
        }
      ]
    },
    {
      "cell_type": "code",
      "source": [
        "#print isi nilai variabel dengan menggunakan format\n",
        "\n",
        "x = 12\n",
        "y = 30\n",
        "\n",
        "print('nilai x yaitu {}, sedangkan nilai y yaitu {}'.format(x,y))\n"
      ],
      "metadata": {
        "colab": {
          "base_uri": "https://localhost:8080/"
        },
        "id": "cJiYNOLhsWQH",
        "outputId": "4acce9f8-6466-4c42-f3e2-512beb03da1a"
      },
      "execution_count": null,
      "outputs": [
        {
          "output_type": "stream",
          "name": "stdout",
          "text": [
            "nilai x yaitu 12, sedangkan nilai y yaitu 30\n"
          ]
        }
      ]
    },
    {
      "cell_type": "markdown",
      "source": [
        "# **BASIC INPUT**"
      ],
      "metadata": {
        "id": "oUgM6wNztaYn"
      }
    },
    {
      "cell_type": "code",
      "source": [
        "#syntax input\n",
        "\n",
        "input(prompt)\n",
        "#prompt itu bisa diisi dengan string yang ingin kita tampilkan di layar"
      ],
      "metadata": {
        "id": "3IP-iaigtEr3"
      },
      "execution_count": null,
      "outputs": []
    },
    {
      "cell_type": "code",
      "source": [
        "#implementasi fungsi input() dengan menambahkan variabel\n",
        "#serta mencetak data dan tipe datanya\n",
        "\n",
        "name = input('Masukkan nama = ')\n",
        "num  = input('Masukkan npm = ')\n",
        "\n",
        "print('Kamu telah menambahkan nama dan npm =', name, num)\n",
        "print('Tipe data name:', type(name))\n",
        "print('Tipe data num:', type(num))"
      ],
      "metadata": {
        "colab": {
          "base_uri": "https://localhost:8080/"
        },
        "id": "HxL90p2-t9Mp",
        "outputId": "8a67805b-4b2d-401c-ad3c-f3e68656d531"
      },
      "execution_count": null,
      "outputs": [
        {
          "output_type": "stream",
          "name": "stdout",
          "text": [
            "Masukkan nama = hani\n",
            "Masukkan npm = 2420506024\n",
            "Kamu telah menambahkan nama dan npm = hani 2420506024\n",
            "Tipe data name: <class 'str'>\n",
            "Tipe data num: <class 'str'>\n"
          ]
        }
      ]
    },
    {
      "cell_type": "code",
      "source": [
        "#mengonversi tipe data num yang tadinya str ke int\n",
        "\n",
        "num = int(input('Masukkan npm = '))\n",
        "print('Tipe data num: ', type(num))"
      ],
      "metadata": {
        "colab": {
          "base_uri": "https://localhost:8080/"
        },
        "id": "_-rMK0Rqv3BX",
        "outputId": "8e8e6929-8652-4f56-950a-280bed192c20"
      },
      "execution_count": null,
      "outputs": [
        {
          "output_type": "stream",
          "name": "stdout",
          "text": [
            "Masukkan npm = 2420506024\n",
            "Tipe data num:  <class 'int'>\n"
          ]
        }
      ]
    },
    {
      "cell_type": "markdown",
      "source": [
        "# **MEMBACA FILE**"
      ],
      "metadata": {
        "id": "ki03hyRvx73N"
      }
    },
    {
      "cell_type": "code",
      "source": [
        "!pip install wget"
      ],
      "metadata": {
        "colab": {
          "base_uri": "https://localhost:8080/"
        },
        "id": "efQdwyPBw0AC",
        "outputId": "9f989f51-0f6b-488d-8fd2-1836fe6cb98e"
      },
      "execution_count": 2,
      "outputs": [
        {
          "output_type": "stream",
          "name": "stdout",
          "text": [
            "Collecting wget\n",
            "  Downloading wget-3.2.zip (10 kB)\n",
            "  Preparing metadata (setup.py) ... \u001b[?25l\u001b[?25hdone\n",
            "Building wheels for collected packages: wget\n",
            "  Building wheel for wget (setup.py) ... \u001b[?25l\u001b[?25hdone\n",
            "  Created wheel for wget: filename=wget-3.2-py3-none-any.whl size=9656 sha256=b743fbf2abf271aeda185ed4cc19cca003749e556cad00f2f26e0522b0a2cff5\n",
            "  Stored in directory: /root/.cache/pip/wheels/8b/f1/7f/5c94f0a7a505ca1c81cd1d9208ae2064675d97582078e6c769\n",
            "Successfully built wget\n",
            "Installing collected packages: wget\n",
            "Successfully installed wget-3.2\n"
          ]
        }
      ]
    },
    {
      "cell_type": "code",
      "source": [
        "# Download Example file\n",
        "!mkdir -p /resources/data\n",
        "!wget -O /resources/data/Example1.txt https://s3-api.us-geo.objectstorage.softlayer.net/cf-courses-data/CognitiveClass/PY0101EN/labs/example1.txt"
      ],
      "metadata": {
        "colab": {
          "base_uri": "https://localhost:8080/"
        },
        "id": "3qG0yORU3VjD",
        "outputId": "acd25c18-a474-4ed4-d04c-68ee7270a96e"
      },
      "execution_count": 3,
      "outputs": [
        {
          "output_type": "stream",
          "name": "stdout",
          "text": [
            "--2024-09-11 08:50:34--  https://s3-api.us-geo.objectstorage.softlayer.net/cf-courses-data/CognitiveClass/PY0101EN/labs/example1.txt\n",
            "Resolving s3-api.us-geo.objectstorage.softlayer.net (s3-api.us-geo.objectstorage.softlayer.net)... 67.228.254.196\n",
            "Connecting to s3-api.us-geo.objectstorage.softlayer.net (s3-api.us-geo.objectstorage.softlayer.net)|67.228.254.196|:443... connected.\n",
            "HTTP request sent, awaiting response... 200 OK\n",
            "Length: 45 [text/plain]\n",
            "Saving to: ‘/resources/data/Example1.txt’\n",
            "\n",
            "\r          /resource   0%[                    ]       0  --.-KB/s               \r/resources/data/Exa 100%[===================>]      45  --.-KB/s    in 0s      \n",
            "\n",
            "2024-09-11 08:50:34 (23.7 MB/s) - ‘/resources/data/Example1.txt’ saved [45/45]\n",
            "\n"
          ]
        }
      ]
    },
    {
      "cell_type": "markdown",
      "source": [
        "# **MEMBACA TEXT FILES**"
      ],
      "metadata": {
        "id": "1PJQPWYf38Ej"
      }
    },
    {
      "cell_type": "code",
      "source": [
        "#file = file object\n",
        "#open = fungsi\n",
        "#/resources/data/ = file path\n",
        "#Example1.txt = file name\n",
        "#r = mode baca untuk membaca file\n",
        "#w = mode tulis untuk menulis file"
      ],
      "metadata": {
        "id": "uf4o8IdS31OE"
      },
      "execution_count": null,
      "outputs": []
    },
    {
      "cell_type": "code",
      "source": [
        "#membuka file Example1.txt\n",
        "\n",
        "file = open(\"/resources/data/Example1.txt\", \"r\")"
      ],
      "metadata": {
        "id": "wEqi2H1A4j8G"
      },
      "execution_count": null,
      "outputs": []
    },
    {
      "cell_type": "code",
      "source": [
        "#membaca file Example1.txt\n",
        "#menambahkan mode \"r\" dalam fungsi open()\n",
        "\n",
        "example1 = \"/resources/data/Example1.txt\"\n",
        "file1 = open(example1, \"r\")"
      ],
      "metadata": {
        "id": "qhXBfQ5d4yUM"
      },
      "execution_count": null,
      "outputs": []
    },
    {
      "cell_type": "code",
      "source": [
        "#melihat atribut atau direktori yang menyimpan file file1\n",
        "\n",
        "file1.name"
      ],
      "metadata": {
        "colab": {
          "base_uri": "https://localhost:8080/",
          "height": 36
        },
        "id": "NMYRWI_d5V3h",
        "outputId": "8bebaf7d-7919-4776-dbc6-f79b1a39c7ee"
      },
      "execution_count": null,
      "outputs": [
        {
          "output_type": "execute_result",
          "data": {
            "text/plain": [
              "'/resources/data/Example1.txt'"
            ],
            "application/vnd.google.colaboratory.intrinsic+json": {
              "type": "string"
            }
          },
          "metadata": {},
          "execution_count": 9
        }
      ]
    },
    {
      "cell_type": "code",
      "source": [
        "#melihat mode file file1\n",
        "\n",
        "file1.mode"
      ],
      "metadata": {
        "colab": {
          "base_uri": "https://localhost:8080/",
          "height": 36
        },
        "id": "PJhIXO_x559y",
        "outputId": "e2fe6242-3ce4-407f-984d-ee70401bda7d"
      },
      "execution_count": null,
      "outputs": [
        {
          "output_type": "execute_result",
          "data": {
            "text/plain": [
              "'r'"
            ],
            "application/vnd.google.colaboratory.intrinsic+json": {
              "type": "string"
            }
          },
          "metadata": {},
          "execution_count": 10
        }
      ]
    },
    {
      "cell_type": "code",
      "source": [
        "#membaca isi file file1\n",
        "\n",
        "FileContent = file1.read()\n",
        "FileContent"
      ],
      "metadata": {
        "colab": {
          "base_uri": "https://localhost:8080/",
          "height": 36
        },
        "id": "ZaYgACEt581c",
        "outputId": "50b750c0-9f9b-4b68-d2df-df6ed4b79c18"
      },
      "execution_count": null,
      "outputs": [
        {
          "output_type": "execute_result",
          "data": {
            "text/plain": [
              "'This is line 1 \\nThis is line 2\\nThis is line 3'"
            ],
            "application/vnd.google.colaboratory.intrinsic+json": {
              "type": "string"
            }
          },
          "metadata": {},
          "execution_count": 11
        }
      ]
    },
    {
      "cell_type": "code",
      "source": [
        "#print isi file1 file\n",
        "\n",
        "print(FileContent)"
      ],
      "metadata": {
        "colab": {
          "base_uri": "https://localhost:8080/"
        },
        "id": "HRUpMAjb6ncB",
        "outputId": "5d86f0f8-ccf0-4918-aa10-f37e25d9b446"
      },
      "execution_count": null,
      "outputs": [
        {
          "output_type": "stream",
          "name": "stdout",
          "text": [
            "This is line 1 \n",
            "This is line 2\n",
            "This is line 3\n"
          ]
        }
      ]
    },
    {
      "cell_type": "code",
      "source": [
        "#tipe isi file\n",
        "\n",
        "type(FileContent)"
      ],
      "metadata": {
        "colab": {
          "base_uri": "https://localhost:8080/"
        },
        "id": "VhBqTNSr7OjY",
        "outputId": "202e1620-bd46-4182-c576-64c31a08c349"
      },
      "execution_count": null,
      "outputs": [
        {
          "output_type": "execute_result",
          "data": {
            "text/plain": [
              "str"
            ]
          },
          "metadata": {},
          "execution_count": 13
        }
      ]
    },
    {
      "cell_type": "code",
      "source": [
        "#jika sudah selesai, menutup/keluar file\n",
        "\n",
        "file1.close()"
      ],
      "metadata": {
        "id": "X-TnGqez7gfk"
      },
      "execution_count": null,
      "outputs": []
    },
    {
      "cell_type": "markdown",
      "source": [
        "# **A BETTER WAY TO OPEN A FILE**"
      ],
      "metadata": {
        "id": "Ro5NHswo71vj"
      }
    },
    {
      "cell_type": "code",
      "source": [
        "#membuka file1\n",
        "#membaca isi file1\n",
        "#print isi file\n",
        "\n",
        "with open(example1, \"r\") as file1:\n",
        "    FileContent = file1.read()\n",
        "    print(FileContent)"
      ],
      "metadata": {
        "colab": {
          "base_uri": "https://localhost:8080/"
        },
        "id": "HoxIG-3F79Ba",
        "outputId": "5d9aab26-55fa-4e87-8622-16aec859a4df"
      },
      "execution_count": null,
      "outputs": [
        {
          "output_type": "stream",
          "name": "stdout",
          "text": [
            "This is line 1 \n",
            "This is line 2\n",
            "This is line 3\n"
          ]
        }
      ]
    },
    {
      "cell_type": "code",
      "source": [
        "with open(example1,\"r\") as file1:\n",
        "  FileContent = file1.read()\n",
        "\n",
        "print(FileContent)"
      ],
      "metadata": {
        "colab": {
          "base_uri": "https://localhost:8080/"
        },
        "id": "ZfiKfdcq833X",
        "outputId": "fbb86930-15f5-4453-b7c4-e33dc23ecfed"
      },
      "execution_count": null,
      "outputs": [
        {
          "output_type": "stream",
          "name": "stdout",
          "text": [
            "This is line 1 \n",
            "This is line 2\n",
            "This is line 3\n"
          ]
        }
      ]
    },
    {
      "cell_type": "code",
      "source": [
        "#tutup file\n",
        "\n",
        "file1.closed"
      ],
      "metadata": {
        "colab": {
          "base_uri": "https://localhost:8080/"
        },
        "id": "oa6BNqIB8QKg",
        "outputId": "50bfd6fc-ad46-4b8d-824e-79328e14c873"
      },
      "execution_count": null,
      "outputs": [
        {
          "output_type": "execute_result",
          "data": {
            "text/plain": [
              "True"
            ]
          },
          "metadata": {},
          "execution_count": 17
        }
      ]
    },
    {
      "cell_type": "code",
      "source": [
        "#melihat informasi file\n",
        "\n",
        "print(FileContent)"
      ],
      "metadata": {
        "colab": {
          "base_uri": "https://localhost:8080/"
        },
        "id": "S9M_P4iY8md7",
        "outputId": "9ac5ce9f-e435-4208-d388-94b3c53af6e6"
      },
      "execution_count": null,
      "outputs": [
        {
          "output_type": "stream",
          "name": "stdout",
          "text": [
            "This is line 1 \n",
            "This is line 2\n",
            "This is line 3\n"
          ]
        }
      ]
    },
    {
      "cell_type": "code",
      "source": [
        "#membaca 4 karakter pertamadari isi file file1\n",
        "#menambahkan .read() dalam fungsi print\n",
        "#print\n",
        "\n",
        "with open(example1, \"r\") as file1:\n",
        "    print(file1.read(4))\n",
        "\n",
        "#output akan menampilkan banyaknya karakter yang kita minta"
      ],
      "metadata": {
        "colab": {
          "base_uri": "https://localhost:8080/"
        },
        "id": "pOVQvdDc9XgZ",
        "outputId": "d8751bed-8c32-4551-f253-4bd2ef6809dd"
      },
      "execution_count": null,
      "outputs": [
        {
          "output_type": "stream",
          "name": "stdout",
          "text": [
            "This\n"
          ]
        }
      ]
    },
    {
      "cell_type": "code",
      "source": [
        "#membaca 30 karakter dari isi file file1\n",
        "#menambahkan .read() dalam fungsi print\n",
        "\n",
        "with open(example1, \"r\") as file1:\n",
        "    print(file1.read(30))\n",
        "\n",
        "#output akan menampilkan banyaknya karakter yang kita minta"
      ],
      "metadata": {
        "colab": {
          "base_uri": "https://localhost:8080/"
        },
        "id": "49w_E57B-69G",
        "outputId": "5dd3a2a2-2412-4898-f199-d0c804c67b0e"
      },
      "execution_count": null,
      "outputs": [
        {
          "output_type": "stream",
          "name": "stdout",
          "text": [
            "This is line 1 \n",
            "This is line 2\n"
          ]
        }
      ]
    },
    {
      "cell_type": "code",
      "source": [
        "#membaca dan print isi file sesuai banyaknya karakter yang kita mau\n",
        "\n",
        "with open(example1, \"r\") as file1:\n",
        "    print(file1.read(4))\n",
        "    print(file1.read(4))\n",
        "    print(file1.read(4))\n",
        "    print(file1.read(3))"
      ],
      "metadata": {
        "colab": {
          "base_uri": "https://localhost:8080/"
        },
        "id": "Aon4SJl8_AAf",
        "outputId": "1a8ec1e0-d0e8-4923-c60f-85acbf6f713f"
      },
      "execution_count": null,
      "outputs": [
        {
          "output_type": "stream",
          "name": "stdout",
          "text": [
            "This\n",
            " is \n",
            "line\n",
            " 1 \n"
          ]
        }
      ]
    },
    {
      "cell_type": "code",
      "source": [
        "with open(example1, \"r\") as file1:\n",
        "    print(file1.read(16))\n",
        "    print(file1.read(5))\n",
        "    print(file1.read(3))\n",
        "    print(file1.read(5))\n",
        "    print(file1.read(2))\n",
        "    print(file1.read(16))"
      ],
      "metadata": {
        "colab": {
          "base_uri": "https://localhost:8080/"
        },
        "id": "PwHeYZCtE2zF",
        "outputId": "7821e3cb-a4a4-4e43-ffcf-d0ff84151b00"
      },
      "execution_count": null,
      "outputs": [
        {
          "output_type": "stream",
          "name": "stdout",
          "text": [
            "This is line 1 \n",
            "\n",
            "This \n",
            "is \n",
            "line \n",
            "2\n",
            "\n",
            "This is line 3\n"
          ]
        }
      ]
    },
    {
      "cell_type": "code",
      "source": [
        "#membaca hanya 1 baris isi file\n",
        "\n",
        "with open(example1, \"r\") as file1:\n",
        "    print(\"baris pertama: \" + file1.readline())"
      ],
      "metadata": {
        "colab": {
          "base_uri": "https://localhost:8080/"
        },
        "id": "FKJbmG1XFzuf",
        "outputId": "f3249af0-c697-4acc-bd70-e78fd9f5ac93"
      },
      "execution_count": null,
      "outputs": [
        {
          "output_type": "stream",
          "name": "stdout",
          "text": [
            "baris pertama: This is line 1 \n",
            "\n"
          ]
        }
      ]
    },
    {
      "cell_type": "code",
      "source": [
        "#membaca 2 baris isi file\n",
        "\n",
        "with open(example1, \"r\") as file1:\n",
        "    print(\"baris pertama: \" + file1.readline())\n",
        "    print(\"baris kedua  : \" + file1.readline())"
      ],
      "metadata": {
        "colab": {
          "base_uri": "https://localhost:8080/"
        },
        "outputId": "1dd3cfc7-82c5-4034-8a27-61fa87d029be",
        "id": "Qlq2fEKpkWmY"
      },
      "execution_count": null,
      "outputs": [
        {
          "output_type": "stream",
          "name": "stdout",
          "text": [
            "baris pertama: This is line 1 \n",
            "\n",
            "baris kedua  : This is line 2\n",
            "\n"
          ]
        }
      ]
    },
    {
      "cell_type": "code",
      "source": [
        "#mengulang tiap baris dengan menggunakan loop\n",
        "\n",
        "with open(example1, 'r') as file1:\n",
        "        i = 0;\n",
        "        for line in file1:\n",
        "            print('Iteration', str(i), ': ', line)\n",
        "            i = i + 1"
      ],
      "metadata": {
        "colab": {
          "base_uri": "https://localhost:8080/"
        },
        "id": "oWo58uXvG5bR",
        "outputId": "6a0230b3-91c0-4396-8893-e29484be9bb2"
      },
      "execution_count": null,
      "outputs": [
        {
          "output_type": "stream",
          "name": "stdout",
          "text": [
            "Iteration 0 :  This is line 1 \n",
            "\n",
            "Iteration 1 :  This is line 2\n",
            "\n",
            "Iteration 2 :  This is line 3\n"
          ]
        }
      ]
    },
    {
      "cell_type": "code",
      "source": [
        "#menyimpan isi file dengan menggunakan .readlines()\n",
        "\n",
        "with open(example1, \"r\") as file1:\n",
        "    FileasList = file1.readlines()"
      ],
      "metadata": {
        "id": "_fAWMwe7Hk_Q"
      },
      "execution_count": null,
      "outputs": []
    },
    {
      "cell_type": "code",
      "source": [
        "#lihat baris pertama\n",
        "\n",
        "FileasList[0]"
      ],
      "metadata": {
        "colab": {
          "base_uri": "https://localhost:8080/",
          "height": 36
        },
        "id": "lsLREqLZICzG",
        "outputId": "6b57e8a3-7a4e-4786-fc37-f8a1108dc2a7"
      },
      "execution_count": null,
      "outputs": [
        {
          "output_type": "execute_result",
          "data": {
            "text/plain": [
              "'This is line 1 \\n'"
            ],
            "application/vnd.google.colaboratory.intrinsic+json": {
              "type": "string"
            }
          },
          "metadata": {},
          "execution_count": 27
        }
      ]
    },
    {
      "cell_type": "code",
      "source": [
        "#lihat baris kedua\n",
        "\n",
        "FileasList[1]"
      ],
      "metadata": {
        "colab": {
          "base_uri": "https://localhost:8080/",
          "height": 36
        },
        "id": "LPqOcci7I3h-",
        "outputId": "0f5c7e62-5bc3-46e2-9f13-fc3df301affd"
      },
      "execution_count": null,
      "outputs": [
        {
          "output_type": "execute_result",
          "data": {
            "text/plain": [
              "'This is line 2\\n'"
            ],
            "application/vnd.google.colaboratory.intrinsic+json": {
              "type": "string"
            }
          },
          "metadata": {},
          "execution_count": 28
        }
      ]
    },
    {
      "cell_type": "code",
      "source": [
        "#lihat baris ketiga\n",
        "\n",
        "FileasList[2]"
      ],
      "metadata": {
        "colab": {
          "base_uri": "https://localhost:8080/",
          "height": 36
        },
        "id": "1Z69CrihI9VG",
        "outputId": "8ac89cb9-acfa-4de1-a79f-f458b09f3a01"
      },
      "execution_count": null,
      "outputs": [
        {
          "output_type": "execute_result",
          "data": {
            "text/plain": [
              "'This is line 3'"
            ],
            "application/vnd.google.colaboratory.intrinsic+json": {
              "type": "string"
            }
          },
          "metadata": {},
          "execution_count": 29
        }
      ]
    },
    {
      "cell_type": "markdown",
      "source": [
        "# **MENULIS FILE**"
      ],
      "metadata": {
        "id": "_Xsu_Dg7JB0W"
      }
    },
    {
      "cell_type": "code",
      "source": [
        "!mkdir -p /resources/data"
      ],
      "metadata": {
        "id": "H4NrK4pqI-5F"
      },
      "execution_count": null,
      "outputs": []
    },
    {
      "cell_type": "code",
      "source": [
        "#menulis satu baris isi file  ke dalam file Example2.txt\n",
        "\n",
        "with open('/resources/data/Example2.txt', 'w') as writefile:\n",
        "    writefile.write(\"This is line A\")"
      ],
      "metadata": {
        "id": "nT2_PgLTJeol"
      },
      "execution_count": null,
      "outputs": []
    },
    {
      "cell_type": "code",
      "source": [
        "#membaca file\n",
        "\n",
        "with open('/resources/data/Example2.txt', 'r') as testwritefile:\n",
        "    print(testwritefile.read())"
      ],
      "metadata": {
        "colab": {
          "base_uri": "https://localhost:8080/"
        },
        "id": "hXbj9LErJvW4",
        "outputId": "273eee13-1996-4041-d95c-8cabcf037a8d"
      },
      "execution_count": null,
      "outputs": [
        {
          "output_type": "stream",
          "name": "stdout",
          "text": [
            "This is line A\n"
          ]
        }
      ]
    },
    {
      "cell_type": "code",
      "source": [
        "with open('/resources/data/Example2.txt', 'w') as writefile:\n",
        "    writefile.write(\"This is line B\")\n",
        "    writefile.write(\"This is line C\")\n",
        "    writefile.write(\"This is line D\")"
      ],
      "metadata": {
        "id": "A2c5HnJL5T09"
      },
      "execution_count": null,
      "outputs": []
    },
    {
      "cell_type": "code",
      "source": [
        "with open('/resources/data/Example2.txt', 'r') as testwritefile:\n",
        "    print(testwritefile.read())"
      ],
      "metadata": {
        "colab": {
          "base_uri": "https://localhost:8080/"
        },
        "id": "tblH-xGO5TbT",
        "outputId": "715c886d-a846-40a1-c132-f6a1bae024ec"
      },
      "execution_count": null,
      "outputs": [
        {
          "output_type": "stream",
          "name": "stdout",
          "text": [
            "This is line BThis is line CThis is line D\n"
          ]
        }
      ]
    },
    {
      "cell_type": "code",
      "source": [
        "#menulis beberapa baris\n",
        "\n",
        "with open('/resources/data/Example2.txt', 'w') as writefile:\n",
        "    writefile.write(\"This is line B\\n\")\n",
        "    writefile.write(\"This is line C\\n\")\n",
        "    writefile.write(\"This is line D\\n\")"
      ],
      "metadata": {
        "id": "imoOcB-5Ll0W"
      },
      "execution_count": null,
      "outputs": []
    },
    {
      "cell_type": "code",
      "source": [
        "with open('/resources/data/Example2.txt', 'r') as testwritefile:\n",
        "    print(testwritefile.read())"
      ],
      "metadata": {
        "colab": {
          "base_uri": "https://localhost:8080/"
        },
        "id": "r0H33MbmNORv",
        "outputId": "370388e3-afc5-463b-d02a-270f37e6fea1"
      },
      "execution_count": null,
      "outputs": [
        {
          "output_type": "stream",
          "name": "stdout",
          "text": [
            "This is line B\n",
            "This is line C\n",
            "This is line D\n",
            "\n"
          ]
        }
      ]
    },
    {
      "cell_type": "code",
      "source": [
        "#menulis baris baru untuk isi file\n",
        "\n",
        "with open('/resources/data/Example2.txt', 'a') as testwritefile:\n",
        "    testwritefile.write(\"This is line E\")"
      ],
      "metadata": {
        "id": "9ABcjk6mOTl0"
      },
      "execution_count": null,
      "outputs": []
    },
    {
      "cell_type": "code",
      "source": [
        "#membaca isi file yang baru saja diedit\n",
        "\n",
        "with open('/resources/data/Example2.txt', 'r') as testwritefile:\n",
        "    print(testwritefile.read())"
      ],
      "metadata": {
        "colab": {
          "base_uri": "https://localhost:8080/"
        },
        "id": "3BVmJpvoAc1Y",
        "outputId": "378625bd-9331-4061-e90c-06b8e686850a"
      },
      "execution_count": null,
      "outputs": [
        {
          "output_type": "stream",
          "name": "stdout",
          "text": [
            "This is line B\n",
            "This is line C\n",
            "This is line D\n",
            "This is line E\n"
          ]
        }
      ]
    },
    {
      "cell_type": "code",
      "source": [
        "#menulis daftar/list teks\n",
        "\n",
        "Lines = [\"This is line A\\n\", \"This is line B\\n\", \"This is line C\\n\"]\n",
        "Lines"
      ],
      "metadata": {
        "colab": {
          "base_uri": "https://localhost:8080/"
        },
        "id": "MxpMxtHiBqFW",
        "outputId": "1b9149d1-c035-4824-c599-ff18cbe85b01"
      },
      "execution_count": null,
      "outputs": [
        {
          "output_type": "execute_result",
          "data": {
            "text/plain": [
              "['This is line A\\n', 'This is line B\\n', 'This is line C\\n']"
            ]
          },
          "metadata": {},
          "execution_count": 11
        }
      ]
    },
    {
      "cell_type": "code",
      "source": [
        "#menulis variabel di daftar teks file\n",
        "\n",
        "with open('Example2.txt', 'w') as writefile:\n",
        "    for line in Lines:\n",
        "        print(line)\n",
        "        writefile.write(line)"
      ],
      "metadata": {
        "colab": {
          "base_uri": "https://localhost:8080/"
        },
        "id": "8997DGzsCpGv",
        "outputId": "5574419d-eb95-46db-fb52-aa3158aeaa1d"
      },
      "execution_count": null,
      "outputs": [
        {
          "output_type": "stream",
          "name": "stdout",
          "text": [
            "This is line A\n",
            "\n",
            "This is line B\n",
            "\n",
            "This is line C\n",
            "\n"
          ]
        }
      ]
    },
    {
      "cell_type": "code",
      "source": [
        "#memastikan bahwa kita benar-benar menuliskan isi file\n",
        "#pastikan dengan mode read lalu cetak filenya\n",
        "\n",
        "with open('Example2.txt', 'r') as testwritefile:\n",
        "    print(testwritefile.read())"
      ],
      "metadata": {
        "colab": {
          "base_uri": "https://localhost:8080/"
        },
        "id": "x3VUQpleDHEo",
        "outputId": "b602e14a-0fe3-438a-bcdb-087cbe4c70b9"
      },
      "execution_count": null,
      "outputs": [
        {
          "output_type": "stream",
          "name": "stdout",
          "text": [
            "This is line A\n",
            "This is line B\n",
            "This is line C\n",
            "\n"
          ]
        }
      ]
    },
    {
      "cell_type": "code",
      "source": [
        "#menambahkan daftar teks ke dalam file dengan menggunakan a\n",
        "\n",
        "with open('Example2.txt', 'a') as testwritefile:\n",
        "    testwritefile.write(\"This is line D\\n\")"
      ],
      "metadata": {
        "id": "iETDKTb8DhBB"
      },
      "execution_count": null,
      "outputs": []
    },
    {
      "cell_type": "code",
      "source": [
        "with open('Example2.txt', 'r') as testwritefile:\n",
        "    print(testwritefile.read())"
      ],
      "metadata": {
        "colab": {
          "base_uri": "https://localhost:8080/"
        },
        "id": "QErd2svlEcCy",
        "outputId": "4fc808b1-1d45-4e94-e5b1-7997c78a8f81"
      },
      "execution_count": null,
      "outputs": [
        {
          "output_type": "stream",
          "name": "stdout",
          "text": [
            "This is line A\n",
            "This is line B\n",
            "This is line C\n",
            "This is line D\n",
            "\n"
          ]
        }
      ]
    },
    {
      "cell_type": "markdown",
      "source": [
        "# **Copy File**"
      ],
      "metadata": {
        "id": "AG3Bsp63FRmm"
      }
    },
    {
      "cell_type": "code",
      "source": [
        "#copy file Example2.txt ke Example3.txt\n",
        "\n",
        "with open('Example2.txt', 'r') as readfile:\n",
        "    with open('Example3.txt', 'w') as writefile:\n",
        "          for line in readfile:\n",
        "                writefile.write(line)"
      ],
      "metadata": {
        "id": "dLDoEhzsE_u2"
      },
      "execution_count": null,
      "outputs": []
    },
    {
      "cell_type": "code",
      "source": [
        "#membaca isi file Example3.txt\n",
        "\n",
        "with open('Example3.txt', 'r') as testwritefile:\n",
        "    print(testwritefile.read())"
      ],
      "metadata": {
        "colab": {
          "base_uri": "https://localhost:8080/"
        },
        "id": "sVV6M0IVGKw9",
        "outputId": "45506a3a-732c-4a4f-bb28-4f7c2d36dd13"
      },
      "execution_count": null,
      "outputs": [
        {
          "output_type": "stream",
          "name": "stdout",
          "text": [
            "This is line A\n",
            "This is line B\n",
            "This is line C\n",
            "This is line D\n",
            "\n"
          ]
        }
      ]
    },
    {
      "cell_type": "markdown",
      "source": [
        "# **EXERCISE**"
      ],
      "metadata": {
        "id": "LUSuqXcAJr7p"
      }
    },
    {
      "cell_type": "markdown",
      "source": [
        "**WEEKLY EXERCISE 1**"
      ],
      "metadata": {
        "id": "0KL-0pSfMJTQ"
      }
    },
    {
      "cell_type": "markdown",
      "source": [
        "1. Buatlah sebuah file .txt yang berisi biodata Anda meliputi : nama, program studi, NPM, alamat, hobi, dan email."
      ],
      "metadata": {
        "id": "5RhL5T_MLaNu"
      }
    },
    {
      "cell_type": "code",
      "source": [
        "#program untuk membuat file .txt dan menulis biodata\n",
        "\n",
        "with open('WeeklyExercise1Hani.txt', 'w') as writefile:\n",
        "    writefile.write(\"Nama          = Zahra Nibras Hanilatifa\\n\")\n",
        "    writefile.write(\"Program Studi = S1 Teknologi Informasi\\n\")\n",
        "    writefile.write(\"NPM           = 2420506024\\n\")\n",
        "    writefile.write(\"Alamat        = Dsn. Saragan 001/008 Banyurojo\\n\")\n",
        "    writefile.write(\"Hobi          = Mendengarkan musik dan nonton video kocak\\n\")\n",
        "    writefile.write(\"Email         = zahrahani003@gmail.com\")"
      ],
      "metadata": {
        "id": "UgFLPY0VIIxA"
      },
      "execution_count": null,
      "outputs": []
    },
    {
      "cell_type": "code",
      "source": [
        "#program untuk mencetak isi file .txt\n",
        "\n",
        "with open('WeeklyExercise1Hani.txt', 'r') as readfile:\n",
        "    print(readfile.read())"
      ],
      "metadata": {
        "colab": {
          "base_uri": "https://localhost:8080/"
        },
        "id": "6d0FGTPJLlm1",
        "outputId": "e663e1d0-db6c-47a1-e327-f7e4ef11f744"
      },
      "execution_count": null,
      "outputs": [
        {
          "output_type": "stream",
          "name": "stdout",
          "text": [
            "Nama          = Zahra Nibras Hanilatifa\n",
            "Program Studi = S1 Teknologi Informasi\n",
            "NPM           = 2420506024\n",
            "Alamat        = Dsn. Saragan 001/008 Banyurojo\n",
            "Hobi          = Mendengarkan musik dan nonton video kocak\n",
            "Email         = zahrahani003@gmail.com\n"
          ]
        }
      ]
    },
    {
      "cell_type": "markdown",
      "source": [
        "2. Buatlah script untuk menampilkan menampilkan nama, program studi, dan email."
      ],
      "metadata": {
        "id": "MSGkxdNSLhJm"
      }
    },
    {
      "cell_type": "code",
      "source": [
        "#program untuk menampilkan beberapa baris isi teks\n",
        "\n",
        "with open('WeeklyExercise1Hani.txt', 'r') as readfile:\n",
        "    FileasList = readfile.readlines()\n",
        "print(FileasList[0])\n",
        "print(FileasList[2])\n",
        "print(FileasList[1])\n",
        "print(FileasList[3])"
      ],
      "metadata": {
        "colab": {
          "base_uri": "https://localhost:8080/"
        },
        "id": "XSPYbH8WMFM-",
        "outputId": "dd5e03ea-22ab-477c-e9f9-8b0a09cf7cc5"
      },
      "execution_count": null,
      "outputs": [
        {
          "output_type": "stream",
          "name": "stdout",
          "text": [
            "Nama          = Zahra Nibras Hanilatifa\n",
            "\n",
            "NPM           = 2420506024\n",
            "\n",
            "Program Studi = S1 Teknologi Informasi\n",
            "\n",
            "Alamat        = Dsn. Saragan 001/008 Banyurojo\n",
            "\n"
          ]
        }
      ]
    },
    {
      "cell_type": "markdown",
      "source": [
        "3. Buatlah script untuk mengambil data nama, NPM, program studi dan alamat kemudian menyimpan dalam bentuk file txt yang baru."
      ],
      "metadata": {
        "id": "wQiRn6UfMCIz"
      }
    },
    {
      "cell_type": "code",
      "source": [
        "#program untuk mengambil data nama, NPM, program studi, dan alamat\n",
        "#dengan menggunakan loop\n",
        "\n",
        "with open('WeeklyExercise1Hani.txt', 'r') as readfile:\n",
        "    with open('Number3.txt', 'w') as writefile:\n",
        "        for line in readfile:\n",
        "            if 'Nama' in line:\n",
        "                writefile.write(line)\n",
        "            if 'NPM' in line:\n",
        "                writefile.write(line)\n",
        "            if 'Program' in line:\n",
        "                writefile.write(line)\n",
        "            if 'Alamat' in line:\n",
        "                writefile.write(line)"
      ],
      "metadata": {
        "id": "dO7FaIMSjlpF"
      },
      "execution_count": null,
      "outputs": []
    },
    {
      "cell_type": "code",
      "source": [
        "#progam untuk mencetak data yang di ambil\n",
        "\n",
        "with open('Number3.txt', 'r') as readfile:\n",
        "    print(readfile.read())"
      ],
      "metadata": {
        "colab": {
          "base_uri": "https://localhost:8080/"
        },
        "id": "QbdrgOStl1S9",
        "outputId": "5bab7245-6d82-4fb5-c344-5594e7ddd4f0"
      },
      "execution_count": null,
      "outputs": [
        {
          "output_type": "stream",
          "name": "stdout",
          "text": [
            "Nama          = Zahra Nibras Hanilatifa\n",
            "Program Studi = S1 Teknologi Informasi\n",
            "NPM           = 2420506024\n",
            "Alamat        = Dsn. Saragan 001/008 Banyurojo\n",
            "\n"
          ]
        }
      ]
    },
    {
      "cell_type": "code",
      "source": [
        "#GAGAL\n",
        "#nama[0] npm[2] prodi[1] alamat[3]\n",
        "\n",
        "with open('WeeklyExercise1Hani.txt', 'r') as readfile:\n",
        "    with open('Exercise1Number3.txt', 'w') as writefile:\n",
        "          for line in readfile:\n",
        "              writefile.write(FileasList[0])\n",
        "              writefile.write(FileasList[2])\n",
        "              writefile.write(FileasList[1])\n",
        "              writefile.write(FileasList[3])\n"
      ],
      "metadata": {
        "id": "GuXGW_gFN5tF"
      },
      "execution_count": null,
      "outputs": []
    },
    {
      "cell_type": "code",
      "source": [
        "with open('WeeklyExercise1Hani.txt', 'r') as readfile:\n",
        "    with open('Exercise1Number3.txt', 'w') as writefile:\n",
        "        print(readfile.readline())\n",
        "        print(readfile.readline())\n",
        "        print(readfile.readline())\n",
        "        print(readfile.readline())"
      ],
      "metadata": {
        "colab": {
          "base_uri": "https://localhost:8080/"
        },
        "id": "0_LmZYwvOZTh",
        "outputId": "17934252-522b-43f6-fc57-7c1fce2d03fa"
      },
      "execution_count": null,
      "outputs": [
        {
          "output_type": "stream",
          "name": "stdout",
          "text": [
            "Nama          = Zahra Nibras Hanilatifa\n",
            "\n",
            "Program Studi = S1 Teknologi Informasi\n",
            "\n",
            "NPM           = 2420506024\n",
            "\n",
            "Alamat        = Dsn. Saragan 001/008 Banyurojo\n",
            "\n"
          ]
        }
      ]
    },
    {
      "cell_type": "markdown",
      "source": [
        "**WEEKLY EXERCISE 2**"
      ],
      "metadata": {
        "id": "Z_E6d78ScINW"
      }
    },
    {
      "cell_type": "code",
      "source": [
        "print (\"Selamat datang di Toko Maju Jaya\")\n",
        "print \"Senin, 4 September 2023       13.05\")\n",
        "print(\" \"\n",
        "\n",
        "print \"DAFTAR BELANJA:\")\n",
        "item1 = \"Sabun\"\n",
        "item2 = 'Shampo'\n",
        "item3 = Mie instant\n",
        "item4 = Detergen\n",
        "harga1 = Rp 10000\n",
        "harga2 = 15000\n",
        "harga3 = Rp 5000\n",
        "harga4 = 17500\n",
        "\n",
        "total = hargga1+harga2+hargga3+harga\n",
        "\n",
        "print(item1,          = Rp  + harga1)\n",
        "print(item2, '        = Rp '+ harga2)\n",
        "print(item3,    = Rp + hargaa3)\n",
        "print(item4,       = Rp + harga)\n",
        "\n",
        "print(\" \")\n",
        "print(\"Total = Rp \"+total)\n",
        "\n",
        "with open('Kuitansi.txt', w') writefile:\n",
        "        writefiile.write(\"Selamat Datang di Toko Maju Jaya\\n\")\n",
        "        writefille.write(\" \\n\")\n",
        "        writefiile.write(\"Kuitansi - 4 Septermber 2023\\n\")\n",
        "        writefille.write(\" \\n\")\n",
        "        writefiile.write(item1+\" = Rp \" harga1+\"\\n\"\n",
        "        writefille.write(item2+\" = Rp \" harga2\")\n",
        "        writefiile.write(item3+\" = Rp \" harga3+\\n\")\n",
        "        writefille.write(item4+\" = Rp \" harga4+\"\\n)\n",
        "        writefiile.write(\" \\n\")\n",
        "        writefille.write(\"Total Belanja =\"+total"
      ],
      "metadata": {
        "id": "FrSb-zQhnO83",
        "outputId": "7cbaeda0-44e5-430e-8ffb-0894fd11ae84",
        "colab": {
          "base_uri": "https://localhost:8080/",
          "height": 106
        }
      },
      "execution_count": null,
      "outputs": [
        {
          "output_type": "error",
          "ename": "SyntaxError",
          "evalue": "unmatched ')' (<ipython-input-44-9b6cb28efc4f>, line 2)",
          "traceback": [
            "\u001b[0;36m  File \u001b[0;32m\"<ipython-input-44-9b6cb28efc4f>\"\u001b[0;36m, line \u001b[0;32m2\u001b[0m\n\u001b[0;31m    print \"Senin, 4 September 2023       13.05\")\u001b[0m\n\u001b[0m                                               ^\u001b[0m\n\u001b[0;31mSyntaxError\u001b[0m\u001b[0;31m:\u001b[0m unmatched ')'\n"
          ]
        }
      ]
    },
    {
      "cell_type": "code",
      "source": [
        "#program untuk menampilkan struk/kuitansi belanja\n",
        "\n",
        "print('Selamat Datang di Toko Maju Jaya')\n",
        "print('Senin, 4 September 2023    13.05')\n",
        "print(' ')\n",
        "\n",
        "print('Daftar Belanja:')\n",
        "#tanda ' ' untuk mengapit nilai variabel, karena bertipe str\n",
        "item1 = 'Sabun'\n",
        "item2 = 'Shampo'\n",
        "item3 = 'Mie Instant'\n",
        "item4 = 'Detergen'\n",
        "\n",
        "harga1 = 10000\n",
        "harga2 = 15000\n",
        "harga3 = 5000\n",
        "harga4 = 17500\n",
        "\n",
        "Total = harga1 + harga2 + harga3 + harga4\n",
        "\n",
        "print('Item 1 > {}       = Rp {} '.format(item1, harga1))\n",
        "print('Item 2 > {}      = Rp {} '.format(item2, harga2))\n",
        "print('Item 3 > {} = Rp {} '.format(item3, harga3))\n",
        "print('Item 4 > {}    = Rp {} '.format(item4, harga4))\n",
        "\n",
        "print(' ')\n",
        "print('   Total Belanja     = Rp', Total)"
      ],
      "metadata": {
        "colab": {
          "base_uri": "https://localhost:8080/"
        },
        "id": "akuaWQ0dEGlC",
        "outputId": "997a2923-3c7f-41f6-b1e6-a04d628af4fe"
      },
      "execution_count": 4,
      "outputs": [
        {
          "output_type": "stream",
          "name": "stdout",
          "text": [
            "Selamat Datang di Toko Maju Jaya\n",
            "Senin, 4 September 2023    13.05\n",
            " \n",
            "Daftar Belanja:\n",
            "Item 1 > Sabun       = Rp 10000 \n",
            "Item 2 > Shampo      = Rp 15000 \n",
            "Item 3 > Mie Instant = Rp 5000 \n",
            "Item 4 > Detergen    = Rp 17500 \n",
            " \n",
            "   Total Belanja     = Rp 47500\n"
          ]
        }
      ]
    },
    {
      "cell_type": "code",
      "source": [
        "#program untuk membuat file Kuitansi.txt\n",
        "\n",
        "with open('Kuitansi.txt', 'w') as writefile:\n",
        "        writefile.write('Selamat Datang di Toko Maju Jaya\\n')\n",
        "        writefile.write('\\n')\n",
        "        writefile.write('Kuitansi - 4 September 2023\\n')\n",
        "        writefile.write('\\n')\n",
        "        writefile.write('Item 1 > {} = Rp {}\\n'.format(item1, harga1))\n",
        "        writefile.write('Item 2 > {} = Rp {}\\n'.format(item2, harga2))\n",
        "        writefile.write('Item 3 > {} = Rp {}\\n'.format(item3, harga3))\n",
        "        writefile.write('Item 4 > {} = Rp {}\\n'.format(item4, harga4))\n",
        "        writefile.write('\\n')\n",
        "        writefile.write('Total Belanja = Rp {}'.format(Total))"
      ],
      "metadata": {
        "id": "Ha9piAXEn3Wc"
      },
      "execution_count": 5,
      "outputs": []
    }
  ]
}