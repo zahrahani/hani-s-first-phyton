{
  "nbformat": 4,
  "nbformat_minor": 0,
  "metadata": {
    "colab": {
      "provenance": [],
      "collapsed_sections": [
        "mbRDOLw8vAvR",
        "ZXQNTeMQVe43",
        "318-tvBkW6mc"
      ],
      "authorship_tag": "ABX9TyM3ZXaccVTVSS8pkivESs74",
      "include_colab_link": true
    },
    "kernelspec": {
      "name": "python3",
      "display_name": "Python 3"
    },
    "language_info": {
      "name": "python"
    }
  },
  "cells": [
    {
      "cell_type": "markdown",
      "metadata": {
        "id": "view-in-github",
        "colab_type": "text"
      },
      "source": [
        "<a href=\"https://colab.research.google.com/github/zahrahani/hani-s-first-python/blob/main/Week_5.ipynb\" target=\"_parent\"><img src=\"https://colab.research.google.com/assets/colab-badge.svg\" alt=\"Open In Colab\"/></a>"
      ]
    },
    {
      "cell_type": "markdown",
      "source": [
        "# Nested if"
      ],
      "metadata": {
        "id": "mbRDOLw8vAvR"
      }
    },
    {
      "cell_type": "code",
      "source": [
        "#syntax nested if\n",
        "\n",
        "if kondisi1:\n",
        "    if kondisi1_a:\n",
        "        #statement\n",
        "    elif kondisi1_b:\n",
        "        #statement\n",
        "    else:\n",
        "        #statement\n",
        "elif kondisi2:\n",
        "    if kondisi2_a:\n",
        "        #statement\n",
        "    elif kondisi2_b:\n",
        "        #statement\n",
        "    else:\n",
        "        #statement\n",
        "elif kondisi3:\n",
        "    if kondisi3_a:\n",
        "        #statement\n",
        "    elif kondisi3_b:\n",
        "        #statement\n",
        "    else:\n",
        "        #statement\n",
        "else:\n",
        "    #statement\n",
        "#dst."
      ],
      "metadata": {
        "id": "KJYGwYIMvMz4"
      },
      "execution_count": null,
      "outputs": []
    },
    {
      "cell_type": "code",
      "execution_count": null,
      "metadata": {
        "colab": {
          "base_uri": "https://localhost:8080/"
        },
        "id": "cBB-sN__TQib",
        "outputId": "0a1c9b73-b59a-41bf-ea1b-fb05d024c6e0"
      },
      "outputs": [
        {
          "output_type": "stream",
          "name": "stdout",
          "text": [
            "Input a number = 0\n",
            "The number is zero.\n"
          ]
        }
      ],
      "source": [
        "#number checker\n",
        "\n",
        "num = int(input(\"Input a number = \"))\n",
        "\n",
        "if num > 0:\n",
        "    print(\"The number is positive.\")\n",
        "else:\n",
        "    if num < 0:\n",
        "        print(\"The number is negative.\")\n",
        "    else:\n",
        "        print(\"The number is zero.\")"
      ]
    },
    {
      "cell_type": "code",
      "source": [
        "#age classifer\n",
        "\n",
        "age = int(input(\"Input your age = \"))\n",
        "\n",
        "if age >= 60:\n",
        "    print(\"You are a senior citizen.\")\n",
        "else:\n",
        "    if age >= 18:\n",
        "        print(\"You are an adult.\")\n",
        "    else:\n",
        "        print(\"You are a teenager.\")"
      ],
      "metadata": {
        "colab": {
          "base_uri": "https://localhost:8080/"
        },
        "id": "H3-aRuzgTvg4",
        "outputId": "cf4f841b-afdc-4da5-ff78-f9fdfad2140b"
      },
      "execution_count": null,
      "outputs": [
        {
          "output_type": "stream",
          "name": "stdout",
          "text": [
            "Input your age = 5\n",
            "You are a teenager.\n"
          ]
        }
      ]
    },
    {
      "cell_type": "markdown",
      "source": [
        "# Quiz Nested-If"
      ],
      "metadata": {
        "id": "HrMISSM5UKM_"
      }
    },
    {
      "cell_type": "code",
      "source": [
        "username = input(\"Enter your username: \")\n",
        "password = input(\"Enter your password: \")\n",
        "\n",
        "if username == \"admin\":\n",
        "    if password == \"password\":\n",
        "        print(\"Login successful! Welcome, admin.\")\n",
        "    elif password == \"12345\":\n",
        "        print(\"Weak password. Please reset your password.\")\n",
        "    else:\n",
        "        print(\"Incorrect password. Please try again.\")\n",
        "else:\n",
        "    if username == \"guest\":\n",
        "        if password == \"guest\":\n",
        "            print(\"Login successful! Welcome, guest.\")\n",
        "        else:\n",
        "            print(\"Incorrect password. Please try again.\")\n",
        "    else:\n",
        "        print(\"Unknown user. Please try again.\")"
      ],
      "metadata": {
        "colab": {
          "base_uri": "https://localhost:8080/"
        },
        "id": "pEDSDLEbVPF2",
        "outputId": "75693e7b-cc7f-4462-b0c8-b529fac24ea4"
      },
      "execution_count": null,
      "outputs": [
        {
          "output_type": "stream",
          "name": "stdout",
          "text": [
            "Enter your username: admin\n",
            "Enter your password: password\n",
            "Login successful! Welcome, admin.\n"
          ]
        }
      ]
    },
    {
      "cell_type": "markdown",
      "source": [
        "# Exercise 1\n",
        "Silahkan buat kode program untuk menunjukkan apakah angka yang diinputkan oleh user merupakan tahun kabisat atau tidak dengan ketentuan berikut ini :\n",
        "\n",
        "\n",
        "1.   User diminta memasukkan angka (tahun)\n",
        "2.   Program akan memproses angka yang dimasukkan kemudian akan dicek apakah tahun yang dimasukkan merupakan tahun kabisat atau bukan\n",
        "3. Program akan menampilkan angka yang dimasukkan oleh user disertai hasil pengecekan apakah merupakan tahun kabisat atau bukan tahun kabisat\n",
        "\n"
      ],
      "metadata": {
        "id": "ZXQNTeMQVe43"
      }
    },
    {
      "cell_type": "code",
      "source": [
        "#program kalkulator kabisat\n",
        "#program ini digunakan untuk menentukan tahun kabisat\n",
        "\n",
        "tahun = int(input(\"Masukkan tahun: \"))\n",
        "\n",
        "if tahun % 4 == 0:\n",
        "    if tahun % 100 == 0:\n",
        "        if tahun % 400 == 0:\n",
        "            if tahun == 0:\n",
        "               print(\"Tahun 0 bukan tahun kabisat.\")\n",
        "            else:\n",
        "               print(\"Tahun {} merupakan tahun kabisat.\".format(tahun))\n",
        "        else:\n",
        "           print(\"Tahun {} bukan tahun kabisat.\".format(tahun))\n",
        "    else:\n",
        "       print(\"Tahun {} merupakan tahun kabisat.\".format(tahun))\n",
        "else:\n",
        "   print(\"Tahun {} bukan tahun kabisat.\".format(tahun))"
      ],
      "metadata": {
        "colab": {
          "base_uri": "https://localhost:8080/"
        },
        "id": "ankttkmhVh7J",
        "outputId": "615feb3d-0f46-4d23-c29e-b120adbd707b"
      },
      "execution_count": null,
      "outputs": [
        {
          "output_type": "stream",
          "name": "stdout",
          "text": [
            "Masukkan tahun: 0\n",
            "Tahun 0 bukan tahun kabisat.\n"
          ]
        }
      ]
    },
    {
      "cell_type": "markdown",
      "source": [
        "# Exercise 2\n",
        "\n",
        "Silahkan buat kode program untuk menunjukkan angka terbesar berdasarkan 3 angka yang di inputkan oleh user dengan ketentuan berikut ini :\n",
        "\n",
        "\n",
        "1.   User diminta memasukkan angka pertama\n",
        "2.   User diminta memasukkan angka kedua\n",
        "3. User diminta memasukkan angka ketiga\n",
        "4. Program akan mengecek di antara ketiga angka yang dimasukkan, angka manakah yang nilai nya paling besar\n",
        "5. Program akan menampilkan angka pertama, angka kedua, angka ketiga, serta menampilkan pernyataan manakah angka yang paling besar di antara ketiga angka yang dimasukkan"
      ],
      "metadata": {
        "id": "KgTjypsbWCp-"
      }
    },
    {
      "cell_type": "code",
      "source": [
        "# a > b > c\n",
        "# a > c > b\n",
        "# b > a > c\n",
        "# b > c > a\n",
        "# c > a > b\n",
        "# c > b > a"
      ],
      "metadata": {
        "id": "LDnpRjuFjxFd"
      },
      "execution_count": null,
      "outputs": []
    },
    {
      "cell_type": "code",
      "source": [
        "#program untuk membandingkan 3 angka\n",
        "#dan untuk menentukan angka terbesarnya\n",
        "\n",
        "#input angka\n",
        "a = int(input(\"Masukkan angka pertama = \"))\n",
        "b = int(input(\"Masukkan angka kedua   = \"))\n",
        "c = int(input(\"Masukkan angka ketiga  = \"))\n",
        "print(\"\")\n",
        "\n",
        "#a = terbesar\n",
        "if a > b and a > c:\n",
        "  if b > c:\n",
        "     print(a, \">\", b, \">\", c)\n",
        "     print(a, \"merupakan angka terbesar\")\n",
        "  else:    #jika c > b\n",
        "     print(a, \">\", c, \">\", b)\n",
        "     print(a, \"merupakan angka terbesar\")\n",
        "\n",
        "#b = terbesar\n",
        "elif b > a and b > c:\n",
        "    if a > c:\n",
        "       print(b, \">\", a, \">\", c)\n",
        "       print(b, \"merupakan angka terbesar\")\n",
        "    else:    #jika c > a\n",
        "       print(b, \">\", c, \">\", a)\n",
        "       print(b, \"merupakan angka terbesar\")\n",
        "\n",
        "#c = terbesar\n",
        "else:\n",
        "  if c > a and c > b:\n",
        "    if a > b:\n",
        "       print(c, \">\", a, \">\", b)\n",
        "       print(c, \"merupakan angka terbesar\")\n",
        "    else:    #jika b > a\n",
        "       print(c, \">\", b, \">\", a)\n",
        "       print(c, \"merupakan angka terbesar\")"
      ],
      "metadata": {
        "colab": {
          "base_uri": "https://localhost:8080/"
        },
        "id": "HH98SjvTb0gn",
        "outputId": "6f34ae49-52e4-41ba-b85c-4fd57aa3801f"
      },
      "execution_count": 9,
      "outputs": [
        {
          "output_type": "stream",
          "name": "stdout",
          "text": [
            "Masukkan angka pertama = 2\n",
            "Masukkan angka kedua   = 1\n",
            "Masukkan angka ketiga  = 3\n",
            "\n",
            "3 > 2 > 1\n",
            "3 merupakan angka terbesar\n"
          ]
        }
      ]
    },
    {
      "cell_type": "markdown",
      "source": [
        "# Exercise 3\n",
        "\n",
        "Buatlah kode program untuk menghitung jumlah yang harus dibayarkan konsumen pusat perbelanjaan dengan ketentuan sebagai berikut :\n",
        "\n",
        "1.   Terdapat 2 jenis konsumen, yaitu member dan non member\n",
        "2.   Apabila total belanja lebih dari 100.000 maka berhak mendapatkan diskon 3 persen\n",
        "3. Apabila total belanja lebih dari 200.000 maka berhak mendapatkan diskon 4 persen\n",
        "4. Setiap pembelian yang dilakukan oleh member mendapatkan tambahan diskon 2 persen"
      ],
      "metadata": {
        "id": "318-tvBkW6mc"
      }
    },
    {
      "cell_type": "code",
      "source": [
        "#program untuk menentukan jumlah bayar\n",
        "#serta diskon konsumen member & non-member\n",
        "\n",
        "konsumen = input(\"Member atau Non Member --> \")\n",
        "print(\" \")\n",
        "totalbelanja = int(input(\"Total belanja    = Rp. \"))\n",
        "disc = 0\n",
        "\n",
        "#diskon dan total belanja\n",
        "if totalbelanja > 100000 and totalbelanja < 200001:\n",
        "    disc += 0.03\n",
        "    print(\"Diskon belanja 3%\")\n",
        "elif totalbelanja > 200000:\n",
        "      disc += 0.04\n",
        "      print(\"Diskon belanja 4 %\")\n",
        "else:\n",
        "      print(\"Diskon belanja 0 %\")\n",
        "\n",
        "#non member dan member\n",
        "if konsumen == \"Non-Member\":\n",
        "    print(\"Diskon member  0 %\")\n",
        "else:\n",
        "    if konsumen == \"Member\":\n",
        "        disc += 0.02\n",
        "        print(\"Diskon member  2 %\")\n",
        "\n",
        "#total diskon\n",
        "print(\"Total diskon     =\", int(disc * 100), \"%\")\n",
        "\n",
        "#jumlah yang harus dibayar\n",
        "jumlahbayar = int(totalbelanja - (totalbelanja * disc))\n",
        "print(\"Jumlah bayar     = Rp.\", jumlahbayar)"
      ],
      "metadata": {
        "id": "LEsvJrXubjLH"
      },
      "execution_count": null,
      "outputs": []
    },
    {
      "cell_type": "markdown",
      "source": [
        "# Exercise 4\n",
        "Buatlah kode program untuk membuat user baru pada sebuah sistem, dengan ketentuan sebagai berikut:\n",
        "'\n",
        "\n",
        "1.   User perlu memasukkan username, email, dan password\n",
        "2.   User baru hanya akan sukses dibuat apabila:\n",
        "      *   username tidak boleh kosong\n",
        "      *   terdapat \"@\" pada alamat email\n",
        "      *   panjang password lebih dari 8 karakter"
      ],
      "metadata": {
        "id": "o6hYMRPxXHS8"
      }
    },
    {
      "cell_type": "code",
      "source": [
        "#program untuk membuat user baru\n",
        "\n",
        "username = input(\"Username : \")           #input username\n",
        "if not username:                          #verifikasi username\n",
        "   print(\"Username tidak boleh kosong\")\n",
        "   print(\"Gagal membuat user!\")\n",
        "else:\n",
        "   if username:\n",
        "      email    = input(\"Email    : \")     #input email\n",
        "      if \"@\" not in email:                #verifikasi email\n",
        "         print(\"Email salah!\")\n",
        "         print(\"Gagal membuat user!\")\n",
        "      else:\n",
        "         if \"@\" in email:\n",
        "            password = input(\"Password (>8 karakter) : \")  #input password\n",
        "            if len(password) < 8:                          #verifikasi password\n",
        "               print(\"Password salah! Password harus lebih dari 8 karakter\")\n",
        "               print(\"Gagal membuat user!\")\n",
        "            else:\n",
        "               if len(password) >= 8:\n",
        "                  print(\"User baru berhasil ditambahkan!\")"
      ],
      "metadata": {
        "id": "dM5VX6cupLLA",
        "colab": {
          "base_uri": "https://localhost:8080/"
        },
        "outputId": "e0fb32fa-d4c5-4832-f5cd-22c6cd4f965a"
      },
      "execution_count": 13,
      "outputs": [
        {
          "output_type": "stream",
          "name": "stdout",
          "text": [
            "Username : hani\n",
            "Email    : hani606@gmail.com\n",
            "Password (>8 karakter) : *********\n",
            "User baru berhasil ditambahkan!\n"
          ]
        }
      ]
    }
  ]
}