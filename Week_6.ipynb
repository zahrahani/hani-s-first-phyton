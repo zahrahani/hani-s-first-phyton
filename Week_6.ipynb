{
  "nbformat": 4,
  "nbformat_minor": 0,
  "metadata": {
    "colab": {
      "provenance": [],
      "authorship_tag": "ABX9TyMVFYfF6ApNf0+C20ANPiQh",
      "include_colab_link": true
    },
    "kernelspec": {
      "name": "python3",
      "display_name": "Python 3"
    },
    "language_info": {
      "name": "python"
    }
  },
  "cells": [
    {
      "cell_type": "markdown",
      "metadata": {
        "id": "view-in-github",
        "colab_type": "text"
      },
      "source": [
        "<a href=\"https://colab.research.google.com/github/zahrahani/hani-s-first-python/blob/main/Week_6.ipynb\" target=\"_parent\"><img src=\"https://colab.research.google.com/assets/colab-badge.svg\" alt=\"Open In Colab\"/></a>"
      ]
    },
    {
      "cell_type": "markdown",
      "source": [
        "# Loops"
      ],
      "metadata": {
        "id": "SX0MnmerXhxB"
      }
    },
    {
      "cell_type": "markdown",
      "source": [
        "**range**"
      ],
      "metadata": {
        "id": "WZ9OX0_xXnW5"
      }
    },
    {
      "cell_type": "code",
      "execution_count": null,
      "metadata": {
        "colab": {
          "base_uri": "https://localhost:8080/"
        },
        "id": "51vW_eAyXcah",
        "outputId": "5861fd88-c4e9-4b90-cb15-d45533961c03"
      },
      "outputs": [
        {
          "output_type": "execute_result",
          "data": {
            "text/plain": [
              "range(0, 5)"
            ]
          },
          "metadata": {},
          "execution_count": 16
        }
      ],
      "source": [
        "range(5)"
      ]
    },
    {
      "cell_type": "code",
      "source": [
        "for i in range(5):\n",
        "    print(i)"
      ],
      "metadata": {
        "colab": {
          "base_uri": "https://localhost:8080/"
        },
        "id": "3OAYvxROkhoh",
        "outputId": "5af06416-7c61-4262-ed78-9bf65ade8091"
      },
      "execution_count": null,
      "outputs": [
        {
          "output_type": "stream",
          "name": "stdout",
          "text": [
            "0\n",
            "1\n",
            "2\n",
            "3\n",
            "4\n"
          ]
        }
      ]
    },
    {
      "cell_type": "code",
      "source": [
        "for i in range (-2, 8):\n",
        "    print(i)"
      ],
      "metadata": {
        "colab": {
          "base_uri": "https://localhost:8080/"
        },
        "id": "slSIK0KJX3ZR",
        "outputId": "2cf68aca-2d44-4a90-9c2c-cc7cba1191c9"
      },
      "execution_count": null,
      "outputs": [
        {
          "output_type": "stream",
          "name": "stdout",
          "text": [
            "-2\n",
            "-1\n",
            "0\n",
            "1\n",
            "2\n",
            "3\n",
            "4\n",
            "5\n",
            "6\n",
            "7\n"
          ]
        }
      ]
    },
    {
      "cell_type": "markdown",
      "source": [
        "**for loop**"
      ],
      "metadata": {
        "id": "UrOQ82h_6v7m"
      }
    },
    {
      "cell_type": "code",
      "source": [
        "# loop for\n",
        "# mengakses tahun yang ada di dalam daftar/list\n",
        "\n",
        "dates = [1982,1980,1973]      # daftar dates akan disimpan oleh i\n",
        "N = len(dates)                # menghitung elemen dalam daftar dates\n",
        "\n",
        "for i in range(N):            # looping setiap elemen dalam daftar dates\n",
        "    print(dates[i])"
      ],
      "metadata": {
        "colab": {
          "base_uri": "https://localhost:8080/"
        },
        "id": "ktauRrNmXtdZ",
        "outputId": "1adc3a38-b02a-4066-9d8b-0c1ef9ef8ec0"
      },
      "execution_count": null,
      "outputs": [
        {
          "output_type": "stream",
          "name": "stdout",
          "text": [
            "1982\n",
            "1980\n",
            "1973\n"
          ]
        }
      ]
    },
    {
      "cell_type": "code",
      "source": [
        "# loop for\n",
        "# mengakses tahun dalam daftar dates secara langsung\n",
        "\n",
        "for year in dates:\n",
        "    print(year)"
      ],
      "metadata": {
        "colab": {
          "base_uri": "https://localhost:8080/"
        },
        "id": "81akM3Y9YBM0",
        "outputId": "68f3ac7e-e6da-409f-f7bd-a28df3610c15"
      },
      "execution_count": null,
      "outputs": [
        {
          "output_type": "stream",
          "name": "stdout",
          "text": [
            "1982\n",
            "1980\n",
            "1973\n"
          ]
        }
      ]
    },
    {
      "cell_type": "code",
      "source": [
        "# loop for\n",
        "# mengubah elemen dalam daftar\n",
        "\n",
        "squares = ['red', 'yellow', 'green', 'purple', 'blue']\n",
        "\n",
        "for i in range(0, 5):\n",
        "    print(\"Before square\", i, \"is\", squares[i])\n",
        "    squares[i] = \"weight\"\n",
        "    print(\"After square\", i, \"is\", squares[i])"
      ],
      "metadata": {
        "colab": {
          "base_uri": "https://localhost:8080/"
        },
        "id": "5RUVRb1uYHY8",
        "outputId": "2f23f499-668c-47a1-8747-80fc43adfc88"
      },
      "execution_count": null,
      "outputs": [
        {
          "output_type": "stream",
          "name": "stdout",
          "text": [
            "Before square 0 is red\n",
            "After square 0 is weight\n",
            "Before square 1 is yellow\n",
            "After square 1 is weight\n",
            "Before square 2 is green\n",
            "After square 2 is weight\n",
            "Before square 3 is purple\n",
            "After square 3 is weight\n",
            "Before square 4 is blue\n",
            "After square 4 is weight\n"
          ]
        }
      ]
    },
    {
      "cell_type": "code",
      "source": [
        "# loop for\n",
        "# mengetahui indeks elemen dalam daftar menggunakan enumerate\n",
        "\n",
        "squares=['red', 'yellow', 'green', 'purple', 'blue']\n",
        "\n",
        "for i, square in enumerate(squares):\n",
        "    print(i, square)"
      ],
      "metadata": {
        "colab": {
          "base_uri": "https://localhost:8080/"
        },
        "id": "aVsSTXCIYMpk",
        "outputId": "ed317b6f-b910-416b-c9d8-2be67d926c6c"
      },
      "execution_count": null,
      "outputs": [
        {
          "output_type": "stream",
          "name": "stdout",
          "text": [
            "0 red\n",
            "1 yellow\n",
            "2 green\n",
            "3 purple\n",
            "4 blue\n"
          ]
        }
      ]
    },
    {
      "cell_type": "markdown",
      "source": [
        "**while loop**"
      ],
      "metadata": {
        "id": "vGETZtL1u46K"
      }
    },
    {
      "cell_type": "code",
      "source": [
        "# while loop\n",
        "# mencari tahun 1973 dan jumlah iterasi yang dibutuhkan\n",
        "\n",
        "dates = [1982, 1980, 1973, 2000]   # daftar dates menyimpan elemen tahun\n",
        "\n",
        "i = 0       # i dimulai dari 0\n",
        "year = 0    # year dimulai dari 0\n",
        "\n",
        "while (year != 1973):  # false ketika year = 1973\n",
        "    year = dates[i]    # year menyimpan nilai daftar dates elemen ke-i\n",
        "    i = i + 1          # i sebagai iterator\n",
        "    print(year)\n",
        "\n",
        "print(\"It took\", i ,\"repetitions to get out of loop.\")"
      ],
      "metadata": {
        "colab": {
          "base_uri": "https://localhost:8080/"
        },
        "id": "e4s6kqZrYVY4",
        "outputId": "9fdd85f1-97b2-447f-c5e8-6b254f37ce90"
      },
      "execution_count": null,
      "outputs": [
        {
          "output_type": "stream",
          "name": "stdout",
          "text": [
            "1982\n",
            "1980\n",
            "1973\n",
            "It took 3 repetitions to get out of loop.\n"
          ]
        }
      ]
    },
    {
      "cell_type": "markdown",
      "source": [
        "# Nested Loop"
      ],
      "metadata": {
        "id": "8jMH0NxVYf8I"
      }
    },
    {
      "cell_type": "markdown",
      "source": [
        "\n",
        "\n",
        "```\n",
        "# syntax nested loop\n",
        "\n",
        "# outer for loop\n",
        "for element in sequence\n",
        "    # inner for loop\n",
        "    for element in sequence:\n",
        "        body of inner for loop\n",
        "    body of outer for loop\n",
        "```\n",
        "\n"
      ],
      "metadata": {
        "id": "89LTQXTfeqiC"
      }
    },
    {
      "cell_type": "markdown",
      "source": [
        "## Nested for Loop"
      ],
      "metadata": {
        "id": "GjVEBFCGRS2w"
      }
    },
    {
      "cell_type": "code",
      "source": [
        "# nested loop for\n",
        "# membuat tabel perkalian\n",
        "\n",
        "for i in range (1, 11):        # membuat baris 1-10\n",
        "    for j in range(1, 11):     # membuat kolom 1-10\n",
        "        print(i * j, end=\" \")\n",
        "    print(\" \")"
      ],
      "metadata": {
        "colab": {
          "base_uri": "https://localhost:8080/"
        },
        "id": "sa9jm1UbYnrP",
        "outputId": "567cc3ff-c50d-43a2-debb-2f5ef7de3182"
      },
      "execution_count": null,
      "outputs": [
        {
          "output_type": "stream",
          "name": "stdout",
          "text": [
            "1 2 3 4 5 6 7 8 9 10  \n",
            "2 4 6 8 10 12 14 16 18 20  \n",
            "3 6 9 12 15 18 21 24 27 30  \n",
            "4 8 12 16 20 24 28 32 36 40  \n",
            "5 10 15 20 25 30 35 40 45 50  \n",
            "6 12 18 24 30 36 42 48 54 60  \n",
            "7 14 21 28 35 42 49 56 63 70  \n",
            "8 16 24 32 40 48 56 64 72 80  \n",
            "9 18 27 36 45 54 63 72 81 90  \n",
            "10 20 30 40 50 60 70 80 90 100  \n"
          ]
        }
      ]
    },
    {
      "cell_type": "code",
      "source": [
        "# nested loop (while dalam for)\n",
        "# mengulang elemen dalam daftar sebanyak 5 kali\n",
        "\n",
        "names = [\"Kelly\", \"Jessa\", \"Emma\"]\n",
        "\n",
        "for name in names:\n",
        "    count = 0\n",
        "    while count < 5:\n",
        "          print(name, end=\" \")\n",
        "          count = count + 1\n",
        "    print()"
      ],
      "metadata": {
        "colab": {
          "base_uri": "https://localhost:8080/"
        },
        "id": "-MqxtBAZY6o5",
        "outputId": "5394b08e-b51c-4c46-96b1-ccdaa06b2401"
      },
      "execution_count": null,
      "outputs": [
        {
          "output_type": "stream",
          "name": "stdout",
          "text": [
            "Kelly Kelly Kelly Kelly Kelly \n",
            "Jessa Jessa Jessa Jessa Jessa \n",
            "Emma Emma Emma Emma Emma \n"
          ]
        }
      ]
    },
    {
      "cell_type": "markdown",
      "source": [
        "**Break Nested Loop**"
      ],
      "metadata": {
        "id": "a-0EJwpwZk99"
      }
    },
    {
      "cell_type": "code",
      "source": [
        "# nested loop break\n",
        "\n",
        "for i in range(4):\n",
        "    for j in range(4):\n",
        "        if j == i:\n",
        "           break\n",
        "        print(i, j)"
      ],
      "metadata": {
        "colab": {
          "base_uri": "https://localhost:8080/"
        },
        "id": "oZLpEE3zZhIl",
        "outputId": "c26f6f8f-5d46-413f-a1ed-012897d9dd35"
      },
      "execution_count": null,
      "outputs": [
        {
          "output_type": "stream",
          "name": "stdout",
          "text": [
            "1 0\n",
            "2 0\n",
            "2 1\n",
            "3 0\n",
            "3 1\n",
            "3 2\n"
          ]
        }
      ]
    },
    {
      "cell_type": "markdown",
      "source": [
        "**Continue Nested Loop**"
      ],
      "metadata": {
        "id": "PmTWsCeeZwio"
      }
    },
    {
      "cell_type": "code",
      "source": [
        "# nested loop continue\n",
        "# untuk melewati iterasi dan pindah ke iterasi lain\n",
        "\n",
        "first = [2, 4, 6]\n",
        "second = [2, 4, 6]\n",
        "\n",
        "for i in first:\n",
        "    for j in second:\n",
        "        if i == j:\n",
        "            continue\n",
        "        print(i, '*', j, '= ', i * j)"
      ],
      "metadata": {
        "colab": {
          "base_uri": "https://localhost:8080/"
        },
        "id": "d6d-Y_puZsaI",
        "outputId": "0cdbf884-bb02-405b-d553-a53cb6ee815c"
      },
      "execution_count": null,
      "outputs": [
        {
          "output_type": "stream",
          "name": "stdout",
          "text": [
            "2 * 4 =  8\n",
            "2 * 6 =  12\n",
            "4 * 2 =  8\n",
            "4 * 6 =  24\n",
            "6 * 2 =  12\n",
            "6 * 4 =  24\n"
          ]
        }
      ]
    },
    {
      "cell_type": "markdown",
      "source": [
        "## Nested while Loop"
      ],
      "metadata": {
        "id": "-Zsbc0elZ64A"
      }
    },
    {
      "cell_type": "code",
      "source": [
        "# nested loop while\n",
        "# untuk mencetak angka 1 - 10 sebanyak 5 baris\n",
        "\n",
        "i = 1               # i untuk baris\n",
        "while i <= 5:\n",
        "    j = 1           # j untuk kolom\n",
        "    while j <= 10:\n",
        "        print(j, end='')\n",
        "        j = j + 1\n",
        "    i = i + 1\n",
        "    print()"
      ],
      "metadata": {
        "colab": {
          "base_uri": "https://localhost:8080/"
        },
        "id": "ShiVxSmRZ24g",
        "outputId": "99127fa8-51aa-4094-c292-0fd927447230"
      },
      "execution_count": null,
      "outputs": [
        {
          "output_type": "stream",
          "name": "stdout",
          "text": [
            "12345678910\n",
            "12345678910\n",
            "12345678910\n",
            "12345678910\n",
            "12345678910\n"
          ]
        }
      ]
    },
    {
      "cell_type": "code",
      "source": [
        "# nested loop (for dalam while)\n",
        "# program untuk mencetak angka sempurna\n",
        "\n",
        "print(\"Show perfect number from 1 to 100\")\n",
        "n = 2\n",
        "while n <= 100:\n",
        "      x_sum = 0\n",
        "      for i in range(1, n):\n",
        "          if n % i == 0:\n",
        "             x_sum += i\n",
        "      if x_sum == n:\n",
        "         print('Perfect number:', n)\n",
        "      n = n + 1"
      ],
      "metadata": {
        "colab": {
          "base_uri": "https://localhost:8080/"
        },
        "id": "YmK-HTjIZ_N4",
        "outputId": "72c0d841-e71a-4b8e-888d-6b8eb79bb349"
      },
      "execution_count": null,
      "outputs": [
        {
          "output_type": "stream",
          "name": "stdout",
          "text": [
            "Show perfect number from 1 to 100\n",
            "Perfect number: 6\n",
            "Perfect number: 28\n"
          ]
        }
      ]
    },
    {
      "cell_type": "markdown",
      "source": [
        "# Quiz"
      ],
      "metadata": {
        "id": "E4Tr9psPaL6o"
      }
    },
    {
      "cell_type": "code",
      "source": [
        "# loop for\n",
        "# program untuk menampilkan angka -5 sampai 5\n",
        "\n",
        "for i in range(-5, 6):\n",
        "    print(i)"
      ],
      "metadata": {
        "colab": {
          "base_uri": "https://localhost:8080/"
        },
        "id": "TRcJaX5OaF9Q",
        "outputId": "fd3f5568-9712-4672-b255-8bb670ee5ecf"
      },
      "execution_count": null,
      "outputs": [
        {
          "output_type": "stream",
          "name": "stdout",
          "text": [
            "-5\n",
            "-4\n",
            "-3\n",
            "-2\n",
            "-1\n",
            "0\n",
            "1\n",
            "2\n",
            "3\n",
            "4\n",
            "5\n"
          ]
        }
      ]
    },
    {
      "cell_type": "code",
      "source": [
        "# loop for\n",
        "# program untuk menampilkan elemen dalam daftar genres\n",
        "\n",
        "Genres = [\"Rock\",\"R&B\", \"Soundtrack\", \"R&B\", \"Soul\", \"Pop\"]\n",
        "\n",
        "for Genre in Genres:\n",
        "    print(Genre)"
      ],
      "metadata": {
        "colab": {
          "base_uri": "https://localhost:8080/"
        },
        "id": "b9hUVaOGanXv",
        "outputId": "0a1d468d-6eda-4c49-b80a-5fa074721c51"
      },
      "execution_count": 1,
      "outputs": [
        {
          "output_type": "stream",
          "name": "stdout",
          "text": [
            "Rock\n",
            "R&B\n",
            "Soundtrack\n",
            "R&B\n",
            "Soul\n",
            "Pop\n"
          ]
        }
      ]
    },
    {
      "cell_type": "code",
      "source": [
        "# loop for\n",
        "# program untuk mencetak elemen warna dalam daftar squares\n",
        "\n",
        "squares=[\"red\", \"yellow\", \"green\", \"purple\", \"blue\"]\n",
        "\n",
        "for square in squares:\n",
        "    print(square)"
      ],
      "metadata": {
        "colab": {
          "base_uri": "https://localhost:8080/"
        },
        "id": "dJj5IytpavH4",
        "outputId": "a348e554-e13d-43bd-bdb9-5b094075bd55"
      },
      "execution_count": null,
      "outputs": [
        {
          "output_type": "stream",
          "name": "stdout",
          "text": [
            "red\n",
            "yellow\n",
            "green\n",
            "purple\n",
            "blue\n"
          ]
        }
      ]
    },
    {
      "cell_type": "code",
      "source": [
        "# loop while\n",
        "# program untuk mencetak nilai rating dalam daftar PlayListRatings\n",
        "\n",
        "PlayListRatings = [10, 9.5, 10, 8, 7.5, 5, 10, 10]\n",
        "i = 1\n",
        "Rating = PlayListRatings[0]\n",
        "\n",
        "while(Rating >= 6):\n",
        "    print(Rating)\n",
        "    Rating = PlayListRatings[i]\n",
        "    i = i + 1"
      ],
      "metadata": {
        "colab": {
          "base_uri": "https://localhost:8080/"
        },
        "id": "GF-iPJUwbBFQ",
        "outputId": "25aa88ab-270d-4187-9e84-6326bb2dbe32"
      },
      "execution_count": null,
      "outputs": [
        {
          "output_type": "stream",
          "name": "stdout",
          "text": [
            "10\n",
            "9.5\n",
            "10\n",
            "8\n",
            "7.5\n"
          ]
        }
      ]
    },
    {
      "cell_type": "code",
      "source": [
        "# loop while\n",
        "# menyalin str 'orange' dari daftar squares ke daftar new_squares\n",
        "# ketentuan: jika bukan 'orange', maka loop akan berhenti dan keluar\n",
        "\n",
        "squares = [\"orange\", \"orange\", \"purple\", \"blue\", \"orange\"]\n",
        "new_squares = []\n",
        "\n",
        "i = 0\n",
        "while(squares[i] == 'orange'):\n",
        "    new_squares.append(squares[i])\n",
        "    i = i + 1\n",
        "print (new_squares)"
      ],
      "metadata": {
        "colab": {
          "base_uri": "https://localhost:8080/"
        },
        "id": "pK3NQ9lqbJmP",
        "outputId": "9539ce3e-83ba-48f4-f384-4a23339d744f"
      },
      "execution_count": 2,
      "outputs": [
        {
          "output_type": "stream",
          "name": "stdout",
          "text": [
            "['orange', 'orange']\n"
          ]
        }
      ]
    },
    {
      "cell_type": "markdown",
      "source": [
        "# Weekly Exercise"
      ],
      "metadata": {
        "id": "qK5I6OQXbSqm"
      }
    },
    {
      "cell_type": "markdown",
      "source": [
        "## Weekly Exercise 1"
      ],
      "metadata": {
        "id": "7_Aer_F3CLFh"
      }
    },
    {
      "cell_type": "code",
      "source": [
        "# program untuk menampilkan segitiga bintang\n",
        "# dengan menggunakan loop for\n",
        "\n",
        "tinggi = int(input(\"Masukkan tinggi bintang = \"))\n",
        "\n",
        "for i in range(tinggi):              # i kontrol baris\n",
        "    for j in range(tinggi - i - 1):  # j untuk kolom\n",
        "        print(\"\", end=\" \")           # cetak spasi dlm kolom\n",
        "    for k in range(i + 1):           # k untuk kolom\n",
        "        print(\"*\", end=\" \")          # cetak bintang dan spasi\n",
        "    print(\" \")                       # cetak baris baru"
      ],
      "metadata": {
        "id": "gEzERCWhmuoq",
        "colab": {
          "base_uri": "https://localhost:8080/"
        },
        "outputId": "0b854e2e-2aee-46bb-a2ba-c94e6d4ddc55"
      },
      "execution_count": 39,
      "outputs": [
        {
          "output_type": "stream",
          "name": "stdout",
          "text": [
            "Masukkan tinggi bintang = 6\n",
            "     *  \n",
            "    * *  \n",
            "   * * *  \n",
            "  * * * *  \n",
            " * * * * *  \n",
            "* * * * * *  \n"
          ]
        }
      ]
    },
    {
      "cell_type": "markdown",
      "source": [
        "## Weekly Exercise 2"
      ],
      "metadata": {
        "id": "jM_NMp3PsEMm"
      }
    },
    {
      "cell_type": "code",
      "source": [
        "# program untuk menampilkan segitiga pascal\n",
        "# dengan menggunakan loop for\n",
        "\n",
        "pascal = int(input(\"Masukkan tinggi pascal = \"))\n",
        "\n",
        "for i in range(pascal):              # i kontrol baris\n",
        "    for j in range(pascal - i - 1):  # j kontrol kolom\n",
        "      print(\"\", end=\" \")\n",
        "    C = 1\n",
        "    for j in range(i + 1):\n",
        "      print(C, \"\", end=\"\")\n",
        "      C = C * (i - j) // (j + 1)     # rumus koefisien binomial\n",
        "    print(\"\")"
      ],
      "metadata": {
        "colab": {
          "base_uri": "https://localhost:8080/"
        },
        "id": "c7cNwUONgene",
        "outputId": "066d885a-8c8b-4028-cdd4-7ff7bc5ccfa8"
      },
      "execution_count": 47,
      "outputs": [
        {
          "output_type": "stream",
          "name": "stdout",
          "text": [
            "Masukkan tinggi pascal = 5\n",
            "    1 \n",
            "   1 1 \n",
            "  1 2 1 \n",
            " 1 3 3 1 \n",
            "1 4 6 4 1 \n"
          ]
        }
      ]
    },
    {
      "cell_type": "markdown",
      "source": [
        "## Weekly Exercise 3"
      ],
      "metadata": {
        "id": "4ERmQwjvsJH2"
      }
    },
    {
      "cell_type": "code",
      "source": [
        "# program untuk menampilkan jumlah angka dalam satu baris segitiga pascal\n",
        "\n",
        "baris_ke = int(input(\"Baris segitiga pascal ke-\"))\n",
        "baris_sebelumnya = [1]\n",
        "\n",
        "for i in range(2, baris_ke + 1):\n",
        "    baris_baru = [1]\n",
        "    for j in range(1, i - 1):\n",
        "        baris_baru.append(baris_sebelumnya[j - 1] + baris_sebelumnya[j])\n",
        "    baris_baru.append(1)\n",
        "    baris_sebelumnya = baris_baru\n",
        "hasil = sum(baris_baru)\n",
        "print(\"Jumlah angka dalam satu baris segitiga pascal ke-{} yaitu {}\".format(baris_ke, hasil))"
      ],
      "metadata": {
        "colab": {
          "base_uri": "https://localhost:8080/"
        },
        "id": "qfwGxraLsbvP",
        "outputId": "adc75890-98bf-4fc1-baff-4e87e95b6aa7"
      },
      "execution_count": 56,
      "outputs": [
        {
          "output_type": "stream",
          "name": "stdout",
          "text": [
            "Baris segitiga pascal ke-3\n",
            "Jumlah angka dalam satu baris segitiga pascal ke-3 yaitu 4\n"
          ]
        }
      ]
    }
  ]
}